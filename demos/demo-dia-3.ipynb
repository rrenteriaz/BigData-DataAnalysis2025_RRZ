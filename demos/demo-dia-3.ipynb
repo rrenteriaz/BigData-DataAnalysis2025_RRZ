{
  "cells": [
    {
      "attachments": {},
      "cell_type": "markdown",
      "metadata": {
        "colab_type": "text",
        "id": "view-in-github"
      },
      "source": [
        "<a href=\"https://colab.research.google.com/github/ulises1229/DataAnalisysBigData_BLOQUE/blob/main/demos/demo-dia-3.ipynb\" target=\"_parent\"><img src=\"https://colab.research.google.com/assets/colab-badge.svg\" alt=\"Open In Colab\"/></a>"
      ]
    },
    {
      "attachments": {},
      "cell_type": "markdown",
      "metadata": {
        "id": "hYk1AFX2tKAO"
      },
      "source": [
        "# Ajustes de versiones"
      ]
    },
    {
      "cell_type": "code",
      "execution_count": null,
      "metadata": {
        "colab": {
          "base_uri": "https://localhost:8080/"
        },
        "id": "vyuHjgStFj2s",
        "outputId": "29933545-07dc-40c9-9dc7-fca21771d1a2"
      },
      "outputs": [
        {
          "name": "stdout",
          "output_type": "stream",
          "text": [
            "Reading package lists... Done\n",
            "Building dependency tree... Done\n",
            "Reading state information... Done\n",
            "The following additional packages will be installed:\n",
            "  libpython3.9-minimal libpython3.9-stdlib mailcap mime-support\n",
            "  python3.9-minimal\n",
            "Suggested packages:\n",
            "  python3.9-venv binfmt-support\n",
            "The following NEW packages will be installed:\n",
            "  libpython3.9-minimal libpython3.9-stdlib mailcap mime-support python3.9\n",
            "  python3.9-minimal\n",
            "0 upgraded, 6 newly installed, 0 to remove and 45 not upgraded.\n",
            "Need to get 5,275 kB of archives.\n",
            "After this operation, 19.4 MB of additional disk space will be used.\n",
            "Get:1 http://archive.ubuntu.com/ubuntu jammy/main amd64 mailcap all 3.70+nmu1ubuntu1 [23.8 kB]\n",
            "Get:2 http://archive.ubuntu.com/ubuntu jammy/main amd64 mime-support all 3.66 [3,696 B]\n",
            "Get:3 https://ppa.launchpadcontent.net/deadsnakes/ppa/ubuntu jammy/main amd64 libpython3.9-minimal amd64 3.9.19-1+jammy1 [835 kB]\n",
            "Get:4 https://ppa.launchpadcontent.net/deadsnakes/ppa/ubuntu jammy/main amd64 python3.9-minimal amd64 3.9.19-1+jammy1 [2,073 kB]\n",
            "Get:5 https://ppa.launchpadcontent.net/deadsnakes/ppa/ubuntu jammy/main amd64 libpython3.9-stdlib amd64 3.9.19-1+jammy1 [1,842 kB]\n",
            "Get:6 https://ppa.launchpadcontent.net/deadsnakes/ppa/ubuntu jammy/main amd64 python3.9 amd64 3.9.19-1+jammy1 [497 kB]\n",
            "Fetched 5,275 kB in 3s (1,883 kB/s)\n",
            "debconf: unable to initialize frontend: Dialog\n",
            "debconf: (No usable dialog-like program is installed, so the dialog based frontend cannot be used. at /usr/share/perl5/Debconf/FrontEnd/Dialog.pm line 78, <> line 6.)\n",
            "debconf: falling back to frontend: Readline\n",
            "debconf: unable to initialize frontend: Readline\n",
            "debconf: (This frontend requires a controlling tty.)\n",
            "debconf: falling back to frontend: Teletype\n",
            "dpkg-preconfigure: unable to re-open stdin: \n",
            "Selecting previously unselected package libpython3.9-minimal:amd64.\n",
            "(Reading database ... 123589 files and directories currently installed.)\n",
            "Preparing to unpack .../0-libpython3.9-minimal_3.9.19-1+jammy1_amd64.deb ...\n",
            "Unpacking libpython3.9-minimal:amd64 (3.9.19-1+jammy1) ...\n",
            "Selecting previously unselected package python3.9-minimal.\n",
            "Preparing to unpack .../1-python3.9-minimal_3.9.19-1+jammy1_amd64.deb ...\n",
            "Unpacking python3.9-minimal (3.9.19-1+jammy1) ...\n",
            "Selecting previously unselected package mailcap.\n",
            "Preparing to unpack .../2-mailcap_3.70+nmu1ubuntu1_all.deb ...\n",
            "Unpacking mailcap (3.70+nmu1ubuntu1) ...\n",
            "Selecting previously unselected package mime-support.\n",
            "Preparing to unpack .../3-mime-support_3.66_all.deb ...\n",
            "Unpacking mime-support (3.66) ...\n",
            "Selecting previously unselected package libpython3.9-stdlib:amd64.\n",
            "Preparing to unpack .../4-libpython3.9-stdlib_3.9.19-1+jammy1_amd64.deb ...\n",
            "Unpacking libpython3.9-stdlib:amd64 (3.9.19-1+jammy1) ...\n",
            "Selecting previously unselected package python3.9.\n",
            "Preparing to unpack .../5-python3.9_3.9.19-1+jammy1_amd64.deb ...\n",
            "Unpacking python3.9 (3.9.19-1+jammy1) ...\n",
            "Setting up libpython3.9-minimal:amd64 (3.9.19-1+jammy1) ...\n",
            "Setting up python3.9-minimal (3.9.19-1+jammy1) ...\n",
            "Setting up mailcap (3.70+nmu1ubuntu1) ...\n",
            "Setting up mime-support (3.66) ...\n",
            "Setting up libpython3.9-stdlib:amd64 (3.9.19-1+jammy1) ...\n",
            "Setting up python3.9 (3.9.19-1+jammy1) ...\n",
            "Processing triggers for man-db (2.10.2-1) ...\n",
            "update-alternatives: using /usr/bin/python3.9 to provide /usr/bin/python3 (python3) in auto mode\n",
            "There is only one alternative in link group python3 (providing /usr/bin/python3): /usr/bin/python3.9\n",
            "Nothing to configure.\n",
            "Reading package lists... Done\n",
            "Building dependency tree... Done\n",
            "Reading state information... Done\n",
            "The following additional packages will be installed:\n",
            "  python3-setuptools python3-wheel\n",
            "Suggested packages:\n",
            "  python-setuptools-doc\n",
            "The following NEW packages will be installed:\n",
            "  python3-pip python3-setuptools python3-wheel\n",
            "0 upgraded, 3 newly installed, 0 to remove and 45 not upgraded.\n",
            "Need to get 1,677 kB of archives.\n",
            "After this operation, 8,967 kB of additional disk space will be used.\n",
            "Get:1 http://archive.ubuntu.com/ubuntu jammy-updates/main amd64 python3-setuptools all 59.6.0-1.2ubuntu0.22.04.1 [339 kB]\n",
            "Get:2 http://archive.ubuntu.com/ubuntu jammy-updates/universe amd64 python3-wheel all 0.37.1-2ubuntu0.22.04.1 [32.0 kB]\n",
            "Get:3 http://archive.ubuntu.com/ubuntu jammy-updates/universe amd64 python3-pip all 22.0.2+dfsg-1ubuntu0.4 [1,305 kB]\n",
            "Fetched 1,677 kB in 0s (12.2 MB/s)\n",
            "debconf: unable to initialize frontend: Dialog\n",
            "debconf: (No usable dialog-like program is installed, so the dialog based frontend cannot be used. at /usr/share/perl5/Debconf/FrontEnd/Dialog.pm line 78, <> line 3.)\n",
            "debconf: falling back to frontend: Readline\n",
            "debconf: unable to initialize frontend: Readline\n",
            "debconf: (This frontend requires a controlling tty.)\n",
            "debconf: falling back to frontend: Teletype\n",
            "dpkg-preconfigure: unable to re-open stdin: \n",
            "Selecting previously unselected package python3-setuptools.\n",
            "(Reading database ... 124254 files and directories currently installed.)\n",
            "Preparing to unpack .../python3-setuptools_59.6.0-1.2ubuntu0.22.04.1_all.deb ...\n",
            "Unpacking python3-setuptools (59.6.0-1.2ubuntu0.22.04.1) ...\n",
            "Selecting previously unselected package python3-wheel.\n",
            "Preparing to unpack .../python3-wheel_0.37.1-2ubuntu0.22.04.1_all.deb ...\n",
            "Unpacking python3-wheel (0.37.1-2ubuntu0.22.04.1) ...\n",
            "Selecting previously unselected package python3-pip.\n",
            "Preparing to unpack .../python3-pip_22.0.2+dfsg-1ubuntu0.4_all.deb ...\n",
            "Unpacking python3-pip (22.0.2+dfsg-1ubuntu0.4) ...\n",
            "Setting up python3-setuptools (59.6.0-1.2ubuntu0.22.04.1) ...\n",
            "Setting up python3-wheel (0.37.1-2ubuntu0.22.04.1) ...\n",
            "Setting up python3-pip (22.0.2+dfsg-1ubuntu0.4) ...\n",
            "Processing triggers for man-db (2.10.2-1) ...\n",
            "Reading package lists... Done\n",
            "Building dependency tree... Done\n",
            "Reading state information... Done\n",
            "The following additional packages will be installed:\n",
            "  python3.9-lib2to3\n",
            "The following NEW packages will be installed:\n",
            "  python3.9-distutils python3.9-lib2to3\n",
            "0 upgraded, 2 newly installed, 0 to remove and 45 not upgraded.\n",
            "Need to get 319 kB of archives.\n",
            "After this operation, 1,234 kB of additional disk space will be used.\n",
            "Get:1 https://ppa.launchpadcontent.net/deadsnakes/ppa/ubuntu jammy/main amd64 python3.9-lib2to3 all 3.9.19-1+jammy1 [127 kB]\n",
            "Get:2 https://ppa.launchpadcontent.net/deadsnakes/ppa/ubuntu jammy/main amd64 python3.9-distutils all 3.9.19-1+jammy1 [193 kB]\n",
            "Fetched 319 kB in 0s (1,442 kB/s)\n",
            "debconf: unable to initialize frontend: Dialog\n",
            "debconf: (No usable dialog-like program is installed, so the dialog based frontend cannot be used. at /usr/share/perl5/Debconf/FrontEnd/Dialog.pm line 78, <> line 2.)\n",
            "debconf: falling back to frontend: Readline\n",
            "debconf: unable to initialize frontend: Readline\n",
            "debconf: (This frontend requires a controlling tty.)\n",
            "debconf: falling back to frontend: Teletype\n",
            "dpkg-preconfigure: unable to re-open stdin: \n",
            "Selecting previously unselected package python3.9-lib2to3.\n",
            "(Reading database ... 125116 files and directories currently installed.)\n",
            "Preparing to unpack .../python3.9-lib2to3_3.9.19-1+jammy1_all.deb ...\n",
            "Unpacking python3.9-lib2to3 (3.9.19-1+jammy1) ...\n",
            "Selecting previously unselected package python3.9-distutils.\n",
            "Preparing to unpack .../python3.9-distutils_3.9.19-1+jammy1_all.deb ...\n",
            "Unpacking python3.9-distutils (3.9.19-1+jammy1) ...\n",
            "Setting up python3.9-lib2to3 (3.9.19-1+jammy1) ...\n",
            "Setting up python3.9-distutils (3.9.19-1+jammy1) ...\n"
          ]
        }
      ],
      "source": [
        "!sudo apt-get install python3.9\n",
        "\n",
        "!sudo update-alternatives --install /usr/bin/python3 python3 /usr/bin/python3.9 1\n",
        "\n",
        "!sudo update-alternatives --config python3\n",
        "\n",
        "!sudo apt install python3-pip\n",
        "\n",
        "!sudo apt-get install python3.9-distutils"
      ]
    },
    {
      "cell_type": "code",
      "execution_count": null,
      "metadata": {
        "colab": {
          "base_uri": "https://localhost:8080/"
        },
        "id": "VL0LL7wpGH-I",
        "outputId": "a3f7d538-701e-47f4-e62d-cf56e162a2e4"
      },
      "outputs": [
        {
          "name": "stdout",
          "output_type": "stream",
          "text": [
            "Python 3.9.19\n"
          ]
        }
      ],
      "source": [
        "!python --version"
      ]
    },
    {
      "cell_type": "code",
      "execution_count": 2,
      "metadata": {
        "vscode": {
          "languageId": "bat"
        }
      },
      "outputs": [
        {
          "name": "stdout",
          "output_type": "stream",
          "text": [
            "Collecting pandas_datareader\n",
            "  Downloading pandas_datareader-0.10.0-py3-none-any.whl.metadata (2.9 kB)\n",
            "Collecting lxml (from pandas_datareader)\n",
            "  Downloading lxml-5.3.0-cp39-cp39-win_amd64.whl.metadata (3.9 kB)\n",
            "Requirement already satisfied: pandas>=0.23 in c:\\users\\renedelgado\\appdata\\roaming\\python\\python39\\site-packages (from pandas_datareader) (2.2.0)\n",
            "Requirement already satisfied: requests>=2.19.0 in c:\\program files\\python39\\lib\\site-packages (from pandas_datareader) (2.31.0)\n",
            "Requirement already satisfied: numpy<2,>=1.22.4 in c:\\program files\\python39\\lib\\site-packages (from pandas>=0.23->pandas_datareader) (1.26.4)\n",
            "Requirement already satisfied: python-dateutil>=2.8.2 in c:\\users\\renedelgado\\appdata\\roaming\\python\\python39\\site-packages (from pandas>=0.23->pandas_datareader) (2.8.2)\n",
            "Requirement already satisfied: pytz>=2020.1 in c:\\users\\renedelgado\\appdata\\roaming\\python\\python39\\site-packages (from pandas>=0.23->pandas_datareader) (2024.1)\n",
            "Requirement already satisfied: tzdata>=2022.7 in c:\\users\\renedelgado\\appdata\\roaming\\python\\python39\\site-packages (from pandas>=0.23->pandas_datareader) (2023.4)\n",
            "Requirement already satisfied: charset-normalizer<4,>=2 in c:\\program files\\python39\\lib\\site-packages (from requests>=2.19.0->pandas_datareader) (3.3.2)\n",
            "Requirement already satisfied: idna<4,>=2.5 in c:\\program files\\python39\\lib\\site-packages (from requests>=2.19.0->pandas_datareader) (3.6)\n",
            "Requirement already satisfied: urllib3<3,>=1.21.1 in c:\\program files\\python39\\lib\\site-packages (from requests>=2.19.0->pandas_datareader) (2.2.0)\n",
            "Requirement already satisfied: certifi>=2017.4.17 in c:\\program files\\python39\\lib\\site-packages (from requests>=2.19.0->pandas_datareader) (2024.2.2)\n",
            "Requirement already satisfied: six>=1.5 in c:\\program files\\python39\\lib\\site-packages (from python-dateutil>=2.8.2->pandas>=0.23->pandas_datareader) (1.16.0)\n",
            "Downloading pandas_datareader-0.10.0-py3-none-any.whl (109 kB)\n",
            "   ---------------------------------------- 0.0/109.5 kB ? eta -:--:--\n",
            "   -------------- ------------------------ 41.0/109.5 kB 960.0 kB/s eta 0:00:01\n",
            "   ------------------------------------- -- 102.4/109.5 kB 1.2 MB/s eta 0:00:01\n",
            "   ------------------------------------- -- 102.4/109.5 kB 1.2 MB/s eta 0:00:01\n",
            "   -------------------------------------- 109.5/109.5 kB 703.7 kB/s eta 0:00:00\n",
            "Downloading lxml-5.3.0-cp39-cp39-win_amd64.whl (3.8 MB)\n",
            "   ---------------------------------------- 0.0/3.8 MB ? eta -:--:--\n",
            "   ---------------------------------------- 0.0/3.8 MB 991.0 kB/s eta 0:00:04\n",
            "   - -------------------------------------- 0.1/3.8 MB 1.4 MB/s eta 0:00:03\n",
            "   -- ------------------------------------- 0.2/3.8 MB 1.7 MB/s eta 0:00:03\n",
            "   --- ------------------------------------ 0.3/3.8 MB 1.6 MB/s eta 0:00:03\n",
            "   --- ------------------------------------ 0.3/3.8 MB 1.5 MB/s eta 0:00:03\n",
            "   ---- ----------------------------------- 0.4/3.8 MB 1.7 MB/s eta 0:00:03\n",
            "   ----- ---------------------------------- 0.5/3.8 MB 1.6 MB/s eta 0:00:03\n",
            "   ----- ---------------------------------- 0.5/3.8 MB 1.5 MB/s eta 0:00:03\n",
            "   ------ --------------------------------- 0.6/3.8 MB 1.5 MB/s eta 0:00:03\n",
            "   ------ --------------------------------- 0.6/3.8 MB 1.4 MB/s eta 0:00:03\n",
            "   ------ --------------------------------- 0.7/3.8 MB 1.4 MB/s eta 0:00:03\n",
            "   ------ --------------------------------- 0.7/3.8 MB 1.4 MB/s eta 0:00:03\n",
            "   ------ --------------------------------- 0.7/3.8 MB 1.4 MB/s eta 0:00:03\n",
            "   ------ --------------------------------- 0.7/3.8 MB 1.4 MB/s eta 0:00:03\n",
            "   ------ --------------------------------- 0.7/3.8 MB 1.4 MB/s eta 0:00:03\n",
            "   ------ --------------------------------- 0.7/3.8 MB 1.4 MB/s eta 0:00:03\n",
            "   ------- -------------------------------- 0.7/3.8 MB 878.5 kB/s eta 0:00:04\n",
            "   ------- -------------------------------- 0.7/3.8 MB 906.9 kB/s eta 0:00:04\n",
            "   -------- ------------------------------- 0.8/3.8 MB 910.0 kB/s eta 0:00:04\n",
            "   -------- ------------------------------- 0.8/3.8 MB 910.0 kB/s eta 0:00:04\n",
            "   -------- ------------------------------- 0.8/3.8 MB 910.0 kB/s eta 0:00:04\n",
            "   -------- ------------------------------- 0.8/3.8 MB 910.0 kB/s eta 0:00:04\n",
            "   -------- ------------------------------- 0.8/3.8 MB 910.0 kB/s eta 0:00:04\n",
            "   -------- ------------------------------- 0.8/3.8 MB 739.5 kB/s eta 0:00:05\n",
            "   --------- ------------------------------ 0.9/3.8 MB 762.8 kB/s eta 0:00:04\n",
            "   ---------- ----------------------------- 1.0/3.8 MB 791.6 kB/s eta 0:00:04\n",
            "   ---------- ----------------------------- 1.0/3.8 MB 812.6 kB/s eta 0:00:04\n",
            "   ----------- ---------------------------- 1.1/3.8 MB 831.4 kB/s eta 0:00:04\n",
            "   ------------ --------------------------- 1.1/3.8 MB 855.9 kB/s eta 0:00:04\n",
            "   ------------ --------------------------- 1.2/3.8 MB 858.4 kB/s eta 0:00:04\n",
            "   ------------ --------------------------- 1.2/3.8 MB 858.4 kB/s eta 0:00:04\n",
            "   -------------- ------------------------- 1.4/3.8 MB 903.3 kB/s eta 0:00:03\n",
            "   -------------- ------------------------- 1.4/3.8 MB 909.6 kB/s eta 0:00:03\n",
            "   --------------- ------------------------ 1.5/3.8 MB 923.8 kB/s eta 0:00:03\n",
            "   --------------- ------------------------ 1.5/3.8 MB 928.6 kB/s eta 0:00:03\n",
            "   ---------------- ----------------------- 1.6/3.8 MB 930.9 kB/s eta 0:00:03\n",
            "   ----------------- ---------------------- 1.6/3.8 MB 935.2 kB/s eta 0:00:03\n",
            "   ----------------- ---------------------- 1.7/3.8 MB 939.3 kB/s eta 0:00:03\n",
            "   ------------------ --------------------- 1.7/3.8 MB 948.9 kB/s eta 0:00:03\n",
            "   ------------------ --------------------- 1.8/3.8 MB 963.4 kB/s eta 0:00:03\n",
            "   ------------------- -------------------- 1.9/3.8 MB 983.2 kB/s eta 0:00:02\n",
            "   -------------------- ------------------- 1.9/3.8 MB 985.7 kB/s eta 0:00:02\n",
            "   --------------------- ------------------ 2.0/3.8 MB 998.4 kB/s eta 0:00:02\n",
            "   --------------------- ------------------ 2.0/3.8 MB 995.5 kB/s eta 0:00:02\n",
            "   ---------------------- ----------------- 2.1/3.8 MB 997.6 kB/s eta 0:00:02\n",
            "   ---------------------- ----------------- 2.2/3.8 MB 1.0 MB/s eta 0:00:02\n",
            "   ----------------------- ---------------- 2.2/3.8 MB 1.0 MB/s eta 0:00:02\n",
            "   ----------------------- ---------------- 2.3/3.8 MB 1.0 MB/s eta 0:00:02\n",
            "   ----------------------- ---------------- 2.3/3.8 MB 1.0 MB/s eta 0:00:02\n",
            "   ------------------------- -------------- 2.4/3.8 MB 1.0 MB/s eta 0:00:02\n",
            "   -------------------------- ------------- 2.5/3.8 MB 1.0 MB/s eta 0:00:02\n",
            "   -------------------------- ------------- 2.5/3.8 MB 1.0 MB/s eta 0:00:02\n",
            "   -------------------------- ------------- 2.5/3.8 MB 1.0 MB/s eta 0:00:02\n",
            "   --------------------------- ------------ 2.6/3.8 MB 1.0 MB/s eta 0:00:02\n",
            "   --------------------------- ------------ 2.6/3.8 MB 1.0 MB/s eta 0:00:02\n",
            "   --------------------------- ------------ 2.6/3.8 MB 1.0 MB/s eta 0:00:02\n",
            "   --------------------------- ------------ 2.6/3.8 MB 1.0 MB/s eta 0:00:02\n",
            "   ------------------------------ --------- 2.9/3.8 MB 1.1 MB/s eta 0:00:01\n",
            "   ------------------------------- -------- 3.0/3.8 MB 1.1 MB/s eta 0:00:01\n",
            "   -------------------------------- ------- 3.1/3.8 MB 1.1 MB/s eta 0:00:01\n",
            "   --------------------------------- ------ 3.2/3.8 MB 1.1 MB/s eta 0:00:01\n",
            "   ---------------------------------- ----- 3.3/3.8 MB 1.1 MB/s eta 0:00:01\n",
            "   ------------------------------------ --- 3.5/3.8 MB 1.2 MB/s eta 0:00:01\n",
            "   ------------------------------------- -- 3.5/3.8 MB 1.2 MB/s eta 0:00:01\n",
            "   -------------------------------------- - 3.6/3.8 MB 1.2 MB/s eta 0:00:01\n",
            "   -------------------------------------- - 3.7/3.8 MB 1.2 MB/s eta 0:00:01\n",
            "   ---------------------------------------  3.8/3.8 MB 1.2 MB/s eta 0:00:01\n",
            "   ---------------------------------------  3.8/3.8 MB 1.2 MB/s eta 0:00:01\n",
            "   ---------------------------------------  3.8/3.8 MB 1.2 MB/s eta 0:00:01\n",
            "   ---------------------------------------  3.8/3.8 MB 1.2 MB/s eta 0:00:01\n",
            "   ---------------------------------------- 3.8/3.8 MB 1.2 MB/s eta 0:00:00\n",
            "Installing collected packages: lxml, pandas_datareader\n",
            "Successfully installed lxml-5.3.0 pandas_datareader-0.10.0\n",
            "Note: you may need to restart the kernel to use updated packages.\n"
          ]
        },
        {
          "name": "stderr",
          "output_type": "stream",
          "text": [
            "\n",
            "[notice] A new release of pip is available: 23.3.1 -> 24.2\n",
            "[notice] To update, run: python.exe -m pip install --upgrade pip\n"
          ]
        }
      ],
      "source": [
        "pip install pandas_datareader "
      ]
    },
    {
      "cell_type": "code",
      "execution_count": 3,
      "metadata": {
        "colab": {
          "base_uri": "https://localhost:8080/",
          "height": 36
        },
        "id": "xK8h27daGJyu",
        "outputId": "ccfaa455-ed54-415c-f751-bd91877f2476"
      },
      "outputs": [
        {
          "data": {
            "text/plain": [
              "'0.10.0'"
            ]
          },
          "execution_count": 3,
          "metadata": {},
          "output_type": "execute_result"
        }
      ],
      "source": [
        "import pandas_datareader as pr\n",
        "\n",
        "pr.__version__"
      ]
    },
    {
      "cell_type": "code",
      "execution_count": null,
      "metadata": {
        "colab": {
          "base_uri": "https://localhost:8080/"
        },
        "id": "OjYBE_RclcAE",
        "outputId": "425693e1-b61b-4da6-f611-98ff589655b2"
      },
      "outputs": [
        {
          "name": "stdout",
          "output_type": "stream",
          "text": [
            "\u001b[33mWARNING: Skipping pandas as it is not installed.\u001b[0m\u001b[33m\n",
            "\u001b[0m\u001b[33mWARNING: Running pip as the 'root' user can result in broken permissions and conflicting behaviour with the system package manager. It is recommended to use a virtual environment instead: https://pip.pypa.io/warnings/venv\u001b[0m\u001b[33m\n",
            "\u001b[0m"
          ]
        }
      ],
      "source": [
        "!pip uninstall pandas"
      ]
    },
    {
      "cell_type": "code",
      "execution_count": null,
      "metadata": {
        "colab": {
          "base_uri": "https://localhost:8080/"
        },
        "id": "EHEMwEinGQyM",
        "outputId": "4fcb520e-1e65-49bf-b9a3-6d895b463929"
      },
      "outputs": [
        {
          "name": "stdout",
          "output_type": "stream",
          "text": [
            "Collecting pandas==1.5.3\n",
            "  Downloading pandas-1.5.3-cp39-cp39-manylinux_2_17_x86_64.manylinux2014_x86_64.whl (12.2 MB)\n",
            "\u001b[2K     \u001b[90m━━━━━━━━━━━━━━━━━━━━━━━━━━━━━━━━━━━━━━━━\u001b[0m \u001b[32m12.2/12.2 MB\u001b[0m \u001b[31m18.3 MB/s\u001b[0m eta \u001b[36m0:00:00\u001b[0m\n",
            "\u001b[?25hCollecting numpy>=1.20.3\n",
            "  Downloading numpy-2.0.1-cp39-cp39-manylinux_2_17_x86_64.manylinux2014_x86_64.whl (19.5 MB)\n",
            "\u001b[2K     \u001b[90m━━━━━━━━━━━━━━━━━━━━━━━━━━━━━━━━━━━━━━━━\u001b[0m \u001b[32m19.5/19.5 MB\u001b[0m \u001b[31m70.2 MB/s\u001b[0m eta \u001b[36m0:00:00\u001b[0m\n",
            "\u001b[?25hCollecting pytz>=2020.1\n",
            "  Downloading pytz-2024.1-py2.py3-none-any.whl (505 kB)\n",
            "\u001b[2K     \u001b[90m━━━━━━━━━━━━━━━━━━━━━━━━━━━━━━━━━━━━━━━━\u001b[0m \u001b[32m505.5/505.5 KB\u001b[0m \u001b[31m23.6 MB/s\u001b[0m eta \u001b[36m0:00:00\u001b[0m\n",
            "\u001b[?25hCollecting python-dateutil>=2.8.1\n",
            "  Downloading python_dateutil-2.9.0.post0-py2.py3-none-any.whl (229 kB)\n",
            "\u001b[2K     \u001b[90m━━━━━━━━━━━━━━━━━━━━━━━━━━━━━━━━━━━━━━━━\u001b[0m \u001b[32m229.9/229.9 KB\u001b[0m \u001b[31m30.8 MB/s\u001b[0m eta \u001b[36m0:00:00\u001b[0m\n",
            "\u001b[?25hRequirement already satisfied: six>=1.5 in /usr/lib/python3/dist-packages (from python-dateutil>=2.8.1->pandas==1.5.3) (1.16.0)\n",
            "Installing collected packages: pytz, python-dateutil, numpy, pandas\n",
            "Successfully installed numpy-2.0.1 pandas-1.5.3 python-dateutil-2.9.0.post0 pytz-2024.1\n",
            "\u001b[33mWARNING: Running pip as the 'root' user can result in broken permissions and conflicting behaviour with the system package manager. It is recommended to use a virtual environment instead: https://pip.pypa.io/warnings/venv\u001b[0m\u001b[33m\n",
            "\u001b[0m"
          ]
        }
      ],
      "source": [
        "!pip install pandas==1.5.3"
      ]
    },
    {
      "cell_type": "code",
      "execution_count": 4,
      "metadata": {
        "colab": {
          "base_uri": "https://localhost:8080/",
          "height": 36
        },
        "id": "7VTuoP-Nju4f",
        "outputId": "0f1ba404-e1c6-4c13-91e9-fbb67a6e76bc"
      },
      "outputs": [
        {
          "data": {
            "text/plain": [
              "'2.2.0'"
            ]
          },
          "execution_count": 4,
          "metadata": {},
          "output_type": "execute_result"
        }
      ],
      "source": [
        "import pandas as pd\n",
        "pd.__version__"
      ]
    },
    {
      "attachments": {},
      "cell_type": "markdown",
      "metadata": {
        "id": "8aSwUlfvtSZO"
      },
      "source": [
        "# Análisis de acciones - Demo 1"
      ]
    },
    {
      "attachments": {},
      "cell_type": "markdown",
      "metadata": {
        "id": "88tTarxG279q"
      },
      "source": [
        "### Objetivo: Visualizar el comportamiento de las acciones a lo largo de los últimos 4 años"
      ]
    },
    {
      "cell_type": "code",
      "execution_count": 5,
      "metadata": {
        "vscode": {
          "languageId": "bat"
        }
      },
      "outputs": [
        {
          "name": "stdout",
          "output_type": "stream",
          "text": [
            "Collecting yfinance\n",
            "  Downloading yfinance-0.2.41-py2.py3-none-any.whl.metadata (11 kB)\n",
            "Requirement already satisfied: pandas>=1.3.0 in c:\\users\\renedelgado\\appdata\\roaming\\python\\python39\\site-packages (from yfinance) (2.2.0)\n",
            "Requirement already satisfied: numpy>=1.16.5 in c:\\program files\\python39\\lib\\site-packages (from yfinance) (1.26.4)\n",
            "Requirement already satisfied: requests>=2.31 in c:\\program files\\python39\\lib\\site-packages (from yfinance) (2.31.0)\n",
            "Collecting multitasking>=0.0.7 (from yfinance)\n",
            "  Downloading multitasking-0.0.11-py3-none-any.whl.metadata (5.5 kB)\n",
            "Requirement already satisfied: lxml>=4.9.1 in c:\\program files\\python39\\lib\\site-packages (from yfinance) (5.3.0)\n",
            "Requirement already satisfied: platformdirs>=2.0.0 in c:\\users\\renedelgado\\appdata\\roaming\\python\\python39\\site-packages (from yfinance) (4.2.0)\n",
            "Requirement already satisfied: pytz>=2022.5 in c:\\users\\renedelgado\\appdata\\roaming\\python\\python39\\site-packages (from yfinance) (2024.1)\n",
            "Collecting frozendict>=2.3.4 (from yfinance)\n",
            "  Downloading frozendict-2.4.4-cp39-cp39-win_amd64.whl.metadata (23 kB)\n",
            "Collecting peewee>=3.16.2 (from yfinance)\n",
            "  Downloading peewee-3.17.6.tar.gz (3.0 MB)\n",
            "     ---------------------------------------- 0.0/3.0 MB ? eta -:--:--\n",
            "      --------------------------------------- 0.0/3.0 MB 960.0 kB/s eta 0:00:04\n",
            "      --------------------------------------- 0.1/3.0 MB 812.7 kB/s eta 0:00:04\n",
            "     - -------------------------------------- 0.1/3.0 MB 901.1 kB/s eta 0:00:04\n",
            "     -- ------------------------------------- 0.2/3.0 MB 1.1 MB/s eta 0:00:03\n",
            "     --- ------------------------------------ 0.3/3.0 MB 1.1 MB/s eta 0:00:03\n",
            "     ---- ----------------------------------- 0.3/3.0 MB 1.2 MB/s eta 0:00:03\n",
            "     ---- ----------------------------------- 0.4/3.0 MB 1.1 MB/s eta 0:00:03\n",
            "     ----- ---------------------------------- 0.4/3.0 MB 1.2 MB/s eta 0:00:03\n",
            "     ------ --------------------------------- 0.5/3.0 MB 1.2 MB/s eta 0:00:03\n",
            "     ------- -------------------------------- 0.6/3.0 MB 1.2 MB/s eta 0:00:03\n",
            "     ------- -------------------------------- 0.6/3.0 MB 1.2 MB/s eta 0:00:03\n",
            "     --------- ------------------------------ 0.7/3.0 MB 1.3 MB/s eta 0:00:02\n",
            "     --------- ------------------------------ 0.7/3.0 MB 1.3 MB/s eta 0:00:02\n",
            "     ---------- ----------------------------- 0.8/3.0 MB 1.2 MB/s eta 0:00:02\n",
            "     ----------- ---------------------------- 0.8/3.0 MB 1.2 MB/s eta 0:00:02\n",
            "     ------------ --------------------------- 0.9/3.0 MB 1.2 MB/s eta 0:00:02\n",
            "     ------------- -------------------------- 1.0/3.0 MB 1.3 MB/s eta 0:00:02\n",
            "     -------------- ------------------------- 1.1/3.0 MB 1.3 MB/s eta 0:00:02\n",
            "     ---------------- ----------------------- 1.2/3.0 MB 1.4 MB/s eta 0:00:02\n",
            "     ---------------- ----------------------- 1.2/3.0 MB 1.4 MB/s eta 0:00:02\n",
            "     ---------------- ----------------------- 1.2/3.0 MB 1.3 MB/s eta 0:00:02\n",
            "     ------------------ --------------------- 1.3/3.0 MB 1.3 MB/s eta 0:00:02\n",
            "     ------------------- -------------------- 1.5/3.0 MB 1.4 MB/s eta 0:00:02\n",
            "     -------------------- ------------------- 1.5/3.0 MB 1.4 MB/s eta 0:00:02\n",
            "     ---------------------- ----------------- 1.7/3.0 MB 1.4 MB/s eta 0:00:01\n",
            "     ------------------------ --------------- 1.8/3.0 MB 1.5 MB/s eta 0:00:01\n",
            "     ------------------------ --------------- 1.8/3.0 MB 1.5 MB/s eta 0:00:01\n",
            "     ------------------------ --------------- 1.8/3.0 MB 1.4 MB/s eta 0:00:01\n",
            "     ------------------------- -------------- 1.9/3.0 MB 1.4 MB/s eta 0:00:01\n",
            "     --------------------------- ------------ 2.0/3.0 MB 1.4 MB/s eta 0:00:01\n",
            "     ---------------------------- ----------- 2.1/3.0 MB 1.5 MB/s eta 0:00:01\n",
            "     ------------------------------ --------- 2.2/3.0 MB 1.5 MB/s eta 0:00:01\n",
            "     ------------------------------- -------- 2.3/3.0 MB 1.5 MB/s eta 0:00:01\n",
            "     -------------------------------- ------- 2.4/3.0 MB 1.5 MB/s eta 0:00:01\n",
            "     --------------------------------- ------ 2.5/3.0 MB 1.5 MB/s eta 0:00:01\n",
            "     ----------------------------------- ---- 2.6/3.0 MB 1.5 MB/s eta 0:00:01\n",
            "     ------------------------------------ --- 2.7/3.0 MB 1.6 MB/s eta 0:00:01\n",
            "     -------------------------------------- - 2.8/3.0 MB 1.6 MB/s eta 0:00:01\n",
            "     ---------------------------------------  2.9/3.0 MB 1.6 MB/s eta 0:00:01\n",
            "     ---------------------------------------  2.9/3.0 MB 1.6 MB/s eta 0:00:01\n",
            "     ---------------------------------------  2.9/3.0 MB 1.6 MB/s eta 0:00:01\n",
            "     ---------------------------------------  2.9/3.0 MB 1.6 MB/s eta 0:00:01\n",
            "     ---------------------------------------- 3.0/3.0 MB 1.5 MB/s eta 0:00:00\n",
            "  Installing build dependencies: started\n",
            "  Installing build dependencies: finished with status 'done'\n",
            "  Getting requirements to build wheel: started\n",
            "  Getting requirements to build wheel: finished with status 'done'\n",
            "  Preparing metadata (pyproject.toml): started\n",
            "  Preparing metadata (pyproject.toml): finished with status 'done'\n",
            "Requirement already satisfied: beautifulsoup4>=4.11.1 in c:\\users\\renedelgado\\appdata\\roaming\\python\\python39\\site-packages (from yfinance) (4.12.3)\n",
            "Collecting html5lib>=1.1 (from yfinance)\n",
            "  Downloading html5lib-1.1-py2.py3-none-any.whl.metadata (16 kB)\n",
            "Requirement already satisfied: soupsieve>1.2 in c:\\users\\renedelgado\\appdata\\roaming\\python\\python39\\site-packages (from beautifulsoup4>=4.11.1->yfinance) (2.5)\n",
            "Requirement already satisfied: six>=1.9 in c:\\program files\\python39\\lib\\site-packages (from html5lib>=1.1->yfinance) (1.16.0)\n",
            "Requirement already satisfied: webencodings in c:\\users\\renedelgado\\appdata\\roaming\\python\\python39\\site-packages (from html5lib>=1.1->yfinance) (0.5.1)\n",
            "Requirement already satisfied: python-dateutil>=2.8.2 in c:\\users\\renedelgado\\appdata\\roaming\\python\\python39\\site-packages (from pandas>=1.3.0->yfinance) (2.8.2)\n",
            "Requirement already satisfied: tzdata>=2022.7 in c:\\users\\renedelgado\\appdata\\roaming\\python\\python39\\site-packages (from pandas>=1.3.0->yfinance) (2023.4)\n",
            "Requirement already satisfied: charset-normalizer<4,>=2 in c:\\program files\\python39\\lib\\site-packages (from requests>=2.31->yfinance) (3.3.2)\n",
            "Requirement already satisfied: idna<4,>=2.5 in c:\\program files\\python39\\lib\\site-packages (from requests>=2.31->yfinance) (3.6)\n",
            "Requirement already satisfied: urllib3<3,>=1.21.1 in c:\\program files\\python39\\lib\\site-packages (from requests>=2.31->yfinance) (2.2.0)\n",
            "Requirement already satisfied: certifi>=2017.4.17 in c:\\program files\\python39\\lib\\site-packages (from requests>=2.31->yfinance) (2024.2.2)\n",
            "Downloading yfinance-0.2.41-py2.py3-none-any.whl (73 kB)\n",
            "   ---------------------------------------- 0.0/73.5 kB ? eta -:--:--\n",
            "   ---------------- ----------------------- 30.7/73.5 kB 1.3 MB/s eta 0:00:01\n",
            "   ---------------------------------------  71.7/73.5 kB 1.3 MB/s eta 0:00:01\n",
            "   ---------------------------------------  71.7/73.5 kB 1.3 MB/s eta 0:00:01\n",
            "   ---------------------------------------  71.7/73.5 kB 1.3 MB/s eta 0:00:01\n",
            "   ---------------------------------------- 73.5/73.5 kB 310.1 kB/s eta 0:00:00\n",
            "Downloading frozendict-2.4.4-cp39-cp39-win_amd64.whl (37 kB)\n",
            "Downloading html5lib-1.1-py2.py3-none-any.whl (112 kB)\n",
            "   ---------------------------------------- 0.0/112.2 kB ? eta -:--:--\n",
            "   --------------------- ------------------ 61.4/112.2 kB 1.7 MB/s eta 0:00:01\n",
            "   ------------------------------------ --- 102.4/112.2 kB 1.5 MB/s eta 0:00:01\n",
            "   ------------------------------------ --- 102.4/112.2 kB 1.5 MB/s eta 0:00:01\n",
            "   -------------------------------------- 112.2/112.2 kB 653.4 kB/s eta 0:00:00\n",
            "Downloading multitasking-0.0.11-py3-none-any.whl (8.5 kB)\n",
            "Building wheels for collected packages: peewee\n",
            "  Building wheel for peewee (pyproject.toml): started\n",
            "  Building wheel for peewee (pyproject.toml): finished with status 'done'\n",
            "  Created wheel for peewee: filename=peewee-3.17.6-py3-none-any.whl size=138938 sha256=36597c7a2e28592868cc044ad14f1210f108b2d8fe399f8b5d8538446c30cfc3\n",
            "  Stored in directory: c:\\users\\renedelgado\\appdata\\local\\pip\\cache\\wheels\\3e\\23\\b4\\7729b2d48a34ee9d95c11f7f8dfd4ff0571a056e2691118b34\n",
            "Successfully built peewee\n",
            "Installing collected packages: peewee, multitasking, html5lib, frozendict, yfinance\n",
            "Successfully installed frozendict-2.4.4 html5lib-1.1 multitasking-0.0.11 peewee-3.17.6 yfinance-0.2.41\n",
            "Note: you may need to restart the kernel to use updated packages.\n"
          ]
        },
        {
          "name": "stderr",
          "output_type": "stream",
          "text": [
            "\n",
            "[notice] A new release of pip is available: 23.3.1 -> 24.2\n",
            "[notice] To update, run: python.exe -m pip install --upgrade pip\n"
          ]
        }
      ],
      "source": [
        "pip install yfinance"
      ]
    },
    {
      "cell_type": "code",
      "execution_count": 6,
      "metadata": {
        "colab": {
          "base_uri": "https://localhost:8080/"
        },
        "id": "1ridsBYosTeu",
        "outputId": "88094d3e-93c8-41b5-b2d6-90e70c0eaa3c"
      },
      "outputs": [
        {
          "name": "stderr",
          "output_type": "stream",
          "text": [
            "[*********************100%%**********************]  1 of 1 completed\n"
          ]
        }
      ],
      "source": [
        "import yfinance as yf # biblioteca popular para obtener los datos de cotización de acciones\n",
        "\n",
        "# Obtener los datos de cotización de una acción\n",
        "data = yf.download('AAPL', start='2020-01-01', end='2024-01-01') #Podemos cambiar las fechas para descargar la base de datos\n"
      ]
    },
    {
      "cell_type": "code",
      "execution_count": 7,
      "metadata": {
        "colab": {
          "base_uri": "https://localhost:8080/",
          "height": 455
        },
        "id": "slwJ9NSdsf8w",
        "outputId": "bfe60829-00a3-4226-ae2b-4b172cd84250"
      },
      "outputs": [
        {
          "data": {
            "text/html": [
              "<div>\n",
              "<style scoped>\n",
              "    .dataframe tbody tr th:only-of-type {\n",
              "        vertical-align: middle;\n",
              "    }\n",
              "\n",
              "    .dataframe tbody tr th {\n",
              "        vertical-align: top;\n",
              "    }\n",
              "\n",
              "    .dataframe thead th {\n",
              "        text-align: right;\n",
              "    }\n",
              "</style>\n",
              "<table border=\"1\" class=\"dataframe\">\n",
              "  <thead>\n",
              "    <tr style=\"text-align: right;\">\n",
              "      <th></th>\n",
              "      <th>Open</th>\n",
              "      <th>High</th>\n",
              "      <th>Low</th>\n",
              "      <th>Close</th>\n",
              "      <th>Adj Close</th>\n",
              "      <th>Volume</th>\n",
              "    </tr>\n",
              "    <tr>\n",
              "      <th>Date</th>\n",
              "      <th></th>\n",
              "      <th></th>\n",
              "      <th></th>\n",
              "      <th></th>\n",
              "      <th></th>\n",
              "      <th></th>\n",
              "    </tr>\n",
              "  </thead>\n",
              "  <tbody>\n",
              "    <tr>\n",
              "      <th>2020-01-02</th>\n",
              "      <td>74.059998</td>\n",
              "      <td>75.150002</td>\n",
              "      <td>73.797501</td>\n",
              "      <td>75.087502</td>\n",
              "      <td>72.876106</td>\n",
              "      <td>135480400</td>\n",
              "    </tr>\n",
              "    <tr>\n",
              "      <th>2020-01-03</th>\n",
              "      <td>74.287498</td>\n",
              "      <td>75.144997</td>\n",
              "      <td>74.125000</td>\n",
              "      <td>74.357498</td>\n",
              "      <td>72.167610</td>\n",
              "      <td>146322800</td>\n",
              "    </tr>\n",
              "    <tr>\n",
              "      <th>2020-01-06</th>\n",
              "      <td>73.447502</td>\n",
              "      <td>74.989998</td>\n",
              "      <td>73.187500</td>\n",
              "      <td>74.949997</td>\n",
              "      <td>72.742638</td>\n",
              "      <td>118387200</td>\n",
              "    </tr>\n",
              "    <tr>\n",
              "      <th>2020-01-07</th>\n",
              "      <td>74.959999</td>\n",
              "      <td>75.224998</td>\n",
              "      <td>74.370003</td>\n",
              "      <td>74.597504</td>\n",
              "      <td>72.400536</td>\n",
              "      <td>108872000</td>\n",
              "    </tr>\n",
              "    <tr>\n",
              "      <th>2020-01-08</th>\n",
              "      <td>74.290001</td>\n",
              "      <td>76.110001</td>\n",
              "      <td>74.290001</td>\n",
              "      <td>75.797501</td>\n",
              "      <td>73.565193</td>\n",
              "      <td>132079200</td>\n",
              "    </tr>\n",
              "    <tr>\n",
              "      <th>...</th>\n",
              "      <td>...</td>\n",
              "      <td>...</td>\n",
              "      <td>...</td>\n",
              "      <td>...</td>\n",
              "      <td>...</td>\n",
              "      <td>...</td>\n",
              "    </tr>\n",
              "    <tr>\n",
              "      <th>2020-07-30</th>\n",
              "      <td>94.187500</td>\n",
              "      <td>96.297501</td>\n",
              "      <td>93.767502</td>\n",
              "      <td>96.190002</td>\n",
              "      <td>93.832008</td>\n",
              "      <td>158130000</td>\n",
              "    </tr>\n",
              "    <tr>\n",
              "      <th>2020-07-31</th>\n",
              "      <td>102.885002</td>\n",
              "      <td>106.415001</td>\n",
              "      <td>100.824997</td>\n",
              "      <td>106.260002</td>\n",
              "      <td>103.655151</td>\n",
              "      <td>374336800</td>\n",
              "    </tr>\n",
              "    <tr>\n",
              "      <th>2020-08-03</th>\n",
              "      <td>108.199997</td>\n",
              "      <td>111.637497</td>\n",
              "      <td>107.892502</td>\n",
              "      <td>108.937500</td>\n",
              "      <td>106.266998</td>\n",
              "      <td>308151200</td>\n",
              "    </tr>\n",
              "    <tr>\n",
              "      <th>2020-08-04</th>\n",
              "      <td>109.132500</td>\n",
              "      <td>110.790001</td>\n",
              "      <td>108.387497</td>\n",
              "      <td>109.665001</td>\n",
              "      <td>106.976662</td>\n",
              "      <td>173071600</td>\n",
              "    </tr>\n",
              "    <tr>\n",
              "      <th>2020-08-05</th>\n",
              "      <td>109.377502</td>\n",
              "      <td>110.392502</td>\n",
              "      <td>108.897499</td>\n",
              "      <td>110.062500</td>\n",
              "      <td>107.364426</td>\n",
              "      <td>121776800</td>\n",
              "    </tr>\n",
              "  </tbody>\n",
              "</table>\n",
              "<p>150 rows × 6 columns</p>\n",
              "</div>"
            ],
            "text/plain": [
              "                  Open        High         Low       Close   Adj Close  \\\n",
              "Date                                                                     \n",
              "2020-01-02   74.059998   75.150002   73.797501   75.087502   72.876106   \n",
              "2020-01-03   74.287498   75.144997   74.125000   74.357498   72.167610   \n",
              "2020-01-06   73.447502   74.989998   73.187500   74.949997   72.742638   \n",
              "2020-01-07   74.959999   75.224998   74.370003   74.597504   72.400536   \n",
              "2020-01-08   74.290001   76.110001   74.290001   75.797501   73.565193   \n",
              "...                ...         ...         ...         ...         ...   \n",
              "2020-07-30   94.187500   96.297501   93.767502   96.190002   93.832008   \n",
              "2020-07-31  102.885002  106.415001  100.824997  106.260002  103.655151   \n",
              "2020-08-03  108.199997  111.637497  107.892502  108.937500  106.266998   \n",
              "2020-08-04  109.132500  110.790001  108.387497  109.665001  106.976662   \n",
              "2020-08-05  109.377502  110.392502  108.897499  110.062500  107.364426   \n",
              "\n",
              "               Volume  \n",
              "Date                   \n",
              "2020-01-02  135480400  \n",
              "2020-01-03  146322800  \n",
              "2020-01-06  118387200  \n",
              "2020-01-07  108872000  \n",
              "2020-01-08  132079200  \n",
              "...               ...  \n",
              "2020-07-30  158130000  \n",
              "2020-07-31  374336800  \n",
              "2020-08-03  308151200  \n",
              "2020-08-04  173071600  \n",
              "2020-08-05  121776800  \n",
              "\n",
              "[150 rows x 6 columns]"
            ]
          },
          "execution_count": 7,
          "metadata": {},
          "output_type": "execute_result"
        }
      ],
      "source": [
        "# Mostrar las primeras filas del DataFrame\n",
        "data.head(150)"
      ]
    },
    {
      "cell_type": "code",
      "execution_count": 8,
      "metadata": {
        "colab": {
          "base_uri": "https://localhost:8080/"
        },
        "id": "nM18ayd2slRg",
        "outputId": "7fb4392f-80dc-49df-9c26-8884f6c394d9"
      },
      "outputs": [
        {
          "data": {
            "text/plain": [
              "Index(['Open', 'High', 'Low', 'Close', 'Adj Close', 'Volume'], dtype='object')"
            ]
          },
          "execution_count": 8,
          "metadata": {},
          "output_type": "execute_result"
        }
      ],
      "source": [
        "data.keys() #Para conocer el nombre de todas las columnas de la base de datos"
      ]
    },
    {
      "cell_type": "code",
      "execution_count": 9,
      "metadata": {
        "colab": {
          "base_uri": "https://localhost:8080/"
        },
        "id": "vuZDA7bi3JGi",
        "outputId": "977db65f-57f0-4057-cfca-1e6d78692a5a"
      },
      "outputs": [
        {
          "data": {
            "text/plain": [
              "(1006, 6)"
            ]
          },
          "execution_count": 9,
          "metadata": {},
          "output_type": "execute_result"
        }
      ],
      "source": [
        "data.shape #Cantidad de registros del 01-01-2020 al 01-01-2024 (filas, columnas)"
      ]
    },
    {
      "cell_type": "code",
      "execution_count": 10,
      "metadata": {
        "colab": {
          "base_uri": "https://localhost:8080/",
          "height": 444
        },
        "id": "7gYNg8LSsxjc",
        "outputId": "2f014ed8-a700-42e2-c0c9-dcf24bb66130"
      },
      "outputs": [
        {
          "data": {
            "image/png": "[encoded data removed]",
            "text/plain": [
              "<Figure size 640x480 with 1 Axes>"
            ]
          },
          "metadata": {},
          "output_type": "display_data"
        }
      ],
      "source": [
        "import matplotlib.pyplot as plt\n",
        "\n",
        "# Trama del precio de cierre ajustado\n",
        "data['Adj Close'].plot()\n",
        "plt.title('Precio de cierre ajustado de AAPL enero 2020- enero 2024')\n",
        "plt.xlabel('Fecha')\n",
        "plt.ylabel('Precio de cierre ajustado')\n",
        "plt.show()"
      ]
    },
    {
      "cell_type": "code",
      "execution_count": null,
      "metadata": {
        "colab": {
          "base_uri": "https://localhost:8080/"
        },
        "id": "QPzTma9Wu73n",
        "outputId": "a9455f72-c6e2-4433-e0fc-0eda4bc4422c"
      },
      "outputs": [
        {
          "name": "stderr",
          "output_type": "stream",
          "text": [
            "[*********************100%%**********************]  1 of 1 completed\n",
            "[*********************100%%**********************]  1 of 1 completed\n"
          ]
        }
      ],
      "source": [
        "# Obtener los datos de cotización de una acción en el año 2020\n",
        "data20201 = yf.download('AAPL', start='2020-01-01', end='2020-7-01')\n",
        "data20202 = yf.download('AAPL', start='2020-07-01', end='2020-12-01')"
      ]
    },
    {
      "cell_type": "code",
      "execution_count": null,
      "metadata": {
        "colab": {
          "base_uri": "https://localhost:8080/",
          "height": 455
        },
        "id": "f5mcYwVcvQSb",
        "outputId": "fc8a9ab6-93c6-42cf-a99a-841b355f729b"
      },
      "outputs": [
        {
          "data": {
            "application/vnd.google.colaboratory.intrinsic+json": {
              "summary": "{\n  \"name\": \"data20201\",\n  \"rows\": 125,\n  \"fields\": [\n    {\n      \"column\": \"Date\",\n      \"properties\": {\n        \"dtype\": \"date\",\n        \"min\": \"2020-01-02 00:00:00\",\n        \"max\": \"2020-06-30 00:00:00\",\n        \"num_unique_values\": 125,\n        \"samples\": [\n          \"2020-01-29 00:00:00\",\n          \"2020-03-04 00:00:00\",\n          \"2020-02-25 00:00:00\"\n        ],\n        \"semantic_type\": \"\",\n        \"description\": \"\"\n      }\n    },\n    {\n      \"column\": \"Open\",\n      \"properties\": {\n        \"dtype\": \"number\",\n        \"std\": 8.050522436611958,\n        \"min\": 57.02000045776367,\n        \"max\": 91.25,\n        \"num_unique_values\": 125,\n        \"samples\": [\n          81.11250305175781,\n          74.11000061035156,\n          75.23750305175781\n        ],\n        \"semantic_type\": \"\",\n        \"description\": \"\"\n      }\n    },\n    {\n      \"column\": \"High\",\n      \"properties\": {\n        \"dtype\": \"number\",\n        \"std\": 7.751642391361036,\n        \"min\": 57.125,\n        \"max\": 93.09500122070312,\n        \"num_unique_values\": 124,\n        \"samples\": [\n          81.9625015258789,\n          75.8499984741211,\n          75.63249969482422\n        ],\n        \"semantic_type\": \"\",\n        \"description\": \"\"\n      }\n    },\n    {\n      \"column\": \"Low\",\n      \"properties\": {\n        \"dtype\": \"number\",\n        \"std\": 8.220619244911278,\n        \"min\": 53.15250015258789,\n        \"max\": 90.56749725341797,\n        \"num_unique_values\": 125,\n        \"samples\": [\n          80.34500122070312,\n          73.28250122070312,\n          71.53250122070312\n        ],\n        \"semantic_type\": \"\",\n        \"description\": \"\"\n      }\n    },\n    {\n      \"column\": \"Close\",\n      \"properties\": {\n        \"dtype\": \"number\",\n        \"std\": 8.05141104888743,\n        \"min\": 56.092498779296875,\n        \"max\": 91.63249969482422,\n        \"num_unique_values\": 124,\n        \"samples\": [\n          81.08499908447266,\n          75.68499755859375,\n          72.0199966430664\n        ],\n        \"semantic_type\": \"\",\n        \"description\": \"\"\n      }\n    },\n    {\n      \"column\": \"Adj Close\",\n      \"properties\": {\n        \"dtype\": \"number\",\n        \"std\": 7.886557754015398,\n        \"min\": 54.569725036621094,\n        \"max\": 89.38623046875,\n        \"num_unique_values\": 125,\n        \"samples\": [\n          78.69698333740234,\n          73.63034057617188,\n          70.0648422241211\n        ],\n        \"semantic_type\": \"\",\n        \"description\": \"\"\n      }\n    },\n    {\n      \"column\": \"Volume\",\n      \"properties\": {\n        \"dtype\": \"number\",\n        \"std\": 75213110,\n        \"min\": 80113600,\n        \"max\": 426510000,\n        \"num_unique_values\": 125,\n        \"samples\": [\n          216229200,\n          219178400,\n          230673600\n        ],\n        \"semantic_type\": \"\",\n        \"description\": \"\"\n      }\n    }\n  ]\n}",
              "type": "dataframe",
              "variable_name": "data20201"
            },
            "text/html": [
              "\n",
              "  <div id=\"df-c9c99009-983d-4026-8b23-c15f6d376b5e\" class=\"colab-df-container\">\n",
              "    <div>\n",
              "<style scoped>\n",
              "    .dataframe tbody tr th:only-of-type {\n",
              "        vertical-align: middle;\n",
              "    }\n",
              "\n",
              "    .dataframe tbody tr th {\n",
              "        vertical-align: top;\n",
              "    }\n",
              "\n",
              "    .dataframe thead th {\n",
              "        text-align: right;\n",
              "    }\n",
              "</style>\n",
              "<table border=\"1\" class=\"dataframe\">\n",
              "  <thead>\n",
              "    <tr style=\"text-align: right;\">\n",
              "      <th></th>\n",
              "      <th>Open</th>\n",
              "      <th>High</th>\n",
              "      <th>Low</th>\n",
              "      <th>Close</th>\n",
              "      <th>Adj Close</th>\n",
              "      <th>Volume</th>\n",
              "    </tr>\n",
              "    <tr>\n",
              "      <th>Date</th>\n",
              "      <th></th>\n",
              "      <th></th>\n",
              "      <th></th>\n",
              "      <th></th>\n",
              "      <th></th>\n",
              "      <th></th>\n",
              "    </tr>\n",
              "  </thead>\n",
              "  <tbody>\n",
              "    <tr>\n",
              "      <th>2020-01-02</th>\n",
              "      <td>74.059998</td>\n",
              "      <td>75.150002</td>\n",
              "      <td>73.797501</td>\n",
              "      <td>75.087502</td>\n",
              "      <td>72.876106</td>\n",
              "      <td>135480400</td>\n",
              "    </tr>\n",
              "    <tr>\n",
              "      <th>2020-01-03</th>\n",
              "      <td>74.287498</td>\n",
              "      <td>75.144997</td>\n",
              "      <td>74.125000</td>\n",
              "      <td>74.357498</td>\n",
              "      <td>72.167610</td>\n",
              "      <td>146322800</td>\n",
              "    </tr>\n",
              "    <tr>\n",
              "      <th>2020-01-06</th>\n",
              "      <td>73.447502</td>\n",
              "      <td>74.989998</td>\n",
              "      <td>73.187500</td>\n",
              "      <td>74.949997</td>\n",
              "      <td>72.742668</td>\n",
              "      <td>118387200</td>\n",
              "    </tr>\n",
              "    <tr>\n",
              "      <th>2020-01-07</th>\n",
              "      <td>74.959999</td>\n",
              "      <td>75.224998</td>\n",
              "      <td>74.370003</td>\n",
              "      <td>74.597504</td>\n",
              "      <td>72.400536</td>\n",
              "      <td>108872000</td>\n",
              "    </tr>\n",
              "    <tr>\n",
              "      <th>2020-01-08</th>\n",
              "      <td>74.290001</td>\n",
              "      <td>76.110001</td>\n",
              "      <td>74.290001</td>\n",
              "      <td>75.797501</td>\n",
              "      <td>73.565186</td>\n",
              "      <td>132079200</td>\n",
              "    </tr>\n",
              "    <tr>\n",
              "      <th>...</th>\n",
              "      <td>...</td>\n",
              "      <td>...</td>\n",
              "      <td>...</td>\n",
              "      <td>...</td>\n",
              "      <td>...</td>\n",
              "      <td>...</td>\n",
              "    </tr>\n",
              "    <tr>\n",
              "      <th>2020-06-24</th>\n",
              "      <td>91.250000</td>\n",
              "      <td>92.197502</td>\n",
              "      <td>89.629997</td>\n",
              "      <td>90.014999</td>\n",
              "      <td>87.808372</td>\n",
              "      <td>192623200</td>\n",
              "    </tr>\n",
              "    <tr>\n",
              "      <th>2020-06-25</th>\n",
              "      <td>90.175003</td>\n",
              "      <td>91.250000</td>\n",
              "      <td>89.392502</td>\n",
              "      <td>91.209999</td>\n",
              "      <td>88.974083</td>\n",
              "      <td>137522400</td>\n",
              "    </tr>\n",
              "    <tr>\n",
              "      <th>2020-06-26</th>\n",
              "      <td>91.102501</td>\n",
              "      <td>91.330002</td>\n",
              "      <td>88.254997</td>\n",
              "      <td>88.407501</td>\n",
              "      <td>86.240288</td>\n",
              "      <td>205256800</td>\n",
              "    </tr>\n",
              "    <tr>\n",
              "      <th>2020-06-29</th>\n",
              "      <td>88.312500</td>\n",
              "      <td>90.542503</td>\n",
              "      <td>87.820000</td>\n",
              "      <td>90.445000</td>\n",
              "      <td>88.227852</td>\n",
              "      <td>130646000</td>\n",
              "    </tr>\n",
              "    <tr>\n",
              "      <th>2020-06-30</th>\n",
              "      <td>90.019997</td>\n",
              "      <td>91.495003</td>\n",
              "      <td>90.000000</td>\n",
              "      <td>91.199997</td>\n",
              "      <td>88.964340</td>\n",
              "      <td>140223200</td>\n",
              "    </tr>\n",
              "  </tbody>\n",
              "</table>\n",
              "<p>125 rows × 6 columns</p>\n",
              "</div>\n",
              "    <div class=\"colab-df-buttons\">\n",
              "\n",
              "  <div class=\"colab-df-container\">\n",
              "    <button class=\"colab-df-convert\" onclick=\"convertToInteractive('df-c9c99009-983d-4026-8b23-c15f6d376b5e')\"\n",
              "            title=\"Convert this dataframe to an interactive table.\"\n",
              "            style=\"display:none;\">\n",
              "\n",
              "  <svg xmlns=\"http://www.w3.org/2000/svg\" height=\"24px\" viewBox=\"0 -960 960 960\">\n",
              "    <path d=\"M120-120v-720h720v720H120Zm60-500h600v-160H180v160Zm220 220h160v-160H400v160Zm0 220h160v-160H400v160ZM180-400h160v-160H180v160Zm440 0h160v-160H620v160ZM180-180h160v-160H180v160Zm440 0h160v-160H620v160Z\"/>\n",
              "  </svg>\n",
              "    </button>\n",
              "\n",
              "  <style>\n",
              "    .colab-df-container {\n",
              "      display:flex;\n",
              "      gap: 12px;\n",
              "    }\n",
              "\n",
              "    .colab-df-convert {\n",
              "      background-color: #E8F0FE;\n",
              "      border: none;\n",
              "      border-radius: 50%;\n",
              "      cursor: pointer;\n",
              "      display: none;\n",
              "      fill: #1967D2;\n",
              "      height: 32px;\n",
              "      padding: 0 0 0 0;\n",
              "      width: 32px;\n",
              "    }\n",
              "\n",
              "    .colab-df-convert:hover {\n",
              "      background-color: #E2EBFA;\n",
              "      box-shadow: 0px 1px 2px rgba(60, 64, 67, 0.3), 0px 1px 3px 1px rgba(60, 64, 67, 0.15);\n",
              "      fill: #174EA6;\n",
              "    }\n",
              "\n",
              "    .colab-df-buttons div {\n",
              "      margin-bottom: 4px;\n",
              "    }\n",
              "\n",
              "    [theme=dark] .colab-df-convert {\n",
              "      background-color: #3B4455;\n",
              "      fill: #D2E3FC;\n",
              "    }\n",
              "\n",
              "    [theme=dark] .colab-df-convert:hover {\n",
              "      background-color: #434B5C;\n",
              "      box-shadow: 0px 1px 3px 1px rgba(0, 0, 0, 0.15);\n",
              "      filter: drop-shadow(0px 1px 2px rgba(0, 0, 0, 0.3));\n",
              "      fill: #FFFFFF;\n",
              "    }\n",
              "  </style>\n",
              "\n",
              "    <script>\n",
              "      const buttonEl =\n",
              "        document.querySelector('#df-c9c99009-983d-4026-8b23-c15f6d376b5e button.colab-df-convert');\n",
              "      buttonEl.style.display =\n",
              "        google.colab.kernel.accessAllowed ? 'block' : 'none';\n",
              "\n",
              "      async function convertToInteractive(key) {\n",
              "        const element = document.querySelector('#df-c9c99009-983d-4026-8b23-c15f6d376b5e');\n",
              "        const dataTable =\n",
              "          await google.colab.kernel.invokeFunction('convertToInteractive',\n",
              "                                                    [key], {});\n",
              "        if (!dataTable) return;\n",
              "\n",
              "        const docLinkHtml = 'Like what you see? Visit the ' +\n",
              "          '<a target=\"_blank\" href=https://colab.research.google.com/notebooks/data_table.ipynb>data table notebook</a>'\n",
              "          + ' to learn more about interactive tables.';\n",
              "        element.innerHTML = '';\n",
              "        dataTable['output_type'] = 'display_data';\n",
              "        await google.colab.output.renderOutput(dataTable, element);\n",
              "        const docLink = document.createElement('div');\n",
              "        docLink.innerHTML = docLinkHtml;\n",
              "        element.appendChild(docLink);\n",
              "      }\n",
              "    </script>\n",
              "  </div>\n",
              "\n",
              "\n",
              "<div id=\"df-1cac8fa0-9a58-45e5-b103-9ab0edb6fc0c\">\n",
              "  <button class=\"colab-df-quickchart\" onclick=\"quickchart('df-1cac8fa0-9a58-45e5-b103-9ab0edb6fc0c')\"\n",
              "            title=\"Suggest charts\"\n",
              "            style=\"display:none;\">\n",
              "\n",
              "<svg xmlns=\"http://www.w3.org/2000/svg\" height=\"24px\"viewBox=\"0 0 24 24\"\n",
              "     width=\"24px\">\n",
              "    <g>\n",
              "        <path d=\"M19 3H5c-1.1 0-2 .9-2 2v14c0 1.1.9 2 2 2h14c1.1 0 2-.9 2-2V5c0-1.1-.9-2-2-2zM9 17H7v-7h2v7zm4 0h-2V7h2v10zm4 0h-2v-4h2v4z\"/>\n",
              "    </g>\n",
              "</svg>\n",
              "  </button>\n",
              "\n",
              "<style>\n",
              "  .colab-df-quickchart {\n",
              "      --bg-color: #E8F0FE;\n",
              "      --fill-color: #1967D2;\n",
              "      --hover-bg-color: #E2EBFA;\n",
              "      --hover-fill-color: #174EA6;\n",
              "      --disabled-fill-color: #AAA;\n",
              "      --disabled-bg-color: #DDD;\n",
              "  }\n",
              "\n",
              "  [theme=dark] .colab-df-quickchart {\n",
              "      --bg-color: #3B4455;\n",
              "      --fill-color: #D2E3FC;\n",
              "      --hover-bg-color: #434B5C;\n",
              "      --hover-fill-color: #FFFFFF;\n",
              "      --disabled-bg-color: #3B4455;\n",
              "      --disabled-fill-color: #666;\n",
              "  }\n",
              "\n",
              "  .colab-df-quickchart {\n",
              "    background-color: var(--bg-color);\n",
              "    border: none;\n",
              "    border-radius: 50%;\n",
              "    cursor: pointer;\n",
              "    display: none;\n",
              "    fill: var(--fill-color);\n",
              "    height: 32px;\n",
              "    padding: 0;\n",
              "    width: 32px;\n",
              "  }\n",
              "\n",
              "  .colab-df-quickchart:hover {\n",
              "    background-color: var(--hover-bg-color);\n",
              "    box-shadow: 0 1px 2px rgba(60, 64, 67, 0.3), 0 1px 3px 1px rgba(60, 64, 67, 0.15);\n",
              "    fill: var(--button-hover-fill-color);\n",
              "  }\n",
              "\n",
              "  .colab-df-quickchart-complete:disabled,\n",
              "  .colab-df-quickchart-complete:disabled:hover {\n",
              "    background-color: var(--disabled-bg-color);\n",
              "    fill: var(--disabled-fill-color);\n",
              "    box-shadow: none;\n",
              "  }\n",
              "\n",
              "  .colab-df-spinner {\n",
              "    border: 2px solid var(--fill-color);\n",
              "    border-color: transparent;\n",
              "    border-bottom-color: var(--fill-color);\n",
              "    animation:\n",
              "      spin 1s steps(1) infinite;\n",
              "  }\n",
              "\n",
              "  @keyframes spin {\n",
              "    0% {\n",
              "      border-color: transparent;\n",
              "      border-bottom-color: var(--fill-color);\n",
              "      border-left-color: var(--fill-color);\n",
              "    }\n",
              "    20% {\n",
              "      border-color: transparent;\n",
              "      border-left-color: var(--fill-color);\n",
              "      border-top-color: var(--fill-color);\n",
              "    }\n",
              "    30% {\n",
              "      border-color: transparent;\n",
              "      border-left-color: var(--fill-color);\n",
              "      border-top-color: var(--fill-color);\n",
              "      border-right-color: var(--fill-color);\n",
              "    }\n",
              "    40% {\n",
              "      border-color: transparent;\n",
              "      border-right-color: var(--fill-color);\n",
              "      border-top-color: var(--fill-color);\n",
              "    }\n",
              "    60% {\n",
              "      border-color: transparent;\n",
              "      border-right-color: var(--fill-color);\n",
              "    }\n",
              "    80% {\n",
              "      border-color: transparent;\n",
              "      border-right-color: var(--fill-color);\n",
              "      border-bottom-color: var(--fill-color);\n",
              "    }\n",
              "    90% {\n",
              "      border-color: transparent;\n",
              "      border-bottom-color: var(--fill-color);\n",
              "    }\n",
              "  }\n",
              "</style>\n",
              "\n",
              "  <script>\n",
              "    async function quickchart(key) {\n",
              "      const quickchartButtonEl =\n",
              "        document.querySelector('#' + key + ' button');\n",
              "      quickchartButtonEl.disabled = true;  // To prevent multiple clicks.\n",
              "      quickchartButtonEl.classList.add('colab-df-spinner');\n",
              "      try {\n",
              "        const charts = await google.colab.kernel.invokeFunction(\n",
              "            'suggestCharts', [key], {});\n",
              "      } catch (error) {\n",
              "        console.error('Error during call to suggestCharts:', error);\n",
              "      }\n",
              "      quickchartButtonEl.classList.remove('colab-df-spinner');\n",
              "      quickchartButtonEl.classList.add('colab-df-quickchart-complete');\n",
              "    }\n",
              "    (() => {\n",
              "      let quickchartButtonEl =\n",
              "        document.querySelector('#df-1cac8fa0-9a58-45e5-b103-9ab0edb6fc0c button');\n",
              "      quickchartButtonEl.style.display =\n",
              "        google.colab.kernel.accessAllowed ? 'block' : 'none';\n",
              "    })();\n",
              "  </script>\n",
              "</div>\n",
              "\n",
              "  <div id=\"id_ce9245f7-60d5-4b9f-b6a9-a5ba21af92ef\">\n",
              "    <style>\n",
              "      .colab-df-generate {\n",
              "        background-color: #E8F0FE;\n",
              "        border: none;\n",
              "        border-radius: 50%;\n",
              "        cursor: pointer;\n",
              "        display: none;\n",
              "        fill: #1967D2;\n",
              "        height: 32px;\n",
              "        padding: 0 0 0 0;\n",
              "        width: 32px;\n",
              "      }\n",
              "\n",
              "      .colab-df-generate:hover {\n",
              "        background-color: #E2EBFA;\n",
              "        box-shadow: 0px 1px 2px rgba(60, 64, 67, 0.3), 0px 1px 3px 1px rgba(60, 64, 67, 0.15);\n",
              "        fill: #174EA6;\n",
              "      }\n",
              "\n",
              "      [theme=dark] .colab-df-generate {\n",
              "        background-color: #3B4455;\n",
              "        fill: #D2E3FC;\n",
              "      }\n",
              "\n",
              "      [theme=dark] .colab-df-generate:hover {\n",
              "        background-color: #434B5C;\n",
              "        box-shadow: 0px 1px 3px 1px rgba(0, 0, 0, 0.15);\n",
              "        filter: drop-shadow(0px 1px 2px rgba(0, 0, 0, 0.3));\n",
              "        fill: #FFFFFF;\n",
              "      }\n",
              "    </style>\n",
              "    <button class=\"colab-df-generate\" onclick=\"generateWithVariable('data20201')\"\n",
              "            title=\"Generate code using this dataframe.\"\n",
              "            style=\"display:none;\">\n",
              "\n",
              "  <svg xmlns=\"http://www.w3.org/2000/svg\" height=\"24px\"viewBox=\"0 0 24 24\"\n",
              "       width=\"24px\">\n",
              "    <path d=\"M7,19H8.4L18.45,9,17,7.55,7,17.6ZM5,21V16.75L18.45,3.32a2,2,0,0,1,2.83,0l1.4,1.43a1.91,1.91,0,0,1,.58,1.4,1.91,1.91,0,0,1-.58,1.4L9.25,21ZM18.45,9,17,7.55Zm-12,3A5.31,5.31,0,0,0,4.9,8.1,5.31,5.31,0,0,0,1,6.5,5.31,5.31,0,0,0,4.9,4.9,5.31,5.31,0,0,0,6.5,1,5.31,5.31,0,0,0,8.1,4.9,5.31,5.31,0,0,0,12,6.5,5.46,5.46,0,0,0,6.5,12Z\"/>\n",
              "  </svg>\n",
              "    </button>\n",
              "    <script>\n",
              "      (() => {\n",
              "      const buttonEl =\n",
              "        document.querySelector('#id_ce9245f7-60d5-4b9f-b6a9-a5ba21af92ef button.colab-df-generate');\n",
              "      buttonEl.style.display =\n",
              "        google.colab.kernel.accessAllowed ? 'block' : 'none';\n",
              "\n",
              "      buttonEl.onclick = () => {\n",
              "        google.colab.notebook.generateWithVariable('data20201');\n",
              "      }\n",
              "      })();\n",
              "    </script>\n",
              "  </div>\n",
              "\n",
              "    </div>\n",
              "  </div>\n"
            ],
            "text/plain": [
              "                 Open       High        Low      Close  Adj Close     Volume\n",
              "Date                                                                        \n",
              "2020-01-02  74.059998  75.150002  73.797501  75.087502  72.876106  135480400\n",
              "2020-01-03  74.287498  75.144997  74.125000  74.357498  72.167610  146322800\n",
              "2020-01-06  73.447502  74.989998  73.187500  74.949997  72.742668  118387200\n",
              "2020-01-07  74.959999  75.224998  74.370003  74.597504  72.400536  108872000\n",
              "2020-01-08  74.290001  76.110001  74.290001  75.797501  73.565186  132079200\n",
              "...               ...        ...        ...        ...        ...        ...\n",
              "2020-06-24  91.250000  92.197502  89.629997  90.014999  87.808372  192623200\n",
              "2020-06-25  90.175003  91.250000  89.392502  91.209999  88.974083  137522400\n",
              "2020-06-26  91.102501  91.330002  88.254997  88.407501  86.240288  205256800\n",
              "2020-06-29  88.312500  90.542503  87.820000  90.445000  88.227852  130646000\n",
              "2020-06-30  90.019997  91.495003  90.000000  91.199997  88.964340  140223200\n",
              "\n",
              "[125 rows x 6 columns]"
            ]
          },
          "execution_count": 64,
          "metadata": {},
          "output_type": "execute_result"
        }
      ],
      "source": [
        "data20201"
      ]
    },
    {
      "cell_type": "code",
      "execution_count": null,
      "metadata": {
        "colab": {
          "base_uri": "https://localhost:8080/"
        },
        "id": "QpxQjYOQvgcQ",
        "outputId": "1c15d4d9-51c2-494e-d8f0-060762e36c65"
      },
      "outputs": [
        {
          "name": "stdout",
          "output_type": "stream",
          "text": [
            "(125, 6)\n"
          ]
        }
      ],
      "source": [
        "print(data20201.shape) #Cantidad de registros (filas, columnas)"
      ]
    },
    {
      "cell_type": "code",
      "execution_count": null,
      "metadata": {
        "colab": {
          "base_uri": "https://localhost:8080/"
        },
        "id": "CWw-fU_V0A4-",
        "outputId": "16da38c5-f51a-4823-90f0-658af1b957c7"
      },
      "outputs": [
        {
          "data": {
            "text/plain": [
              "Open         125\n",
              "High         125\n",
              "Low          125\n",
              "Close        125\n",
              "Adj Close    125\n",
              "Volume       125\n",
              "dtype: int64"
            ]
          },
          "execution_count": 66,
          "metadata": {},
          "output_type": "execute_result"
        }
      ],
      "source": [
        "data20201.count() #Cuenta los valores no nulos o que no tienen N/A"
      ]
    },
    {
      "cell_type": "code",
      "execution_count": null,
      "metadata": {
        "colab": {
          "base_uri": "https://localhost:8080/"
        },
        "id": "ZErq9dMWwb-j",
        "outputId": "b73aae9c-61b6-4adb-efd7-db989a25be51"
      },
      "outputs": [
        {
          "name": "stdout",
          "output_type": "stream",
          "text": [
            "75.27966018676757\n"
          ]
        }
      ],
      "source": [
        "print(data20201.Open.mean()) #Calcula la media de la columna Open"
      ]
    },
    {
      "cell_type": "code",
      "execution_count": null,
      "metadata": {
        "colab": {
          "base_uri": "https://localhost:8080/"
        },
        "id": "2RWoRr6PwjPL",
        "outputId": "bef90319-eccd-4b6f-fe36-64dbbbb87d24"
      },
      "outputs": [
        {
          "name": "stdout",
          "output_type": "stream",
          "text": [
            "75.53141979980468\n"
          ]
        }
      ],
      "source": [
        "print(data20201.Close.mean()) #Calcula la media de la columna Close"
      ]
    },
    {
      "cell_type": "code",
      "execution_count": null,
      "metadata": {
        "colab": {
          "base_uri": "https://localhost:8080/",
          "height": 455
        },
        "id": "IEhhuOTO0sK8",
        "outputId": "c25ced0d-03bd-45ae-81d8-bb0e228a58c9"
      },
      "outputs": [
        {
          "data": {
            "image/png": "[encoded data removed]",
            "text/plain": [
              "<Figure size 640x480 with 1 Axes>"
            ]
          },
          "metadata": {},
          "output_type": "display_data"
        }
      ],
      "source": [
        "# Trama del precio de cierre ajustado\n",
        "data20201['Adj Close'].plot()\n",
        "plt.title('Precio de cierre ajustado de AAPL 2020-1')\n",
        "plt.xlabel('Fecha')\n",
        "plt.ylabel('Precio de cierre ajustado')\n",
        "plt.show()"
      ]
    },
    {
      "cell_type": "code",
      "execution_count": null,
      "metadata": {
        "colab": {
          "base_uri": "https://localhost:8080/"
        },
        "id": "IxPkjtmbwx31",
        "outputId": "81b4d257-0793-4542-cf34-56b17810565e"
      },
      "outputs": [
        {
          "name": "stdout",
          "output_type": "stream",
          "text": [
            "(106, 6)\n"
          ]
        }
      ],
      "source": [
        "print(data20202.shape) #Cantidad de registros (filas, columnas)"
      ]
    },
    {
      "cell_type": "code",
      "execution_count": null,
      "metadata": {
        "colab": {
          "base_uri": "https://localhost:8080/"
        },
        "id": "KoB6jH6-0aBn",
        "outputId": "b8e33557-9aa7-4c1e-ba62-fd0d57852fb0"
      },
      "outputs": [
        {
          "data": {
            "text/plain": [
              "Open         106\n",
              "High         106\n",
              "Low          106\n",
              "Close        106\n",
              "Adj Close    106\n",
              "Volume       106\n",
              "dtype: int64"
            ]
          },
          "execution_count": 72,
          "metadata": {},
          "output_type": "execute_result"
        }
      ],
      "source": [
        "data20202.count() #Cuenta los valores no nulos o que no tienen N/A"
      ]
    },
    {
      "cell_type": "code",
      "execution_count": null,
      "metadata": {
        "colab": {
          "base_uri": "https://localhost:8080/"
        },
        "id": "qb4duP3Kw6RF",
        "outputId": "c86f4d0a-0fa3-4ef0-c7a7-8cd74ec9d030"
      },
      "outputs": [
        {
          "name": "stdout",
          "output_type": "stream",
          "text": [
            "112.22125006621738\n"
          ]
        }
      ],
      "source": [
        "print(data20202.Open.mean())"
      ]
    },
    {
      "cell_type": "code",
      "execution_count": null,
      "metadata": {
        "colab": {
          "base_uri": "https://localhost:8080/"
        },
        "id": "nX5c2W8gxBGk",
        "outputId": "0d551f8d-6815-486b-ba6e-be6c007b70f0"
      },
      "outputs": [
        {
          "name": "stdout",
          "output_type": "stream",
          "text": [
            "112.0848345486623\n"
          ]
        }
      ],
      "source": [
        "print(data20202.Close.mean())"
      ]
    },
    {
      "cell_type": "code",
      "execution_count": null,
      "metadata": {
        "colab": {
          "base_uri": "https://localhost:8080/",
          "height": 455
        },
        "id": "i5li-i-d004e",
        "outputId": "9ee2c311-8e19-4613-df0c-e6786c832eef"
      },
      "outputs": [
        {
          "data": {
            "image/png": "[encoded data removed]",
            "text/plain": [
              "<Figure size 640x480 with 1 Axes>"
            ]
          },
          "metadata": {},
          "output_type": "display_data"
        }
      ],
      "source": [
        "# Trama del precio de cierre ajustado\n",
        "data20202['Adj Close'].plot()\n",
        "plt.title('Precio de cierre ajustado de AAPL 2020 -2')\n",
        "plt.xlabel('Fecha')\n",
        "plt.ylabel('Precio de cierre ajustado')\n",
        "plt.show()"
      ]
    },
    {
      "cell_type": "code",
      "execution_count": null,
      "metadata": {
        "colab": {
          "base_uri": "https://localhost:8080/"
        },
        "id": "0JxrvbY84VnR",
        "outputId": "e87c340d-bde7-44eb-f32a-8a16a46fdf95"
      },
      "outputs": [
        {
          "name": "stderr",
          "output_type": "stream",
          "text": [
            "[*********************100%%**********************]  1 of 1 completed\n",
            "[*********************100%%**********************]  1 of 1 completed\n"
          ]
        }
      ],
      "source": [
        "# Obtener los datos de cotización de una acción en el año 2020\n",
        "data20232 = yf.download('AAPL', start='2023-07-01', end='2023-12-31')\n",
        "data20241 = yf.download('AAPL', start='2024-01-01', end='2024-07-01')"
      ]
    },
    {
      "cell_type": "code",
      "execution_count": null,
      "metadata": {
        "colab": {
          "base_uri": "https://localhost:8080/",
          "height": 455
        },
        "id": "b2mWsVvL4oN2",
        "outputId": "8bfffb9e-e1bb-4e46-a394-e4167b000260"
      },
      "outputs": [
        {
          "data": {
            "application/vnd.google.colaboratory.intrinsic+json": {
              "summary": "{\n  \"name\": \"data20232\",\n  \"rows\": 126,\n  \"fields\": [\n    {\n      \"column\": \"Date\",\n      \"properties\": {\n        \"dtype\": \"date\",\n        \"min\": \"2023-07-03 00:00:00\",\n        \"max\": \"2023-12-29 00:00:00\",\n        \"num_unique_values\": 126,\n        \"samples\": [\n          \"2023-10-16 00:00:00\",\n          \"2023-07-31 00:00:00\",\n          \"2023-12-15 00:00:00\"\n        ],\n        \"semantic_type\": \"\",\n        \"description\": \"\"\n      }\n    },\n    {\n      \"column\": \"Open\",\n      \"properties\": {\n        \"dtype\": \"number\",\n        \"std\": 8.698106568583798,\n        \"min\": 166.91000366210938,\n        \"max\": 198.02000427246094,\n        \"num_unique_values\": 120,\n        \"samples\": [\n          188.39999389648438,\n          180.07000732421875,\n          189.25999450683594\n        ],\n        \"semantic_type\": \"\",\n        \"description\": \"\"\n      }\n    },\n    {\n      \"column\": \"High\",\n      \"properties\": {\n        \"dtype\": \"number\",\n        \"std\": 8.420352538781035,\n        \"min\": 168.9600067138672,\n        \"max\": 199.6199951171875,\n        \"num_unique_values\": 124,\n        \"samples\": [\n          196.6300048828125,\n          189.1199951171875,\n          181.5500030517578\n        ],\n        \"semantic_type\": \"\",\n        \"description\": \"\"\n      }\n    },\n    {\n      \"column\": \"Low\",\n      \"properties\": {\n        \"dtype\": \"number\",\n        \"std\": 8.755000947501784,\n        \"min\": 165.6699981689453,\n        \"max\": 197.0,\n        \"num_unique_values\": 125,\n        \"samples\": [\n          194.13999938964844,\n          187.47999572753906,\n          178.3300018310547\n        ],\n        \"semantic_type\": \"\",\n        \"description\": \"\"\n      }\n    },\n    {\n      \"column\": \"Close\",\n      \"properties\": {\n        \"dtype\": \"number\",\n        \"std\": 8.535429668310409,\n        \"min\": 166.88999938964844,\n        \"max\": 198.11000061035156,\n        \"num_unique_values\": 122,\n        \"samples\": [\n          195.8300018310547,\n          182.91000366210938,\n          178.17999267578125\n        ],\n        \"semantic_type\": \"\",\n        \"description\": \"\"\n      }\n    },\n    {\n      \"column\": \"Adj Close\",\n      \"properties\": {\n        \"dtype\": \"number\",\n        \"std\": 8.517865356652834,\n        \"min\": 166.04037475585938,\n        \"max\": 197.361083984375,\n        \"num_unique_values\": 125,\n        \"samples\": [\n          194.57028198242188,\n          186.91354370117188,\n          180.19790649414062\n        ],\n        \"semantic_type\": \"\",\n        \"description\": \"\"\n      }\n    },\n    {\n      \"column\": \"Volume\",\n      \"properties\": {\n        \"dtype\": \"number\",\n        \"std\": 16381249,\n        \"min\": 24048300,\n        \"max\": 128256700,\n        \"num_unique_values\": 126,\n        \"samples\": [\n          52517000,\n          38824100,\n          128256700\n        ],\n        \"semantic_type\": \"\",\n        \"description\": \"\"\n      }\n    }\n  ]\n}",
              "type": "dataframe",
              "variable_name": "data20232"
            },
            "text/html": [
              "\n",
              "  <div id=\"df-87b2fa1e-deef-40f0-8eb0-b516cf92632b\" class=\"colab-df-container\">\n",
              "    <div>\n",
              "<style scoped>\n",
              "    .dataframe tbody tr th:only-of-type {\n",
              "        vertical-align: middle;\n",
              "    }\n",
              "\n",
              "    .dataframe tbody tr th {\n",
              "        vertical-align: top;\n",
              "    }\n",
              "\n",
              "    .dataframe thead th {\n",
              "        text-align: right;\n",
              "    }\n",
              "</style>\n",
              "<table border=\"1\" class=\"dataframe\">\n",
              "  <thead>\n",
              "    <tr style=\"text-align: right;\">\n",
              "      <th></th>\n",
              "      <th>Open</th>\n",
              "      <th>High</th>\n",
              "      <th>Low</th>\n",
              "      <th>Close</th>\n",
              "      <th>Adj Close</th>\n",
              "      <th>Volume</th>\n",
              "    </tr>\n",
              "    <tr>\n",
              "      <th>Date</th>\n",
              "      <th></th>\n",
              "      <th></th>\n",
              "      <th></th>\n",
              "      <th></th>\n",
              "      <th></th>\n",
              "      <th></th>\n",
              "    </tr>\n",
              "  </thead>\n",
              "  <tbody>\n",
              "    <tr>\n",
              "      <th>2023-07-03</th>\n",
              "      <td>193.779999</td>\n",
              "      <td>193.880005</td>\n",
              "      <td>191.759995</td>\n",
              "      <td>192.460007</td>\n",
              "      <td>191.221970</td>\n",
              "      <td>31458200</td>\n",
              "    </tr>\n",
              "    <tr>\n",
              "      <th>2023-07-05</th>\n",
              "      <td>191.570007</td>\n",
              "      <td>192.979996</td>\n",
              "      <td>190.619995</td>\n",
              "      <td>191.330002</td>\n",
              "      <td>190.099228</td>\n",
              "      <td>46920300</td>\n",
              "    </tr>\n",
              "    <tr>\n",
              "      <th>2023-07-06</th>\n",
              "      <td>189.839996</td>\n",
              "      <td>192.020004</td>\n",
              "      <td>189.199997</td>\n",
              "      <td>191.809998</td>\n",
              "      <td>190.576141</td>\n",
              "      <td>45094300</td>\n",
              "    </tr>\n",
              "    <tr>\n",
              "      <th>2023-07-07</th>\n",
              "      <td>191.410004</td>\n",
              "      <td>192.669998</td>\n",
              "      <td>190.240005</td>\n",
              "      <td>190.679993</td>\n",
              "      <td>189.453400</td>\n",
              "      <td>46778000</td>\n",
              "    </tr>\n",
              "    <tr>\n",
              "      <th>2023-07-10</th>\n",
              "      <td>189.259995</td>\n",
              "      <td>189.990005</td>\n",
              "      <td>187.039993</td>\n",
              "      <td>188.610001</td>\n",
              "      <td>187.396713</td>\n",
              "      <td>59922200</td>\n",
              "    </tr>\n",
              "    <tr>\n",
              "      <th>...</th>\n",
              "      <td>...</td>\n",
              "      <td>...</td>\n",
              "      <td>...</td>\n",
              "      <td>...</td>\n",
              "      <td>...</td>\n",
              "      <td>...</td>\n",
              "    </tr>\n",
              "    <tr>\n",
              "      <th>2023-12-22</th>\n",
              "      <td>195.179993</td>\n",
              "      <td>195.410004</td>\n",
              "      <td>192.970001</td>\n",
              "      <td>193.600006</td>\n",
              "      <td>192.868149</td>\n",
              "      <td>37122800</td>\n",
              "    </tr>\n",
              "    <tr>\n",
              "      <th>2023-12-26</th>\n",
              "      <td>193.610001</td>\n",
              "      <td>193.889999</td>\n",
              "      <td>192.830002</td>\n",
              "      <td>193.050003</td>\n",
              "      <td>192.320206</td>\n",
              "      <td>28919300</td>\n",
              "    </tr>\n",
              "    <tr>\n",
              "      <th>2023-12-27</th>\n",
              "      <td>192.490005</td>\n",
              "      <td>193.500000</td>\n",
              "      <td>191.089996</td>\n",
              "      <td>193.149994</td>\n",
              "      <td>192.419830</td>\n",
              "      <td>48087700</td>\n",
              "    </tr>\n",
              "    <tr>\n",
              "      <th>2023-12-28</th>\n",
              "      <td>194.139999</td>\n",
              "      <td>194.660004</td>\n",
              "      <td>193.169998</td>\n",
              "      <td>193.580002</td>\n",
              "      <td>192.848206</td>\n",
              "      <td>34049900</td>\n",
              "    </tr>\n",
              "    <tr>\n",
              "      <th>2023-12-29</th>\n",
              "      <td>193.899994</td>\n",
              "      <td>194.399994</td>\n",
              "      <td>191.729996</td>\n",
              "      <td>192.529999</td>\n",
              "      <td>191.802170</td>\n",
              "      <td>42628800</td>\n",
              "    </tr>\n",
              "  </tbody>\n",
              "</table>\n",
              "<p>126 rows × 6 columns</p>\n",
              "</div>\n",
              "    <div class=\"colab-df-buttons\">\n",
              "\n",
              "  <div class=\"colab-df-container\">\n",
              "    <button class=\"colab-df-convert\" onclick=\"convertToInteractive('df-87b2fa1e-deef-40f0-8eb0-b516cf92632b')\"\n",
              "            title=\"Convert this dataframe to an interactive table.\"\n",
              "            style=\"display:none;\">\n",
              "\n",
              "  <svg xmlns=\"http://www.w3.org/2000/svg\" height=\"24px\" viewBox=\"0 -960 960 960\">\n",
              "    <path d=\"M120-120v-720h720v720H120Zm60-500h600v-160H180v160Zm220 220h160v-160H400v160Zm0 220h160v-160H400v160ZM180-400h160v-160H180v160Zm440 0h160v-160H620v160ZM180-180h160v-160H180v160Zm440 0h160v-160H620v160Z\"/>\n",
              "  </svg>\n",
              "    </button>\n",
              "\n",
              "  <style>\n",
              "    .colab-df-container {\n",
              "      display:flex;\n",
              "      gap: 12px;\n",
              "    }\n",
              "\n",
              "    .colab-df-convert {\n",
              "      background-color: #E8F0FE;\n",
              "      border: none;\n",
              "      border-radius: 50%;\n",
              "      cursor: pointer;\n",
              "      display: none;\n",
              "      fill: #1967D2;\n",
              "      height: 32px;\n",
              "      padding: 0 0 0 0;\n",
              "      width: 32px;\n",
              "    }\n",
              "\n",
              "    .colab-df-convert:hover {\n",
              "      background-color: #E2EBFA;\n",
              "      box-shadow: 0px 1px 2px rgba(60, 64, 67, 0.3), 0px 1px 3px 1px rgba(60, 64, 67, 0.15);\n",
              "      fill: #174EA6;\n",
              "    }\n",
              "\n",
              "    .colab-df-buttons div {\n",
              "      margin-bottom: 4px;\n",
              "    }\n",
              "\n",
              "    [theme=dark] .colab-df-convert {\n",
              "      background-color: #3B4455;\n",
              "      fill: #D2E3FC;\n",
              "    }\n",
              "\n",
              "    [theme=dark] .colab-df-convert:hover {\n",
              "      background-color: #434B5C;\n",
              "      box-shadow: 0px 1px 3px 1px rgba(0, 0, 0, 0.15);\n",
              "      filter: drop-shadow(0px 1px 2px rgba(0, 0, 0, 0.3));\n",
              "      fill: #FFFFFF;\n",
              "    }\n",
              "  </style>\n",
              "\n",
              "    <script>\n",
              "      const buttonEl =\n",
              "        document.querySelector('#df-87b2fa1e-deef-40f0-8eb0-b516cf92632b button.colab-df-convert');\n",
              "      buttonEl.style.display =\n",
              "        google.colab.kernel.accessAllowed ? 'block' : 'none';\n",
              "\n",
              "      async function convertToInteractive(key) {\n",
              "        const element = document.querySelector('#df-87b2fa1e-deef-40f0-8eb0-b516cf92632b');\n",
              "        const dataTable =\n",
              "          await google.colab.kernel.invokeFunction('convertToInteractive',\n",
              "                                                    [key], {});\n",
              "        if (!dataTable) return;\n",
              "\n",
              "        const docLinkHtml = 'Like what you see? Visit the ' +\n",
              "          '<a target=\"_blank\" href=https://colab.research.google.com/notebooks/data_table.ipynb>data table notebook</a>'\n",
              "          + ' to learn more about interactive tables.';\n",
              "        element.innerHTML = '';\n",
              "        dataTable['output_type'] = 'display_data';\n",
              "        await google.colab.output.renderOutput(dataTable, element);\n",
              "        const docLink = document.createElement('div');\n",
              "        docLink.innerHTML = docLinkHtml;\n",
              "        element.appendChild(docLink);\n",
              "      }\n",
              "    </script>\n",
              "  </div>\n",
              "\n",
              "\n",
              "<div id=\"df-4435fd1c-fe76-4383-8540-831855f4c217\">\n",
              "  <button class=\"colab-df-quickchart\" onclick=\"quickchart('df-4435fd1c-fe76-4383-8540-831855f4c217')\"\n",
              "            title=\"Suggest charts\"\n",
              "            style=\"display:none;\">\n",
              "\n",
              "<svg xmlns=\"http://www.w3.org/2000/svg\" height=\"24px\"viewBox=\"0 0 24 24\"\n",
              "     width=\"24px\">\n",
              "    <g>\n",
              "        <path d=\"M19 3H5c-1.1 0-2 .9-2 2v14c0 1.1.9 2 2 2h14c1.1 0 2-.9 2-2V5c0-1.1-.9-2-2-2zM9 17H7v-7h2v7zm4 0h-2V7h2v10zm4 0h-2v-4h2v4z\"/>\n",
              "    </g>\n",
              "</svg>\n",
              "  </button>\n",
              "\n",
              "<style>\n",
              "  .colab-df-quickchart {\n",
              "      --bg-color: #E8F0FE;\n",
              "      --fill-color: #1967D2;\n",
              "      --hover-bg-color: #E2EBFA;\n",
              "      --hover-fill-color: #174EA6;\n",
              "      --disabled-fill-color: #AAA;\n",
              "      --disabled-bg-color: #DDD;\n",
              "  }\n",
              "\n",
              "  [theme=dark] .colab-df-quickchart {\n",
              "      --bg-color: #3B4455;\n",
              "      --fill-color: #D2E3FC;\n",
              "      --hover-bg-color: #434B5C;\n",
              "      --hover-fill-color: #FFFFFF;\n",
              "      --disabled-bg-color: #3B4455;\n",
              "      --disabled-fill-color: #666;\n",
              "  }\n",
              "\n",
              "  .colab-df-quickchart {\n",
              "    background-color: var(--bg-color);\n",
              "    border: none;\n",
              "    border-radius: 50%;\n",
              "    cursor: pointer;\n",
              "    display: none;\n",
              "    fill: var(--fill-color);\n",
              "    height: 32px;\n",
              "    padding: 0;\n",
              "    width: 32px;\n",
              "  }\n",
              "\n",
              "  .colab-df-quickchart:hover {\n",
              "    background-color: var(--hover-bg-color);\n",
              "    box-shadow: 0 1px 2px rgba(60, 64, 67, 0.3), 0 1px 3px 1px rgba(60, 64, 67, 0.15);\n",
              "    fill: var(--button-hover-fill-color);\n",
              "  }\n",
              "\n",
              "  .colab-df-quickchart-complete:disabled,\n",
              "  .colab-df-quickchart-complete:disabled:hover {\n",
              "    background-color: var(--disabled-bg-color);\n",
              "    fill: var(--disabled-fill-color);\n",
              "    box-shadow: none;\n",
              "  }\n",
              "\n",
              "  .colab-df-spinner {\n",
              "    border: 2px solid var(--fill-color);\n",
              "    border-color: transparent;\n",
              "    border-bottom-color: var(--fill-color);\n",
              "    animation:\n",
              "      spin 1s steps(1) infinite;\n",
              "  }\n",
              "\n",
              "  @keyframes spin {\n",
              "    0% {\n",
              "      border-color: transparent;\n",
              "      border-bottom-color: var(--fill-color);\n",
              "      border-left-color: var(--fill-color);\n",
              "    }\n",
              "    20% {\n",
              "      border-color: transparent;\n",
              "      border-left-color: var(--fill-color);\n",
              "      border-top-color: var(--fill-color);\n",
              "    }\n",
              "    30% {\n",
              "      border-color: transparent;\n",
              "      border-left-color: var(--fill-color);\n",
              "      border-top-color: var(--fill-color);\n",
              "      border-right-color: var(--fill-color);\n",
              "    }\n",
              "    40% {\n",
              "      border-color: transparent;\n",
              "      border-right-color: var(--fill-color);\n",
              "      border-top-color: var(--fill-color);\n",
              "    }\n",
              "    60% {\n",
              "      border-color: transparent;\n",
              "      border-right-color: var(--fill-color);\n",
              "    }\n",
              "    80% {\n",
              "      border-color: transparent;\n",
              "      border-right-color: var(--fill-color);\n",
              "      border-bottom-color: var(--fill-color);\n",
              "    }\n",
              "    90% {\n",
              "      border-color: transparent;\n",
              "      border-bottom-color: var(--fill-color);\n",
              "    }\n",
              "  }\n",
              "</style>\n",
              "\n",
              "  <script>\n",
              "    async function quickchart(key) {\n",
              "      const quickchartButtonEl =\n",
              "        document.querySelector('#' + key + ' button');\n",
              "      quickchartButtonEl.disabled = true;  // To prevent multiple clicks.\n",
              "      quickchartButtonEl.classList.add('colab-df-spinner');\n",
              "      try {\n",
              "        const charts = await google.colab.kernel.invokeFunction(\n",
              "            'suggestCharts', [key], {});\n",
              "      } catch (error) {\n",
              "        console.error('Error during call to suggestCharts:', error);\n",
              "      }\n",
              "      quickchartButtonEl.classList.remove('colab-df-spinner');\n",
              "      quickchartButtonEl.classList.add('colab-df-quickchart-complete');\n",
              "    }\n",
              "    (() => {\n",
              "      let quickchartButtonEl =\n",
              "        document.querySelector('#df-4435fd1c-fe76-4383-8540-831855f4c217 button');\n",
              "      quickchartButtonEl.style.display =\n",
              "        google.colab.kernel.accessAllowed ? 'block' : 'none';\n",
              "    })();\n",
              "  </script>\n",
              "</div>\n",
              "\n",
              "  <div id=\"id_7e485279-a8fb-4e31-8ace-98c98cacad58\">\n",
              "    <style>\n",
              "      .colab-df-generate {\n",
              "        background-color: #E8F0FE;\n",
              "        border: none;\n",
              "        border-radius: 50%;\n",
              "        cursor: pointer;\n",
              "        display: none;\n",
              "        fill: #1967D2;\n",
              "        height: 32px;\n",
              "        padding: 0 0 0 0;\n",
              "        width: 32px;\n",
              "      }\n",
              "\n",
              "      .colab-df-generate:hover {\n",
              "        background-color: #E2EBFA;\n",
              "        box-shadow: 0px 1px 2px rgba(60, 64, 67, 0.3), 0px 1px 3px 1px rgba(60, 64, 67, 0.15);\n",
              "        fill: #174EA6;\n",
              "      }\n",
              "\n",
              "      [theme=dark] .colab-df-generate {\n",
              "        background-color: #3B4455;\n",
              "        fill: #D2E3FC;\n",
              "      }\n",
              "\n",
              "      [theme=dark] .colab-df-generate:hover {\n",
              "        background-color: #434B5C;\n",
              "        box-shadow: 0px 1px 3px 1px rgba(0, 0, 0, 0.15);\n",
              "        filter: drop-shadow(0px 1px 2px rgba(0, 0, 0, 0.3));\n",
              "        fill: #FFFFFF;\n",
              "      }\n",
              "    </style>\n",
              "    <button class=\"colab-df-generate\" onclick=\"generateWithVariable('data20232')\"\n",
              "            title=\"Generate code using this dataframe.\"\n",
              "            style=\"display:none;\">\n",
              "\n",
              "  <svg xmlns=\"http://www.w3.org/2000/svg\" height=\"24px\"viewBox=\"0 0 24 24\"\n",
              "       width=\"24px\">\n",
              "    <path d=\"M7,19H8.4L18.45,9,17,7.55,7,17.6ZM5,21V16.75L18.45,3.32a2,2,0,0,1,2.83,0l1.4,1.43a1.91,1.91,0,0,1,.58,1.4,1.91,1.91,0,0,1-.58,1.4L9.25,21ZM18.45,9,17,7.55Zm-12,3A5.31,5.31,0,0,0,4.9,8.1,5.31,5.31,0,0,0,1,6.5,5.31,5.31,0,0,0,4.9,4.9,5.31,5.31,0,0,0,6.5,1,5.31,5.31,0,0,0,8.1,4.9,5.31,5.31,0,0,0,12,6.5,5.46,5.46,0,0,0,6.5,12Z\"/>\n",
              "  </svg>\n",
              "    </button>\n",
              "    <script>\n",
              "      (() => {\n",
              "      const buttonEl =\n",
              "        document.querySelector('#id_7e485279-a8fb-4e31-8ace-98c98cacad58 button.colab-df-generate');\n",
              "      buttonEl.style.display =\n",
              "        google.colab.kernel.accessAllowed ? 'block' : 'none';\n",
              "\n",
              "      buttonEl.onclick = () => {\n",
              "        google.colab.notebook.generateWithVariable('data20232');\n",
              "      }\n",
              "      })();\n",
              "    </script>\n",
              "  </div>\n",
              "\n",
              "    </div>\n",
              "  </div>\n"
            ],
            "text/plain": [
              "                  Open        High         Low       Close   Adj Close  \\\n",
              "Date                                                                     \n",
              "2023-07-03  193.779999  193.880005  191.759995  192.460007  191.221970   \n",
              "2023-07-05  191.570007  192.979996  190.619995  191.330002  190.099228   \n",
              "2023-07-06  189.839996  192.020004  189.199997  191.809998  190.576141   \n",
              "2023-07-07  191.410004  192.669998  190.240005  190.679993  189.453400   \n",
              "2023-07-10  189.259995  189.990005  187.039993  188.610001  187.396713   \n",
              "...                ...         ...         ...         ...         ...   \n",
              "2023-12-22  195.179993  195.410004  192.970001  193.600006  192.868149   \n",
              "2023-12-26  193.610001  193.889999  192.830002  193.050003  192.320206   \n",
              "2023-12-27  192.490005  193.500000  191.089996  193.149994  192.419830   \n",
              "2023-12-28  194.139999  194.660004  193.169998  193.580002  192.848206   \n",
              "2023-12-29  193.899994  194.399994  191.729996  192.529999  191.802170   \n",
              "\n",
              "              Volume  \n",
              "Date                  \n",
              "2023-07-03  31458200  \n",
              "2023-07-05  46920300  \n",
              "2023-07-06  45094300  \n",
              "2023-07-07  46778000  \n",
              "2023-07-10  59922200  \n",
              "...              ...  \n",
              "2023-12-22  37122800  \n",
              "2023-12-26  28919300  \n",
              "2023-12-27  48087700  \n",
              "2023-12-28  34049900  \n",
              "2023-12-29  42628800  \n",
              "\n",
              "[126 rows x 6 columns]"
            ]
          },
          "execution_count": 84,
          "metadata": {},
          "output_type": "execute_result"
        }
      ],
      "source": [
        "data20232"
      ]
    },
    {
      "cell_type": "code",
      "execution_count": null,
      "metadata": {
        "colab": {
          "base_uri": "https://localhost:8080/"
        },
        "id": "Q5tzRz-8468_",
        "outputId": "97e9c32a-1736-462a-f681-ce2a06a58b4a"
      },
      "outputs": [
        {
          "data": {
            "text/plain": [
              "(126, 6)"
            ]
          },
          "execution_count": 85,
          "metadata": {},
          "output_type": "execute_result"
        }
      ],
      "source": [
        "data20232.shape"
      ]
    },
    {
      "cell_type": "code",
      "execution_count": null,
      "metadata": {
        "colab": {
          "base_uri": "https://localhost:8080/"
        },
        "id": "T1k3_D4E5ekG",
        "outputId": "c6996006-8ed0-4543-d1ab-6c0e283b1c01"
      },
      "outputs": [
        {
          "data": {
            "text/plain": [
              "Open         126\n",
              "High         126\n",
              "Low          126\n",
              "Close        126\n",
              "Adj Close    126\n",
              "Volume       126\n",
              "dtype: int64"
            ]
          },
          "execution_count": 87,
          "metadata": {},
          "output_type": "execute_result"
        }
      ],
      "source": [
        "data20232.count() #Cuenta los valores no nulos o que no tienen N/A"
      ]
    },
    {
      "cell_type": "code",
      "execution_count": null,
      "metadata": {
        "colab": {
          "base_uri": "https://localhost:8080/"
        },
        "id": "Noi2VUfs5m8N",
        "outputId": "1bd1e5ed-ba83-4ce3-a7fa-dc46b6ed1897"
      },
      "outputs": [
        {
          "name": "stdout",
          "output_type": "stream",
          "text": [
            "183.95301637195405\n"
          ]
        }
      ],
      "source": [
        "print(data20232.Open.mean())"
      ]
    },
    {
      "cell_type": "code",
      "execution_count": null,
      "metadata": {
        "colab": {
          "base_uri": "https://localhost:8080/"
        },
        "id": "v-1ovDs05qSL",
        "outputId": "84e9bc0b-9cdb-4c61-f534-385d48f11860"
      },
      "outputs": [
        {
          "name": "stdout",
          "output_type": "stream",
          "text": [
            "184.0123816596137\n"
          ]
        }
      ],
      "source": [
        "print(data20232.Close.mean())"
      ]
    },
    {
      "cell_type": "code",
      "execution_count": null,
      "metadata": {
        "colab": {
          "base_uri": "https://localhost:8080/",
          "height": 455
        },
        "id": "SmY7LmfM5y3C",
        "outputId": "3010ca2c-7522-4474-d282-326f894377aa"
      },
      "outputs": [
        {
          "data": {
            "image/png": "[encoded data removed]",
            "text/plain": [
              "<Figure size 640x480 with 1 Axes>"
            ]
          },
          "metadata": {},
          "output_type": "display_data"
        }
      ],
      "source": [
        "# Trama del precio de cierre ajustado\n",
        "data20232['Adj Close'].plot()\n",
        "plt.title('Precio de cierre ajustado de AAPL 2023 -2')\n",
        "plt.xlabel('Fecha')\n",
        "plt.ylabel('Precio de cierre ajustado')\n",
        "plt.show()"
      ]
    },
    {
      "attachments": {},
      "cell_type": "markdown",
      "metadata": {
        "id": "JGYTnifE7fLP"
      },
      "source": [
        "Reto: Grafica el comportamiento de la cotización de una acción en el semestre 2024 - 1"
      ]
    },
    {
      "attachments": {},
      "cell_type": "markdown",
      "metadata": {
        "id": "KfDobggl8s5B"
      },
      "source": [
        "###Conclusiones: Escribe tu conclusión tomando el cuenta el mejor momento para adquirir una acción."
      ]
    },
    {
      "attachments": {},
      "cell_type": "markdown",
      "metadata": {
        "id": "g9120POmthJy"
      },
      "source": [
        "# Análisis de acciones - reto 2"
      ]
    },
    {
      "attachments": {},
      "cell_type": "markdown",
      "metadata": {
        "id": "k0EP3Pcx7-NP"
      },
      "source": [
        "### A partir de la siguiente base de datos, realiza un análisis tomando en cuenta las variables año, symbols, país y el indicador_id.\n",
        "####Nota: Puedes cambiar las fechas..."
      ]
    },
    {
      "cell_type": "code",
      "execution_count": 11,
      "metadata": {
        "id": "UnBIlclGnbzp"
      },
      "outputs": [],
      "source": [
        "from pandas_datareader import wb\n",
        "from datetime import datetime\n",
        "start = datetime(2005, 1, 1)\n",
        "end = datetime(2008, 1, 1)\n",
        "indicator_id = 'NY.GDP.PCAP.KD'"
      ]
    },
    {
      "cell_type": "code",
      "execution_count": 12,
      "metadata": {
        "id": "Uu9PCcknnknp"
      },
      "outputs": [
        {
          "name": "stderr",
          "output_type": "stream",
          "text": [
            "c:\\Program Files\\Python39\\lib\\site-packages\\pandas_datareader\\wb.py:666: FutureWarning: errors='ignore' is deprecated and will raise in a future version. Use to_numeric without passing `errors` and catch exceptions explicitly instead\n",
            "  out = out.apply(pd.to_numeric, errors=\"ignore\")\n"
          ]
        }
      ],
      "source": [
        "dp_per_capita = wb.download(indicator=indicator_id, start=start, end=end, country= [\"US\",\"CA\", \"MX\"])"
      ]
    },
    {
      "cell_type": "code",
      "execution_count": 13,
      "metadata": {
        "colab": {
          "base_uri": "https://localhost:8080/",
          "height": 456
        },
        "id": "qN2lK33_noax",
        "outputId": "e62dd19b-9b57-4183-f31d-a770c3b7bdc0"
      },
      "outputs": [
        {
          "data": {
            "text/html": [
              "<div>\n",
              "<style scoped>\n",
              "    .dataframe tbody tr th:only-of-type {\n",
              "        vertical-align: middle;\n",
              "    }\n",
              "\n",
              "    .dataframe tbody tr th {\n",
              "        vertical-align: top;\n",
              "    }\n",
              "\n",
              "    .dataframe thead th {\n",
              "        text-align: right;\n",
              "    }\n",
              "</style>\n",
              "<table border=\"1\" class=\"dataframe\">\n",
              "  <thead>\n",
              "    <tr style=\"text-align: right;\">\n",
              "      <th></th>\n",
              "      <th></th>\n",
              "      <th>NY.GDP.PCAP.KD</th>\n",
              "    </tr>\n",
              "    <tr>\n",
              "      <th>country</th>\n",
              "      <th>year</th>\n",
              "      <th></th>\n",
              "    </tr>\n",
              "  </thead>\n",
              "  <tbody>\n",
              "    <tr>\n",
              "      <th rowspan=\"4\" valign=\"top\">Canada</th>\n",
              "      <th>2008</th>\n",
              "      <td>42067.568700</td>\n",
              "    </tr>\n",
              "    <tr>\n",
              "      <th>2007</th>\n",
              "      <td>42106.872427</td>\n",
              "    </tr>\n",
              "    <tr>\n",
              "      <th>2006</th>\n",
              "      <td>41663.512305</td>\n",
              "    </tr>\n",
              "    <tr>\n",
              "      <th>2005</th>\n",
              "      <td>41006.222932</td>\n",
              "    </tr>\n",
              "    <tr>\n",
              "      <th rowspan=\"4\" valign=\"top\">Mexico</th>\n",
              "      <th>2008</th>\n",
              "      <td>9888.139445</td>\n",
              "    </tr>\n",
              "    <tr>\n",
              "      <th>2007</th>\n",
              "      <td>9920.687841</td>\n",
              "    </tr>\n",
              "    <tr>\n",
              "      <th>2006</th>\n",
              "      <td>9847.512822</td>\n",
              "    </tr>\n",
              "    <tr>\n",
              "      <th>2005</th>\n",
              "      <td>9524.742437</td>\n",
              "    </tr>\n",
              "    <tr>\n",
              "      <th rowspan=\"4\" valign=\"top\">United States</th>\n",
              "      <th>2008</th>\n",
              "      <td>53703.962896</td>\n",
              "    </tr>\n",
              "    <tr>\n",
              "      <th>2007</th>\n",
              "      <td>54152.829265</td>\n",
              "    </tr>\n",
              "    <tr>\n",
              "      <th>2006</th>\n",
              "      <td>53596.315237</td>\n",
              "    </tr>\n",
              "    <tr>\n",
              "      <th>2005</th>\n",
              "      <td>52649.571305</td>\n",
              "    </tr>\n",
              "  </tbody>\n",
              "</table>\n",
              "</div>"
            ],
            "text/plain": [
              "                    NY.GDP.PCAP.KD\n",
              "country       year                \n",
              "Canada        2008    42067.568700\n",
              "              2007    42106.872427\n",
              "              2006    41663.512305\n",
              "              2005    41006.222932\n",
              "Mexico        2008     9888.139445\n",
              "              2007     9920.687841\n",
              "              2006     9847.512822\n",
              "              2005     9524.742437\n",
              "United States 2008    53703.962896\n",
              "              2007    54152.829265\n",
              "              2006    53596.315237\n",
              "              2005    52649.571305"
            ]
          },
          "execution_count": 13,
          "metadata": {},
          "output_type": "execute_result"
        }
      ],
      "source": [
        "dp_per_capita"
      ]
    },
    {
      "cell_type": "code",
      "execution_count": 14,
      "metadata": {
        "id": "Cof0s6r8oQmA"
      },
      "outputs": [],
      "source": [
        "from pandas_datareader.nasdaq_trader import get_nasdaq_symbols"
      ]
    },
    {
      "cell_type": "code",
      "execution_count": 15,
      "metadata": {
        "id": "053lKgp4pQnX"
      },
      "outputs": [],
      "source": [
        "from ftplib import FTP, all_errors\n",
        "import time\n",
        "import warnings\n",
        "\n",
        "from pandas import read_csv\n",
        "\n",
        "from pandas_datareader._utils import RemoteDataError\n",
        "from pandas_datareader.compat import StringIO\n",
        "\n",
        "_NASDAQ_TICKER_LOC = \"/SymbolDirectory/nasdaqtraded.txt\"\n",
        "_NASDAQ_FTP_SERVER = \"ftp.nasdaqtrader.com\"\n",
        "_TICKER_DTYPE = [\n",
        "    (\"Nasdaq Traded\", bool),\n",
        "    (\"Symbol\", str),\n",
        "    (\"Security Name\", str),\n",
        "    (\"Listing Exchange\", str),\n",
        "    (\"Market Category\", str),\n",
        "    (\"ETF\", bool),\n",
        "    (\"Round Lot Size\", float),\n",
        "    (\"Test Issue\", bool),\n",
        "    (\"Financial Status\", str),\n",
        "    (\"CQS Symbol\", str),\n",
        "    (\"NASDAQ Symbol\", str),\n",
        "    (\"NextShares\", bool),\n",
        "]\n",
        "_CATEGORICAL = (\"Listing Exchange\", \"Financial Status\")\n",
        "\n",
        "_DELIMITER = \"|\"\n",
        "_ticker_cache = None\n",
        "\n",
        "\n",
        "def _bool_converter(item):\n",
        "    return item == \"Y\"\n",
        "\n",
        "\n",
        "def _download_nasdaq_symbols(timeout):\n",
        "    \"\"\"\n",
        "    @param timeout: the time to wait for the FTP connection\n",
        "    \"\"\"\n",
        "    try:\n",
        "        ftp_session = FTP(_NASDAQ_FTP_SERVER, timeout=timeout)\n",
        "        ftp_session.login()\n",
        "    except all_errors as err:\n",
        "        raise RemoteDataError(\"Error connecting to %r: %s\" % (_NASDAQ_FTP_SERVER, err))\n",
        "\n",
        "    lines = []\n",
        "    try:\n",
        "        ftp_session.retrlines(\"RETR \" + _NASDAQ_TICKER_LOC, lines.append)\n",
        "    except all_errors as err:\n",
        "        raise RemoteDataError(\n",
        "            \"Error downloading from %r: %s\" % (_NASDAQ_FTP_SERVER, err)\n",
        "        )\n",
        "    finally:\n",
        "        ftp_session.close()\n",
        "\n",
        "    # Sanity Checking\n",
        "    if not lines[-1].startswith(\"File Creation Time:\"):\n",
        "        raise RemoteDataError(\"Missing expected footer. Found %r\" % lines[-1])\n",
        "\n",
        "    # Convert Y/N to True/False.\n",
        "    converter_map = dict(\n",
        "        (col, _bool_converter) for col, t in _TICKER_DTYPE if t is bool\n",
        "    )\n",
        "\n",
        "    # For pandas >= 0.20.0, the Python parser issues a warning if\n",
        "    # both a converter and dtype are specified for the same column.\n",
        "    # However, this measure is probably temporary until the read_csv\n",
        "    # behavior is better formalized.\n",
        "    with warnings.catch_warnings(record=True):\n",
        "        data = pd.read_csv(\n",
        "            StringIO(\"\\n\".join(lines[:-1])),\n",
        "            sep = \"|\",\n",
        "            dtype=_TICKER_DTYPE,\n",
        "            converters=converter_map,\n",
        "            index_col=1,\n",
        "        )\n",
        "\n",
        "    # Properly cast enumerations\n",
        "    for cat in _CATEGORICAL:\n",
        "        data[cat] = data[cat].astype(\"category\")\n",
        "\n",
        "    return data\n",
        "\n",
        "\n",
        "def get_nasdaq_symbols(retry_count=3, timeout=30, pause=None):\n",
        "    \"\"\"\n",
        "    Get the list of all available equity symbols from Nasdaq.\n",
        "\n",
        "    Returns\n",
        "    -------\n",
        "    nasdaq_tickers : pandas.DataFrame\n",
        "        DataFrame with company tickers, names, and other properties.\n",
        "    \"\"\"\n",
        "    global _ticker_cache\n",
        "\n",
        "    if timeout < 0:\n",
        "        raise ValueError(\"timeout must be >= 0, not %r\" % (timeout,))\n",
        "\n",
        "    if pause is None:\n",
        "        pause = timeout / 3\n",
        "    elif pause < 0:\n",
        "        raise ValueError(\"pause must be >= 0, not %r\" % (pause,))\n",
        "\n",
        "    if _ticker_cache is None:\n",
        "        while retry_count > 0:\n",
        "            try:\n",
        "                _ticker_cache = _download_nasdaq_symbols(timeout=timeout)\n",
        "                retry_count = -1\n",
        "            except RemoteDataError:\n",
        "                # retry on any exception\n",
        "                retry_count -= 1\n",
        "                if retry_count <= 0:\n",
        "                    raise\n",
        "                else:\n",
        "                    time.sleep(pause)\n",
        "\n",
        "    return _ticker_cache\n"
      ]
    },
    {
      "cell_type": "code",
      "execution_count": 16,
      "metadata": {
        "id": "zwN2AXOko3wp"
      },
      "outputs": [],
      "source": [
        "symbols = get_nasdaq_symbols()"
      ]
    },
    {
      "cell_type": "code",
      "execution_count": null,
      "metadata": {
        "colab": {
          "base_uri": "https://localhost:8080/",
          "height": 611
        },
        "id": "BUQkfzJLqK7O",
        "outputId": "d5e38307-ed2e-4931-c31c-a710d45d6784"
      },
      "outputs": [
        {
          "data": {
            "application/vnd.google.colaboratory.intrinsic+json": {
              "summary": "{\n  \"name\": \"symbols\",\n  \"rows\": 11051,\n  \"fields\": [\n    {\n      \"column\": \"Symbol\",\n      \"properties\": {\n        \"dtype\": \"string\",\n        \"num_unique_values\": 11050,\n        \"samples\": [\n          \"TARA\",\n          \"SAZ\",\n          \"MSBI\"\n        ],\n        \"semantic_type\": \"\",\n        \"description\": \"\"\n      }\n    },\n    {\n      \"column\": \"Nasdaq Traded\",\n      \"properties\": {\n        \"dtype\": \"boolean\",\n        \"num_unique_values\": 2,\n        \"samples\": [\n          false,\n          true\n        ],\n        \"semantic_type\": \"\",\n        \"description\": \"\"\n      }\n    },\n    {\n      \"column\": \"Security Name\",\n      \"properties\": {\n        \"dtype\": \"string\",\n        \"num_unique_values\": 11031,\n        \"samples\": [\n          \"Paycor HCM, Inc. - Common Stock\",\n          \"Byline Bancorp, Inc. Common Stock\"\n        ],\n        \"semantic_type\": \"\",\n        \"description\": \"\"\n      }\n    },\n    {\n      \"column\": \"Listing Exchange\",\n      \"properties\": {\n        \"dtype\": \"category\",\n        \"num_unique_values\": 6,\n        \"samples\": [\n          \"N\",\n          \"P\"\n        ],\n        \"semantic_type\": \"\",\n        \"description\": \"\"\n      }\n    },\n    {\n      \"column\": \"Market Category\",\n      \"properties\": {\n        \"dtype\": \"category\",\n        \"num_unique_values\": 4,\n        \"samples\": [\n          \"G\",\n          \"Q\"\n        ],\n        \"semantic_type\": \"\",\n        \"description\": \"\"\n      }\n    },\n    {\n      \"column\": \"ETF\",\n      \"properties\": {\n        \"dtype\": \"boolean\",\n        \"num_unique_values\": 2,\n        \"samples\": [\n          true,\n          false\n        ],\n        \"semantic_type\": \"\",\n        \"description\": \"\"\n      }\n    },\n    {\n      \"column\": \"Round Lot Size\",\n      \"properties\": {\n        \"dtype\": \"number\",\n        \"std\": 2.626698318328976,\n        \"min\": 1.0,\n        \"max\": 100.0,\n        \"num_unique_values\": 3,\n        \"samples\": [\n          100.0,\n          10.0\n        ],\n        \"semantic_type\": \"\",\n        \"description\": \"\"\n      }\n    },\n    {\n      \"column\": \"Test Issue\",\n      \"properties\": {\n        \"dtype\": \"boolean\",\n        \"num_unique_values\": 2,\n        \"samples\": [\n          true,\n          false\n        ],\n        \"semantic_type\": \"\",\n        \"description\": \"\"\n      }\n    },\n    {\n      \"column\": \"Financial Status\",\n      \"properties\": {\n        \"dtype\": \"category\",\n        \"num_unique_values\": 4,\n        \"samples\": [\n          \"N\",\n          \"H\"\n        ],\n        \"semantic_type\": \"\",\n        \"description\": \"\"\n      }\n    },\n    {\n      \"column\": \"CQS Symbol\",\n      \"properties\": {\n        \"dtype\": \"string\",\n        \"num_unique_values\": 6252,\n        \"samples\": [\n          \"EMHC\",\n          \"TFPN\"\n        ],\n        \"semantic_type\": \"\",\n        \"description\": \"\"\n      }\n    },\n    {\n      \"column\": \"NASDAQ Symbol\",\n      \"properties\": {\n        \"dtype\": \"string\",\n        \"num_unique_values\": 11050,\n        \"samples\": [\n          \"TARA\",\n          \"SAZ\"\n        ],\n        \"semantic_type\": \"\",\n        \"description\": \"\"\n      }\n    },\n    {\n      \"column\": \"NextShares\",\n      \"properties\": {\n        \"dtype\": \"boolean\",\n        \"num_unique_values\": 1,\n        \"samples\": [\n          false\n        ],\n        \"semantic_type\": \"\",\n        \"description\": \"\"\n      }\n    }\n  ]\n}",
              "type": "dataframe",
              "variable_name": "symbols"
            },
            "text/html": [
              "\n",
              "  <div id=\"df-45e59c3b-411b-43b9-851f-2d3f65c8011f\" class=\"colab-df-container\">\n",
              "    <div>\n",
              "<style scoped>\n",
              "    .dataframe tbody tr th:only-of-type {\n",
              "        vertical-align: middle;\n",
              "    }\n",
              "\n",
              "    .dataframe tbody tr th {\n",
              "        vertical-align: top;\n",
              "    }\n",
              "\n",
              "    .dataframe thead th {\n",
              "        text-align: right;\n",
              "    }\n",
              "</style>\n",
              "<table border=\"1\" class=\"dataframe\">\n",
              "  <thead>\n",
              "    <tr style=\"text-align: right;\">\n",
              "      <th></th>\n",
              "      <th>Nasdaq Traded</th>\n",
              "      <th>Security Name</th>\n",
              "      <th>Listing Exchange</th>\n",
              "      <th>Market Category</th>\n",
              "      <th>ETF</th>\n",
              "      <th>Round Lot Size</th>\n",
              "      <th>Test Issue</th>\n",
              "      <th>Financial Status</th>\n",
              "      <th>CQS Symbol</th>\n",
              "      <th>NASDAQ Symbol</th>\n",
              "      <th>NextShares</th>\n",
              "    </tr>\n",
              "    <tr>\n",
              "      <th>Symbol</th>\n",
              "      <th></th>\n",
              "      <th></th>\n",
              "      <th></th>\n",
              "      <th></th>\n",
              "      <th></th>\n",
              "      <th></th>\n",
              "      <th></th>\n",
              "      <th></th>\n",
              "      <th></th>\n",
              "      <th></th>\n",
              "      <th></th>\n",
              "    </tr>\n",
              "  </thead>\n",
              "  <tbody>\n",
              "    <tr>\n",
              "      <th>A</th>\n",
              "      <td>True</td>\n",
              "      <td>Agilent Technologies, Inc. Common Stock</td>\n",
              "      <td>N</td>\n",
              "      <td></td>\n",
              "      <td>False</td>\n",
              "      <td>100.0</td>\n",
              "      <td>False</td>\n",
              "      <td>NaN</td>\n",
              "      <td>A</td>\n",
              "      <td>A</td>\n",
              "      <td>False</td>\n",
              "    </tr>\n",
              "    <tr>\n",
              "      <th>AA</th>\n",
              "      <td>True</td>\n",
              "      <td>Alcoa Corporation Common Stock</td>\n",
              "      <td>N</td>\n",
              "      <td></td>\n",
              "      <td>False</td>\n",
              "      <td>100.0</td>\n",
              "      <td>False</td>\n",
              "      <td>NaN</td>\n",
              "      <td>AA</td>\n",
              "      <td>AA</td>\n",
              "      <td>False</td>\n",
              "    </tr>\n",
              "    <tr>\n",
              "      <th>AAA</th>\n",
              "      <td>True</td>\n",
              "      <td>Alternative Access First Priority CLO Bond ETF</td>\n",
              "      <td>P</td>\n",
              "      <td></td>\n",
              "      <td>True</td>\n",
              "      <td>100.0</td>\n",
              "      <td>False</td>\n",
              "      <td>NaN</td>\n",
              "      <td>AAA</td>\n",
              "      <td>AAA</td>\n",
              "      <td>False</td>\n",
              "    </tr>\n",
              "    <tr>\n",
              "      <th>AAAU</th>\n",
              "      <td>True</td>\n",
              "      <td>Goldman Sachs Physical Gold ETF Shares</td>\n",
              "      <td>Z</td>\n",
              "      <td></td>\n",
              "      <td>True</td>\n",
              "      <td>100.0</td>\n",
              "      <td>False</td>\n",
              "      <td>NaN</td>\n",
              "      <td>AAAU</td>\n",
              "      <td>AAAU</td>\n",
              "      <td>False</td>\n",
              "    </tr>\n",
              "    <tr>\n",
              "      <th>AACG</th>\n",
              "      <td>True</td>\n",
              "      <td>ATA Creativity Global - American Depositary Sh...</td>\n",
              "      <td>Q</td>\n",
              "      <td>G</td>\n",
              "      <td>False</td>\n",
              "      <td>100.0</td>\n",
              "      <td>False</td>\n",
              "      <td>D</td>\n",
              "      <td>NaN</td>\n",
              "      <td>AACG</td>\n",
              "      <td>False</td>\n",
              "    </tr>\n",
              "    <tr>\n",
              "      <th>...</th>\n",
              "      <td>...</td>\n",
              "      <td>...</td>\n",
              "      <td>...</td>\n",
              "      <td>...</td>\n",
              "      <td>...</td>\n",
              "      <td>...</td>\n",
              "      <td>...</td>\n",
              "      <td>...</td>\n",
              "      <td>...</td>\n",
              "      <td>...</td>\n",
              "      <td>...</td>\n",
              "    </tr>\n",
              "    <tr>\n",
              "      <th>ZXYZ.A</th>\n",
              "      <td>True</td>\n",
              "      <td>Nasdaq Symbology Test Common Stock</td>\n",
              "      <td>Q</td>\n",
              "      <td>Q</td>\n",
              "      <td>False</td>\n",
              "      <td>100.0</td>\n",
              "      <td>True</td>\n",
              "      <td>N</td>\n",
              "      <td>NaN</td>\n",
              "      <td>ZXYZ.A</td>\n",
              "      <td>False</td>\n",
              "    </tr>\n",
              "    <tr>\n",
              "      <th>ZXZZT</th>\n",
              "      <td>True</td>\n",
              "      <td>NASDAQ TEST STOCK</td>\n",
              "      <td>Q</td>\n",
              "      <td>G</td>\n",
              "      <td>False</td>\n",
              "      <td>100.0</td>\n",
              "      <td>True</td>\n",
              "      <td>N</td>\n",
              "      <td>NaN</td>\n",
              "      <td>ZXZZT</td>\n",
              "      <td>False</td>\n",
              "    </tr>\n",
              "    <tr>\n",
              "      <th>ZYME</th>\n",
              "      <td>True</td>\n",
              "      <td>Zymeworks Inc. - Common Stock</td>\n",
              "      <td>Q</td>\n",
              "      <td>Q</td>\n",
              "      <td>False</td>\n",
              "      <td>100.0</td>\n",
              "      <td>False</td>\n",
              "      <td>N</td>\n",
              "      <td>NaN</td>\n",
              "      <td>ZYME</td>\n",
              "      <td>False</td>\n",
              "    </tr>\n",
              "    <tr>\n",
              "      <th>ZYXI</th>\n",
              "      <td>True</td>\n",
              "      <td>Zynex, Inc. - Common Stock</td>\n",
              "      <td>Q</td>\n",
              "      <td>Q</td>\n",
              "      <td>False</td>\n",
              "      <td>100.0</td>\n",
              "      <td>False</td>\n",
              "      <td>N</td>\n",
              "      <td>NaN</td>\n",
              "      <td>ZYXI</td>\n",
              "      <td>False</td>\n",
              "    </tr>\n",
              "    <tr>\n",
              "      <th>ZZZ</th>\n",
              "      <td>True</td>\n",
              "      <td>Cyber Hornet S&amp;P 500 and Bitcoin 75/25 Strateg...</td>\n",
              "      <td>Q</td>\n",
              "      <td>G</td>\n",
              "      <td>True</td>\n",
              "      <td>100.0</td>\n",
              "      <td>False</td>\n",
              "      <td>N</td>\n",
              "      <td>NaN</td>\n",
              "      <td>ZZZ</td>\n",
              "      <td>False</td>\n",
              "    </tr>\n",
              "  </tbody>\n",
              "</table>\n",
              "<p>11051 rows × 11 columns</p>\n",
              "</div>\n",
              "    <div class=\"colab-df-buttons\">\n",
              "\n",
              "  <div class=\"colab-df-container\">\n",
              "    <button class=\"colab-df-convert\" onclick=\"convertToInteractive('df-45e59c3b-411b-43b9-851f-2d3f65c8011f')\"\n",
              "            title=\"Convert this dataframe to an interactive table.\"\n",
              "            style=\"display:none;\">\n",
              "\n",
              "  <svg xmlns=\"http://www.w3.org/2000/svg\" height=\"24px\" viewBox=\"0 -960 960 960\">\n",
              "    <path d=\"M120-120v-720h720v720H120Zm60-500h600v-160H180v160Zm220 220h160v-160H400v160Zm0 220h160v-160H400v160ZM180-400h160v-160H180v160Zm440 0h160v-160H620v160ZM180-180h160v-160H180v160Zm440 0h160v-160H620v160Z\"/>\n",
              "  </svg>\n",
              "    </button>\n",
              "\n",
              "  <style>\n",
              "    .colab-df-container {\n",
              "      display:flex;\n",
              "      gap: 12px;\n",
              "    }\n",
              "\n",
              "    .colab-df-convert {\n",
              "      background-color: #E8F0FE;\n",
              "      border: none;\n",
              "      border-radius: 50%;\n",
              "      cursor: pointer;\n",
              "      display: none;\n",
              "      fill: #1967D2;\n",
              "      height: 32px;\n",
              "      padding: 0 0 0 0;\n",
              "      width: 32px;\n",
              "    }\n",
              "\n",
              "    .colab-df-convert:hover {\n",
              "      background-color: #E2EBFA;\n",
              "      box-shadow: 0px 1px 2px rgba(60, 64, 67, 0.3), 0px 1px 3px 1px rgba(60, 64, 67, 0.15);\n",
              "      fill: #174EA6;\n",
              "    }\n",
              "\n",
              "    .colab-df-buttons div {\n",
              "      margin-bottom: 4px;\n",
              "    }\n",
              "\n",
              "    [theme=dark] .colab-df-convert {\n",
              "      background-color: #3B4455;\n",
              "      fill: #D2E3FC;\n",
              "    }\n",
              "\n",
              "    [theme=dark] .colab-df-convert:hover {\n",
              "      background-color: #434B5C;\n",
              "      box-shadow: 0px 1px 3px 1px rgba(0, 0, 0, 0.15);\n",
              "      filter: drop-shadow(0px 1px 2px rgba(0, 0, 0, 0.3));\n",
              "      fill: #FFFFFF;\n",
              "    }\n",
              "  </style>\n",
              "\n",
              "    <script>\n",
              "      const buttonEl =\n",
              "        document.querySelector('#df-45e59c3b-411b-43b9-851f-2d3f65c8011f button.colab-df-convert');\n",
              "      buttonEl.style.display =\n",
              "        google.colab.kernel.accessAllowed ? 'block' : 'none';\n",
              "\n",
              "      async function convertToInteractive(key) {\n",
              "        const element = document.querySelector('#df-45e59c3b-411b-43b9-851f-2d3f65c8011f');\n",
              "        const dataTable =\n",
              "          await google.colab.kernel.invokeFunction('convertToInteractive',\n",
              "                                                    [key], {});\n",
              "        if (!dataTable) return;\n",
              "\n",
              "        const docLinkHtml = 'Like what you see? Visit the ' +\n",
              "          '<a target=\"_blank\" href=https://colab.research.google.com/notebooks/data_table.ipynb>data table notebook</a>'\n",
              "          + ' to learn more about interactive tables.';\n",
              "        element.innerHTML = '';\n",
              "        dataTable['output_type'] = 'display_data';\n",
              "        await google.colab.output.renderOutput(dataTable, element);\n",
              "        const docLink = document.createElement('div');\n",
              "        docLink.innerHTML = docLinkHtml;\n",
              "        element.appendChild(docLink);\n",
              "      }\n",
              "    </script>\n",
              "  </div>\n",
              "\n",
              "\n",
              "<div id=\"df-42db767f-8ef8-4dbb-880e-de2d82439475\">\n",
              "  <button class=\"colab-df-quickchart\" onclick=\"quickchart('df-42db767f-8ef8-4dbb-880e-de2d82439475')\"\n",
              "            title=\"Suggest charts\"\n",
              "            style=\"display:none;\">\n",
              "\n",
              "<svg xmlns=\"http://www.w3.org/2000/svg\" height=\"24px\"viewBox=\"0 0 24 24\"\n",
              "     width=\"24px\">\n",
              "    <g>\n",
              "        <path d=\"M19 3H5c-1.1 0-2 .9-2 2v14c0 1.1.9 2 2 2h14c1.1 0 2-.9 2-2V5c0-1.1-.9-2-2-2zM9 17H7v-7h2v7zm4 0h-2V7h2v10zm4 0h-2v-4h2v4z\"/>\n",
              "    </g>\n",
              "</svg>\n",
              "  </button>\n",
              "\n",
              "<style>\n",
              "  .colab-df-quickchart {\n",
              "      --bg-color: #E8F0FE;\n",
              "      --fill-color: #1967D2;\n",
              "      --hover-bg-color: #E2EBFA;\n",
              "      --hover-fill-color: #174EA6;\n",
              "      --disabled-fill-color: #AAA;\n",
              "      --disabled-bg-color: #DDD;\n",
              "  }\n",
              "\n",
              "  [theme=dark] .colab-df-quickchart {\n",
              "      --bg-color: #3B4455;\n",
              "      --fill-color: #D2E3FC;\n",
              "      --hover-bg-color: #434B5C;\n",
              "      --hover-fill-color: #FFFFFF;\n",
              "      --disabled-bg-color: #3B4455;\n",
              "      --disabled-fill-color: #666;\n",
              "  }\n",
              "\n",
              "  .colab-df-quickchart {\n",
              "    background-color: var(--bg-color);\n",
              "    border: none;\n",
              "    border-radius: 50%;\n",
              "    cursor: pointer;\n",
              "    display: none;\n",
              "    fill: var(--fill-color);\n",
              "    height: 32px;\n",
              "    padding: 0;\n",
              "    width: 32px;\n",
              "  }\n",
              "\n",
              "  .colab-df-quickchart:hover {\n",
              "    background-color: var(--hover-bg-color);\n",
              "    box-shadow: 0 1px 2px rgba(60, 64, 67, 0.3), 0 1px 3px 1px rgba(60, 64, 67, 0.15);\n",
              "    fill: var(--button-hover-fill-color);\n",
              "  }\n",
              "\n",
              "  .colab-df-quickchart-complete:disabled,\n",
              "  .colab-df-quickchart-complete:disabled:hover {\n",
              "    background-color: var(--disabled-bg-color);\n",
              "    fill: var(--disabled-fill-color);\n",
              "    box-shadow: none;\n",
              "  }\n",
              "\n",
              "  .colab-df-spinner {\n",
              "    border: 2px solid var(--fill-color);\n",
              "    border-color: transparent;\n",
              "    border-bottom-color: var(--fill-color);\n",
              "    animation:\n",
              "      spin 1s steps(1) infinite;\n",
              "  }\n",
              "\n",
              "  @keyframes spin {\n",
              "    0% {\n",
              "      border-color: transparent;\n",
              "      border-bottom-color: var(--fill-color);\n",
              "      border-left-color: var(--fill-color);\n",
              "    }\n",
              "    20% {\n",
              "      border-color: transparent;\n",
              "      border-left-color: var(--fill-color);\n",
              "      border-top-color: var(--fill-color);\n",
              "    }\n",
              "    30% {\n",
              "      border-color: transparent;\n",
              "      border-left-color: var(--fill-color);\n",
              "      border-top-color: var(--fill-color);\n",
              "      border-right-color: var(--fill-color);\n",
              "    }\n",
              "    40% {\n",
              "      border-color: transparent;\n",
              "      border-right-color: var(--fill-color);\n",
              "      border-top-color: var(--fill-color);\n",
              "    }\n",
              "    60% {\n",
              "      border-color: transparent;\n",
              "      border-right-color: var(--fill-color);\n",
              "    }\n",
              "    80% {\n",
              "      border-color: transparent;\n",
              "      border-right-color: var(--fill-color);\n",
              "      border-bottom-color: var(--fill-color);\n",
              "    }\n",
              "    90% {\n",
              "      border-color: transparent;\n",
              "      border-bottom-color: var(--fill-color);\n",
              "    }\n",
              "  }\n",
              "</style>\n",
              "\n",
              "  <script>\n",
              "    async function quickchart(key) {\n",
              "      const quickchartButtonEl =\n",
              "        document.querySelector('#' + key + ' button');\n",
              "      quickchartButtonEl.disabled = true;  // To prevent multiple clicks.\n",
              "      quickchartButtonEl.classList.add('colab-df-spinner');\n",
              "      try {\n",
              "        const charts = await google.colab.kernel.invokeFunction(\n",
              "            'suggestCharts', [key], {});\n",
              "      } catch (error) {\n",
              "        console.error('Error during call to suggestCharts:', error);\n",
              "      }\n",
              "      quickchartButtonEl.classList.remove('colab-df-spinner');\n",
              "      quickchartButtonEl.classList.add('colab-df-quickchart-complete');\n",
              "    }\n",
              "    (() => {\n",
              "      let quickchartButtonEl =\n",
              "        document.querySelector('#df-42db767f-8ef8-4dbb-880e-de2d82439475 button');\n",
              "      quickchartButtonEl.style.display =\n",
              "        google.colab.kernel.accessAllowed ? 'block' : 'none';\n",
              "    })();\n",
              "  </script>\n",
              "</div>\n",
              "\n",
              "  <div id=\"id_716117b9-937e-421c-88e1-5f1b324e477e\">\n",
              "    <style>\n",
              "      .colab-df-generate {\n",
              "        background-color: #E8F0FE;\n",
              "        border: none;\n",
              "        border-radius: 50%;\n",
              "        cursor: pointer;\n",
              "        display: none;\n",
              "        fill: #1967D2;\n",
              "        height: 32px;\n",
              "        padding: 0 0 0 0;\n",
              "        width: 32px;\n",
              "      }\n",
              "\n",
              "      .colab-df-generate:hover {\n",
              "        background-color: #E2EBFA;\n",
              "        box-shadow: 0px 1px 2px rgba(60, 64, 67, 0.3), 0px 1px 3px 1px rgba(60, 64, 67, 0.15);\n",
              "        fill: #174EA6;\n",
              "      }\n",
              "\n",
              "      [theme=dark] .colab-df-generate {\n",
              "        background-color: #3B4455;\n",
              "        fill: #D2E3FC;\n",
              "      }\n",
              "\n",
              "      [theme=dark] .colab-df-generate:hover {\n",
              "        background-color: #434B5C;\n",
              "        box-shadow: 0px 1px 3px 1px rgba(0, 0, 0, 0.15);\n",
              "        filter: drop-shadow(0px 1px 2px rgba(0, 0, 0, 0.3));\n",
              "        fill: #FFFFFF;\n",
              "      }\n",
              "    </style>\n",
              "    <button class=\"colab-df-generate\" onclick=\"generateWithVariable('symbols')\"\n",
              "            title=\"Generate code using this dataframe.\"\n",
              "            style=\"display:none;\">\n",
              "\n",
              "  <svg xmlns=\"http://www.w3.org/2000/svg\" height=\"24px\"viewBox=\"0 0 24 24\"\n",
              "       width=\"24px\">\n",
              "    <path d=\"M7,19H8.4L18.45,9,17,7.55,7,17.6ZM5,21V16.75L18.45,3.32a2,2,0,0,1,2.83,0l1.4,1.43a1.91,1.91,0,0,1,.58,1.4,1.91,1.91,0,0,1-.58,1.4L9.25,21ZM18.45,9,17,7.55Zm-12,3A5.31,5.31,0,0,0,4.9,8.1,5.31,5.31,0,0,0,1,6.5,5.31,5.31,0,0,0,4.9,4.9,5.31,5.31,0,0,0,6.5,1,5.31,5.31,0,0,0,8.1,4.9,5.31,5.31,0,0,0,12,6.5,5.46,5.46,0,0,0,6.5,12Z\"/>\n",
              "  </svg>\n",
              "    </button>\n",
              "    <script>\n",
              "      (() => {\n",
              "      const buttonEl =\n",
              "        document.querySelector('#id_716117b9-937e-421c-88e1-5f1b324e477e button.colab-df-generate');\n",
              "      buttonEl.style.display =\n",
              "        google.colab.kernel.accessAllowed ? 'block' : 'none';\n",
              "\n",
              "      buttonEl.onclick = () => {\n",
              "        google.colab.notebook.generateWithVariable('symbols');\n",
              "      }\n",
              "      })();\n",
              "    </script>\n",
              "  </div>\n",
              "\n",
              "    </div>\n",
              "  </div>\n"
            ],
            "text/plain": [
              "        Nasdaq Traded                                      Security Name  \\\n",
              "Symbol                                                                     \n",
              "A                True            Agilent Technologies, Inc. Common Stock   \n",
              "AA               True                    Alcoa Corporation Common Stock    \n",
              "AAA              True     Alternative Access First Priority CLO Bond ETF   \n",
              "AAAU             True             Goldman Sachs Physical Gold ETF Shares   \n",
              "AACG             True  ATA Creativity Global - American Depositary Sh...   \n",
              "...               ...                                                ...   \n",
              "ZXYZ.A           True                 Nasdaq Symbology Test Common Stock   \n",
              "ZXZZT            True                                  NASDAQ TEST STOCK   \n",
              "ZYME             True                      Zymeworks Inc. - Common Stock   \n",
              "ZYXI             True                         Zynex, Inc. - Common Stock   \n",
              "ZZZ              True  Cyber Hornet S&P 500 and Bitcoin 75/25 Strateg...   \n",
              "\n",
              "       Listing Exchange Market Category    ETF  Round Lot Size  Test Issue  \\\n",
              "Symbol                                                                       \n",
              "A                     N                  False           100.0       False   \n",
              "AA                    N                  False           100.0       False   \n",
              "AAA                   P                   True           100.0       False   \n",
              "AAAU                  Z                   True           100.0       False   \n",
              "AACG                  Q               G  False           100.0       False   \n",
              "...                 ...             ...    ...             ...         ...   \n",
              "ZXYZ.A                Q               Q  False           100.0        True   \n",
              "ZXZZT                 Q               G  False           100.0        True   \n",
              "ZYME                  Q               Q  False           100.0       False   \n",
              "ZYXI                  Q               Q  False           100.0       False   \n",
              "ZZZ                   Q               G   True           100.0       False   \n",
              "\n",
              "       Financial Status CQS Symbol NASDAQ Symbol  NextShares  \n",
              "Symbol                                                        \n",
              "A                   NaN          A             A       False  \n",
              "AA                  NaN         AA            AA       False  \n",
              "AAA                 NaN        AAA           AAA       False  \n",
              "AAAU                NaN       AAAU          AAAU       False  \n",
              "AACG                  D        NaN          AACG       False  \n",
              "...                 ...        ...           ...         ...  \n",
              "ZXYZ.A                N        NaN        ZXYZ.A       False  \n",
              "ZXZZT                 N        NaN         ZXZZT       False  \n",
              "ZYME                  N        NaN          ZYME       False  \n",
              "ZYXI                  N        NaN          ZYXI       False  \n",
              "ZZZ                   N        NaN           ZZZ       False  \n",
              "\n",
              "[11051 rows x 11 columns]"
            ]
          },
          "execution_count": 21,
          "metadata": {},
          "output_type": "execute_result"
        }
      ],
      "source": [
        "symbols"
      ]
    },
    {
      "attachments": {},
      "cell_type": "markdown",
      "metadata": {},
      "source": [
        "### Reto 3\n",
        "\n",
        "Has decido invertir en una empresa de tecnología, tus opciones son Nvidia, Microsoft, Google.\n",
        "* ¿Qué acción a aumentado más su costo en el último año?"
      ]
    },
    {
      "cell_type": "code",
      "execution_count": 45,
      "metadata": {},
      "outputs": [
        {
          "name": "stderr",
          "output_type": "stream",
          "text": [
            "[*********************100%%**********************]  1 of 1 completed\n",
            "[*********************100%%**********************]  1 of 1 completed\n",
            "[*********************100%%**********************]  1 of 1 completed\n"
          ]
        }
      ],
      "source": [
        "import yfinance as yf # biblioteca popular para obtener los datos de cotización de acciones\n",
        "\n",
        "# Obtener los datos de cotización de una acción\n",
        "dataGoogle = yf.download('GOOG', start='2023-08-01', end='2024-08-01')\n",
        "dataMicrosoft = yf.download('MSFT', start='2023-08-01', end='2024-08-01')\n",
        "dataNvidia = yf.download('NVDA', start='2023-08-01', end='2024-08-01')"
      ]
    },
    {
      "attachments": {},
      "cell_type": "markdown",
      "metadata": {},
      "source": [
        "* Grafica un boxplot con los datos de las acciones de julio 2024 de las tres firmas.\n",
        "¿Cuál es la acción con mayor dispersión en su valor?"
      ]
    },
    {
      "cell_type": "code",
      "execution_count": null,
      "metadata": {},
      "outputs": [],
      "source": []
    }
  ],
  "metadata": {
    "accelerator": "GPU",
    "colab": {
      "gpuType": "T4",
      "include_colab_link": true,
      "provenance": []
    },
    "kernelspec": {
      "display_name": "Python 3",
      "name": "python3"
    },
    "language_info": {
      "codemirror_mode": {
        "name": "ipython",
        "version": 3
      },
      "file_extension": ".py",
      "mimetype": "text/x-python",
      "name": "python",
      "nbconvert_exporter": "python",
      "pygments_lexer": "ipython3",
      "version": "3.9.7"
    }
  },
  "nbformat": 4,
  "nbformat_minor": 0
}
