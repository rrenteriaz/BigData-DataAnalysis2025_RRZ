{
  "cells": [
    {
      "cell_type": "markdown",
      "metadata": {
        "id": "view-in-github",
        "colab_type": "text"
      },
      "source": [
        "<a href=\"https://colab.research.google.com/github/ulises1229/DataAnalisysBigData_BLOQUE/blob/main/demos/demo_dia_5.ipynb\" target=\"_parent\"><img src=\"https://colab.research.google.com/assets/colab-badge.svg\" alt=\"Open In Colab\"/></a>"
      ]
    },
    {
      "cell_type": "markdown",
      "metadata": {
        "id": "4LgBRPUiOFDP"
      },
      "source": [
        "# Demo día 5 - PySpark\n",
        "\n",
        "Curso Análisis de Datos y Big Data - 20 de agosto 2024\n",
        "\n",
        "Contenidos:\n",
        "- Demo Instalación Spark\n",
        "- Demo Uso Spark"
      ]
    },
    {
      "cell_type": "markdown",
      "metadata": {
        "id": "awXgXAD4OFDW"
      },
      "source": [
        "## Demo Instalación Spark\n",
        "\n",
        "1. Verifica que tengas un JDK de Java instalado y que la variable de entorno *JAVA_HOME apunte* al directorio donde se encuentre.\n",
        "2. Descarga Spark [Descarga](https://spark.apache.org/downloads.html).\n",
        "3. Descomprime el archivo descargado en tu directorio de preferencia.\n",
        "4. Registra la variable de entorno *SPARK_HOME* con la direccion del directorio de Spark.\n",
        "5. Registra el directorio Spark en la variable de entorno *PATH*.\n",
        "6. Instala PySpark en python"
      ]
    },
    {
      "cell_type": "code",
      "execution_count": 27,
      "metadata": {
        "vscode": {
          "languageId": "shellscript"
        },
        "colab": {
          "base_uri": "https://localhost:8080/"
        },
        "id": "vNSZxZrVOFDY",
        "outputId": "7e2e4c49-ca63-46a3-d519-50cfd99ac2a8"
      },
      "outputs": [
        {
          "output_type": "stream",
          "name": "stdout",
          "text": [
            "Requirement already satisfied: pyspark in /usr/local/lib/python3.10/dist-packages (3.5.2)\n",
            "Requirement already satisfied: py4j==0.10.9.7 in /usr/local/lib/python3.10/dist-packages (from pyspark) (0.10.9.7)\n"
          ]
        }
      ],
      "source": [
        "!pip install pyspark"
      ]
    },
    {
      "cell_type": "markdown",
      "metadata": {
        "id": "WCLCpsaIOFDa"
      },
      "source": [
        "## Demo uso PySpark\n",
        "\n",
        "Usando un dataset de un cuestionario de percpcion de inseguridad del inegi, se plantea hacer una clusterización, se van a preprocesar los datos de manera previa a la clusterización.\n"
      ]
    },
    {
      "cell_type": "code",
      "execution_count": 28,
      "metadata": {
        "id": "Ufu_5a9TOFDa"
      },
      "outputs": [],
      "source": [
        "from pyspark.sql import SparkSession"
      ]
    },
    {
      "cell_type": "code",
      "execution_count": 29,
      "metadata": {
        "id": "BIzxyyrEOFDa"
      },
      "outputs": [],
      "source": [
        "spark = SparkSession.builder.getOrCreate()"
      ]
    },
    {
      "cell_type": "code",
      "source": [
        "from google.colab import drive\n",
        "drive.mount('/content/drive')"
      ],
      "metadata": {
        "id": "NbEROmClRHLM",
        "colab": {
          "base_uri": "https://localhost:8080/"
        },
        "outputId": "030f6a6b-89df-4646-b307-12555178ddb7"
      },
      "execution_count": 30,
      "outputs": [
        {
          "output_type": "stream",
          "name": "stdout",
          "text": [
            "Drive already mounted at /content/drive; to attempt to forcibly remount, call drive.mount(\"/content/drive\", force_remount=True).\n"
          ]
        }
      ]
    },
    {
      "cell_type": "code",
      "execution_count": 31,
      "metadata": {
        "id": "tlyJQGQaOFDb"
      },
      "outputs": [],
      "source": [
        "df = spark.read.csv('/content/drive/MyDrive/conjunto_de_datos_TPer_Vic1_ENVIPE_2019.csv',header=True,escape=\"\\\"\")"
      ]
    },
    {
      "cell_type": "code",
      "execution_count": 32,
      "metadata": {
        "id": "ZunVELhoOFDb"
      },
      "outputs": [],
      "source": [
        "#Eliminamos las columnas que no son necesarias para la clusterización.\n",
        "df = df.drop(\"ID_VIV\",\"ID_HOG\",\"ID_PER\",\"UPM\",\"VIV_SEL\",\"HOGAR\",\"RESUL_H\",\"R_SEL\",\"AREAM\",\"FAC_HOG\",\"FAC_ELE\",\"FAC_HOG_AM\",\"FAC_ELE_AM\",\"EST_DIS\",\"UPM_DIS\",\"NOM_ENT\",\"CVE_MUN\",\"NOM_MUN\")"
      ]
    },
    {
      "cell_type": "code",
      "execution_count": 33,
      "metadata": {
        "id": "LXXqAzfVOFDc",
        "colab": {
          "base_uri": "https://localhost:8080/"
        },
        "outputId": "6fd9c746-4f5c-4ca6-9d2b-af802228e82c"
      },
      "outputs": [
        {
          "output_type": "stream",
          "name": "stdout",
          "text": [
            "+----+----+-------+-----+--------+--------+--------+--------+--------+--------+--------+--------+--------+--------+--------+--------+--------+-------+-------+-------+--------+--------+--------+--------+--------+--------+--------+--------+--------+--------+--------+--------+--------+--------+--------+--------+--------+--------+--------+--------+--------+--------+--------+--------+--------+--------+--------+--------+--------+-------+-------+-------+-------+-------+-------+-------+-------+-------+-------+-------+-------+-------+-------+-------+-------+-------+-------+---------+---------+---------+---------+---------+---------+---------+---------+---------+---------+---------+---------+---------+---------+---------+---------+---------+---------+---------+---------+---------+---------+---------+---------+---------+---------+-------+--------+--------+--------+--------+--------+--------+--------+--------+--------+--------+--------+--------+--------+-------+-------+-------+-------+--------+--------+----------+--------+--------+-------+--------+--------+----------+--------+--------+-------+--------+--------+----------+--------+--------+-------+--------+--------+----------+--------+--------+-------+--------+--------+----------+--------+--------+--------+--------+----------+--------+--------+--------+--------+----------+--------+--------+--------+--------+----------+--------+--------+--------+--------+----------+--------+--------+--------+--------+----------+--------+--------+-----+-------+-------+\n",
            "|SEXO|EDAD|CVE_ENT|AP4_1|AP4_2_01|AP4_2_02|AP4_2_03|AP4_2_04|AP4_2_05|AP4_2_06|AP4_2_07|AP4_2_08|AP4_2_09|AP4_2_10|AP4_2_11|AP4_2_12|AP4_2_99|AP4_3_1|AP4_3_2|AP4_3_3|AP4_4_01|AP4_4_02|AP4_4_03|AP4_4_04|AP4_4_05|AP4_4_06|AP4_4_07|AP4_4_08|AP4_4_09|AP4_4_10|AP4_4_11|AP4_4_12|AP4_5_01|AP4_5_02|AP4_5_03|AP4_5_04|AP4_5_05|AP4_5_06|AP4_5_07|AP4_5_08|AP4_5_09|AP4_5_10|AP4_5_11|AP4_5_12|AP4_5_13|AP4_5_14|AP4_5_15|AP4_5_16|AP4_5_99|AP4_6_1|AP4_6_2|AP4_6_3|AP4_7_1|AP4_7_2|AP4_7_3|AP4_8_1|AP4_9_1|AP4_8_2|AP4_9_2|AP4_8_3|AP4_9_3|AP4_8_4|AP4_9_4|AP4_8_5|AP4_9_5|AP4_8_6|AP4_9_6|AP4_10_01|AP4_10_02|AP4_10_03|AP4_10_04|AP4_10_05|AP4_10_06|AP4_10_07|AP4_10_08|AP4_10_09|AP4_10_10|AP4_10_11|AP4_10_12|AP4_10_13|AP4_10_14|AP4_10_15|AP4_11_01|AP4_11_02|AP4_11_03|AP4_11_04|AP4_11_05|AP4_11_06|AP4_11_07|AP4_11_08|AP4_11_09|AP4_11_10|AP4_11_11|AP4_12 |AP5_1_01|AP5_1_02|AP5_1_03|AP5_1_04|AP5_1_05|AP5_1_06|AP5_1_07|AP5_1_08|AP5_1_09|AP5_1_10|AP5_1_11|AP5_1_12|AP5_1_13|AP5_2_1|AP5_2_2|AP5_2_3|AP5_2_4|AP5_3_01|AP5_4_01|AP5_4_01_C|AP5_5_01|AP5_6_01|AP5_7_1|AP5_3_02|AP5_4_02|AP5_4_02_C|AP5_5_02|AP5_6_02|AP5_7_2|AP5_3_03|AP5_4_03|AP5_4_03_C|AP5_5_03|AP5_6_03|AP5_7_3|AP5_3_04|AP5_4_04|AP5_4_04_C|AP5_5_04|AP5_6_04|AP5_7_4|AP5_3_05|AP5_4_05|AP5_4_05_C|AP5_5_05|AP5_6_05|AP5_3_06|AP5_4_06|AP5_4_06_C|AP5_5_06|AP5_6_06|AP5_3_07|AP5_4_07|AP5_4_07_C|AP5_5_07|AP5_6_07|AP5_3_08|AP5_4_08|AP5_4_08_C|AP5_5_08|AP5_6_08|AP5_3_09|AP5_4_09|AP5_4_09_C|AP5_5_09|AP5_6_09|AP5_3_10|AP5_4_10|AP5_4_10_C|AP5_5_10|AP5_6_10|AP5_8|DOMINIO|ESTRATO|\n",
            "+----+----+-------+-----+--------+--------+--------+--------+--------+--------+--------+--------+--------+--------+--------+--------+--------+-------+-------+-------+--------+--------+--------+--------+--------+--------+--------+--------+--------+--------+--------+--------+--------+--------+--------+--------+--------+--------+--------+--------+--------+--------+--------+--------+--------+--------+--------+--------+--------+-------+-------+-------+-------+-------+-------+-------+-------+-------+-------+-------+-------+-------+-------+-------+-------+-------+-------+---------+---------+---------+---------+---------+---------+---------+---------+---------+---------+---------+---------+---------+---------+---------+---------+---------+---------+---------+---------+---------+---------+---------+---------+---------+---------+-------+--------+--------+--------+--------+--------+--------+--------+--------+--------+--------+--------+--------+--------+-------+-------+-------+-------+--------+--------+----------+--------+--------+-------+--------+--------+----------+--------+--------+-------+--------+--------+----------+--------+--------+-------+--------+--------+----------+--------+--------+-------+--------+--------+----------+--------+--------+--------+--------+----------+--------+--------+--------+--------+----------+--------+--------+--------+--------+----------+--------+--------+--------+--------+----------+--------+--------+--------+--------+----------+--------+--------+-----+-------+-------+\n",
            "|2   |53  |01     |3    |0       |0       |1       |1       |0       |0       |0       |1       |0       |0       |0       |0       |0       |1      |1      |1      |1       |3       |1       |3       |1       |1       |1       |1       |3       |1       |1       |1       |0       |0       |0       |0       |0       |0       |0       |0       |1       |1       |0       |0       |0       |0       |0       |0       |0       |2      |2      |2      |2      |1      |1      |2      |NA     |1      |2      |2      |NA     |2      |NA     |1      |2      |2      |NA     |1        |3        |3        |3        |3        |2        |3        |2        |2        |3        |2        |2        |3        |2        |2        |2        |2        |2        |2        |2        |2        |2        |2        |2        |2        |2        |NA     |1       |3       |2       |2       |2       |3       |2       |2       |1       |3       |2       |2       |2       |2      |5      |1      |2      |2       |NA      |NA        |NA      |NA      |NA     |1       |2       |3         |2       |2       |1      |1       |3       |4         |1       |3       |1      |2       |NA      |NA        |NA      |NA      |NA     |2       |NA      |NA        |NA      |NA      |2       |NA      |NA        |NA      |NA      |2       |NA      |NA        |NA      |NA      |1       |2       |1         |2       |1       |2       |NA      |NA        |NA      |NA      |2       |NA      |NA        |NA      |NA      |4    |U      |3      |\n",
            "|2   |42  |01     |3    |1       |0       |0       |0       |1       |0       |1       |0       |0       |0       |0       |0       |0       |1      |2      |2      |1       |2       |2       |1       |2       |1       |2       |2       |3       |1       |2       |2       |0       |1       |0       |0       |1       |0       |0       |1       |1       |0       |0       |0       |0       |1       |0       |0       |0       |1      |2      |2      |3      |4      |3      |1      |2      |1      |2      |1      |2      |2      |NA     |1      |2      |2      |NA     |1        |1        |1        |1        |1        |1        |2        |1        |1        |1        |1        |2        |3        |2        |1        |2        |1        |2        |2        |2        |2        |2        |1        |2        |2        |2        |0003000|3       |3       |3       |3       |2       |3       |3       |2       |2       |3       |3       |3       |2       |1      |2      |1      |1      |1       |2       |1         |1       |2       |2      |1       |3       |4         |1       |3       |2      |1       |2       |2         |1       |2       |2      |1       |2       |2         |1       |2       |1      |1       |4       |3         |1       |3       |1       |3       |4         |1       |4       |2       |NA      |NA        |NA      |NA      |1       |1       |3         |2       |1       |1       |1       |1         |2       |1       |1       |3       |3         |1       |3       |3    |U      |3      |\n",
            "|2   |44  |01     |3    |0       |0       |0       |1       |1       |1       |0       |0       |0       |0       |0       |0       |0       |2      |2      |2      |2       |2       |2       |3       |2       |2       |2       |2       |2       |2       |2       |2       |1       |0       |1       |1       |1       |1       |0       |1       |1       |1       |0       |0       |1       |0       |1       |0       |0       |1      |1      |1      |1      |3      |3      |1      |1      |1      |2      |1      |1      |1      |1      |1      |2      |1      |2      |1        |3        |1        |2        |2        |1        |3        |1        |1        |1        |1        |1        |1        |1        |1        |2        |2        |2        |2        |2        |1        |2        |2        |2        |2        |2        |0000000|1       |1       |3       |2       |2       |3       |3       |2       |2       |3       |3       |3       |2       |2      |2      |1      |2      |1       |2       |3         |1       |4       |2      |1       |4       |4         |1       |4       |1      |1       |4       |3         |1       |3       |1      |1       |2       |2         |1       |2       |1      |1       |3       |4         |1       |4       |1       |4       |4         |1       |4       |1       |2       |3         |1       |3       |1       |1       |2         |2       |2       |1       |1       |2         |2       |2       |1       |2       |3         |1       |3       |4    |U      |3      |\n",
            "|2   |62  |01     |3    |0       |0       |0       |1       |0       |0       |1       |0       |0       |0       |1       |0       |0       |1      |2      |2      |1       |3       |1       |3       |1       |1       |2       |2       |3       |1       |2       |1       |0       |0       |0       |0       |0       |0       |0       |0       |0       |0       |0       |0       |0       |0       |0       |1       |0       |2      |2      |2      |2      |3      |3      |2      |NA     |1      |2      |2      |NA     |2      |NA     |2      |NA     |2      |NA     |2        |3        |2        |3        |3        |2        |3        |2        |2        |1        |2        |2        |3        |2        |2        |2        |2        |2        |2        |2        |2        |2        |2        |2        |2        |2        |NA     |1       |1       |2       |2       |2       |3       |2       |2       |2       |3       |2       |2       |2       |3      |5      |1      |5      |1       |3       |2         |2       |2       |9      |1       |2       |2         |2       |2       |1      |2       |NA      |NA        |NA      |NA      |NA     |2       |NA      |NA        |NA      |NA      |NA     |2       |NA      |NA        |NA      |NA      |2       |NA      |NA        |NA      |NA      |2       |NA      |NA        |NA      |NA      |1       |2       |2         |2       |1       |2       |NA      |NA        |NA      |NA      |2       |NA      |NA        |NA      |NA      |2    |U      |3      |\n",
            "|1   |19  |01     |3    |0       |0       |0       |1       |0       |0       |1       |1       |0       |0       |0       |0       |0       |1      |1      |1      |1       |1       |1       |3       |3       |3       |3       |2       |3       |1       |2       |1       |1       |0       |0       |0       |1       |1       |0       |1       |1       |0       |0       |0       |0       |0       |0       |0       |0       |1      |1      |1      |1      |4      |1      |1      |2      |1      |2      |1      |2      |2      |NA     |1      |2      |9      |NA     |2        |3        |2        |2        |3        |1        |3        |2        |2        |3        |2        |3        |3        |2        |2        |1        |1        |1        |1        |2        |2        |2        |2        |2        |2        |2        |0004000|1       |1       |3       |2       |3       |3       |3       |3       |3       |3       |2       |2       |2       |4      |3      |1      |3      |1       |2       |4         |1       |2       |1      |1       |3       |3         |1       |2       |1      |1       |4       |4         |1       |4       |1      |2       |NA      |NA        |NA      |NA      |NA     |1       |1       |3         |1       |2       |1       |2       |2         |1       |2       |2       |NA      |NA        |NA      |NA      |1       |1       |1         |2       |1       |1       |1       |1         |2       |1       |2       |NA      |NA        |NA      |NA      |2    |U      |3      |\n",
            "+----+----+-------+-----+--------+--------+--------+--------+--------+--------+--------+--------+--------+--------+--------+--------+--------+-------+-------+-------+--------+--------+--------+--------+--------+--------+--------+--------+--------+--------+--------+--------+--------+--------+--------+--------+--------+--------+--------+--------+--------+--------+--------+--------+--------+--------+--------+--------+--------+-------+-------+-------+-------+-------+-------+-------+-------+-------+-------+-------+-------+-------+-------+-------+-------+-------+-------+---------+---------+---------+---------+---------+---------+---------+---------+---------+---------+---------+---------+---------+---------+---------+---------+---------+---------+---------+---------+---------+---------+---------+---------+---------+---------+-------+--------+--------+--------+--------+--------+--------+--------+--------+--------+--------+--------+--------+--------+-------+-------+-------+-------+--------+--------+----------+--------+--------+-------+--------+--------+----------+--------+--------+-------+--------+--------+----------+--------+--------+-------+--------+--------+----------+--------+--------+-------+--------+--------+----------+--------+--------+--------+--------+----------+--------+--------+--------+--------+----------+--------+--------+--------+--------+----------+--------+--------+--------+--------+----------+--------+--------+--------+--------+----------+--------+--------+-----+-------+-------+\n",
            "only showing top 5 rows\n",
            "\n"
          ]
        }
      ],
      "source": [
        "df.show(5,0)"
      ]
    },
    {
      "cell_type": "code",
      "execution_count": 34,
      "metadata": {
        "id": "X6YAvvr6OFDc"
      },
      "outputs": [],
      "source": [
        "#Ajustamos las variables numericas\n",
        "df = df.withColumn(\"EDAD\",df[\"EDAD\"].cast('float'))"
      ]
    },
    {
      "cell_type": "code",
      "execution_count": 35,
      "metadata": {
        "id": "7zl25RMcOFDd",
        "colab": {
          "base_uri": "https://localhost:8080/"
        },
        "outputId": "03bddfe3-f748-4b88-f98d-35b8491f4312"
      },
      "outputs": [
        {
          "output_type": "stream",
          "name": "stdout",
          "text": [
            "root\n",
            " |-- SEXO: string (nullable = true)\n",
            " |-- EDAD: float (nullable = true)\n",
            " |-- CVE_ENT: string (nullable = true)\n",
            " |-- AP4_1: string (nullable = true)\n",
            " |-- AP4_2_01: string (nullable = true)\n",
            " |-- AP4_2_02: string (nullable = true)\n",
            " |-- AP4_2_03: string (nullable = true)\n",
            " |-- AP4_2_04: string (nullable = true)\n",
            " |-- AP4_2_05: string (nullable = true)\n",
            " |-- AP4_2_06: string (nullable = true)\n",
            " |-- AP4_2_07: string (nullable = true)\n",
            " |-- AP4_2_08: string (nullable = true)\n",
            " |-- AP4_2_09: string (nullable = true)\n",
            " |-- AP4_2_10: string (nullable = true)\n",
            " |-- AP4_2_11: string (nullable = true)\n",
            " |-- AP4_2_12: string (nullable = true)\n",
            " |-- AP4_2_99: string (nullable = true)\n",
            " |-- AP4_3_1: string (nullable = true)\n",
            " |-- AP4_3_2: string (nullable = true)\n",
            " |-- AP4_3_3: string (nullable = true)\n",
            " |-- AP4_4_01: string (nullable = true)\n",
            " |-- AP4_4_02: string (nullable = true)\n",
            " |-- AP4_4_03: string (nullable = true)\n",
            " |-- AP4_4_04: string (nullable = true)\n",
            " |-- AP4_4_05: string (nullable = true)\n",
            " |-- AP4_4_06: string (nullable = true)\n",
            " |-- AP4_4_07: string (nullable = true)\n",
            " |-- AP4_4_08: string (nullable = true)\n",
            " |-- AP4_4_09: string (nullable = true)\n",
            " |-- AP4_4_10: string (nullable = true)\n",
            " |-- AP4_4_11: string (nullable = true)\n",
            " |-- AP4_4_12: string (nullable = true)\n",
            " |-- AP4_5_01: string (nullable = true)\n",
            " |-- AP4_5_02: string (nullable = true)\n",
            " |-- AP4_5_03: string (nullable = true)\n",
            " |-- AP4_5_04: string (nullable = true)\n",
            " |-- AP4_5_05: string (nullable = true)\n",
            " |-- AP4_5_06: string (nullable = true)\n",
            " |-- AP4_5_07: string (nullable = true)\n",
            " |-- AP4_5_08: string (nullable = true)\n",
            " |-- AP4_5_09: string (nullable = true)\n",
            " |-- AP4_5_10: string (nullable = true)\n",
            " |-- AP4_5_11: string (nullable = true)\n",
            " |-- AP4_5_12: string (nullable = true)\n",
            " |-- AP4_5_13: string (nullable = true)\n",
            " |-- AP4_5_14: string (nullable = true)\n",
            " |-- AP4_5_15: string (nullable = true)\n",
            " |-- AP4_5_16: string (nullable = true)\n",
            " |-- AP4_5_99: string (nullable = true)\n",
            " |-- AP4_6_1: string (nullable = true)\n",
            " |-- AP4_6_2: string (nullable = true)\n",
            " |-- AP4_6_3: string (nullable = true)\n",
            " |-- AP4_7_1: string (nullable = true)\n",
            " |-- AP4_7_2: string (nullable = true)\n",
            " |-- AP4_7_3: string (nullable = true)\n",
            " |-- AP4_8_1: string (nullable = true)\n",
            " |-- AP4_9_1: string (nullable = true)\n",
            " |-- AP4_8_2: string (nullable = true)\n",
            " |-- AP4_9_2: string (nullable = true)\n",
            " |-- AP4_8_3: string (nullable = true)\n",
            " |-- AP4_9_3: string (nullable = true)\n",
            " |-- AP4_8_4: string (nullable = true)\n",
            " |-- AP4_9_4: string (nullable = true)\n",
            " |-- AP4_8_5: string (nullable = true)\n",
            " |-- AP4_9_5: string (nullable = true)\n",
            " |-- AP4_8_6: string (nullable = true)\n",
            " |-- AP4_9_6: string (nullable = true)\n",
            " |-- AP4_10_01: string (nullable = true)\n",
            " |-- AP4_10_02: string (nullable = true)\n",
            " |-- AP4_10_03: string (nullable = true)\n",
            " |-- AP4_10_04: string (nullable = true)\n",
            " |-- AP4_10_05: string (nullable = true)\n",
            " |-- AP4_10_06: string (nullable = true)\n",
            " |-- AP4_10_07: string (nullable = true)\n",
            " |-- AP4_10_08: string (nullable = true)\n",
            " |-- AP4_10_09: string (nullable = true)\n",
            " |-- AP4_10_10: string (nullable = true)\n",
            " |-- AP4_10_11: string (nullable = true)\n",
            " |-- AP4_10_12: string (nullable = true)\n",
            " |-- AP4_10_13: string (nullable = true)\n",
            " |-- AP4_10_14: string (nullable = true)\n",
            " |-- AP4_10_15: string (nullable = true)\n",
            " |-- AP4_11_01: string (nullable = true)\n",
            " |-- AP4_11_02: string (nullable = true)\n",
            " |-- AP4_11_03: string (nullable = true)\n",
            " |-- AP4_11_04: string (nullable = true)\n",
            " |-- AP4_11_05: string (nullable = true)\n",
            " |-- AP4_11_06: string (nullable = true)\n",
            " |-- AP4_11_07: string (nullable = true)\n",
            " |-- AP4_11_08: string (nullable = true)\n",
            " |-- AP4_11_09: string (nullable = true)\n",
            " |-- AP4_11_10: string (nullable = true)\n",
            " |-- AP4_11_11: string (nullable = true)\n",
            " |-- AP4_12: string (nullable = true)\n",
            " |-- AP5_1_01: string (nullable = true)\n",
            " |-- AP5_1_02: string (nullable = true)\n",
            " |-- AP5_1_03: string (nullable = true)\n",
            " |-- AP5_1_04: string (nullable = true)\n",
            " |-- AP5_1_05: string (nullable = true)\n",
            " |-- AP5_1_06: string (nullable = true)\n",
            " |-- AP5_1_07: string (nullable = true)\n",
            " |-- AP5_1_08: string (nullable = true)\n",
            " |-- AP5_1_09: string (nullable = true)\n",
            " |-- AP5_1_10: string (nullable = true)\n",
            " |-- AP5_1_11: string (nullable = true)\n",
            " |-- AP5_1_12: string (nullable = true)\n",
            " |-- AP5_1_13: string (nullable = true)\n",
            " |-- AP5_2_1: string (nullable = true)\n",
            " |-- AP5_2_2: string (nullable = true)\n",
            " |-- AP5_2_3: string (nullable = true)\n",
            " |-- AP5_2_4: string (nullable = true)\n",
            " |-- AP5_3_01: string (nullable = true)\n",
            " |-- AP5_4_01: string (nullable = true)\n",
            " |-- AP5_4_01_C: string (nullable = true)\n",
            " |-- AP5_5_01: string (nullable = true)\n",
            " |-- AP5_6_01: string (nullable = true)\n",
            " |-- AP5_7_1: string (nullable = true)\n",
            " |-- AP5_3_02: string (nullable = true)\n",
            " |-- AP5_4_02: string (nullable = true)\n",
            " |-- AP5_4_02_C: string (nullable = true)\n",
            " |-- AP5_5_02: string (nullable = true)\n",
            " |-- AP5_6_02: string (nullable = true)\n",
            " |-- AP5_7_2: string (nullable = true)\n",
            " |-- AP5_3_03: string (nullable = true)\n",
            " |-- AP5_4_03: string (nullable = true)\n",
            " |-- AP5_4_03_C: string (nullable = true)\n",
            " |-- AP5_5_03: string (nullable = true)\n",
            " |-- AP5_6_03: string (nullable = true)\n",
            " |-- AP5_7_3: string (nullable = true)\n",
            " |-- AP5_3_04: string (nullable = true)\n",
            " |-- AP5_4_04: string (nullable = true)\n",
            " |-- AP5_4_04_C: string (nullable = true)\n",
            " |-- AP5_5_04: string (nullable = true)\n",
            " |-- AP5_6_04: string (nullable = true)\n",
            " |-- AP5_7_4: string (nullable = true)\n",
            " |-- AP5_3_05: string (nullable = true)\n",
            " |-- AP5_4_05: string (nullable = true)\n",
            " |-- AP5_4_05_C: string (nullable = true)\n",
            " |-- AP5_5_05: string (nullable = true)\n",
            " |-- AP5_6_05: string (nullable = true)\n",
            " |-- AP5_3_06: string (nullable = true)\n",
            " |-- AP5_4_06: string (nullable = true)\n",
            " |-- AP5_4_06_C: string (nullable = true)\n",
            " |-- AP5_5_06: string (nullable = true)\n",
            " |-- AP5_6_06: string (nullable = true)\n",
            " |-- AP5_3_07: string (nullable = true)\n",
            " |-- AP5_4_07: string (nullable = true)\n",
            " |-- AP5_4_07_C: string (nullable = true)\n",
            " |-- AP5_5_07: string (nullable = true)\n",
            " |-- AP5_6_07: string (nullable = true)\n",
            " |-- AP5_3_08: string (nullable = true)\n",
            " |-- AP5_4_08: string (nullable = true)\n",
            " |-- AP5_4_08_C: string (nullable = true)\n",
            " |-- AP5_5_08: string (nullable = true)\n",
            " |-- AP5_6_08: string (nullable = true)\n",
            " |-- AP5_3_09: string (nullable = true)\n",
            " |-- AP5_4_09: string (nullable = true)\n",
            " |-- AP5_4_09_C: string (nullable = true)\n",
            " |-- AP5_5_09: string (nullable = true)\n",
            " |-- AP5_6_09: string (nullable = true)\n",
            " |-- AP5_3_10: string (nullable = true)\n",
            " |-- AP5_4_10: string (nullable = true)\n",
            " |-- AP5_4_10_C: string (nullable = true)\n",
            " |-- AP5_5_10: string (nullable = true)\n",
            " |-- AP5_6_10: string (nullable = true)\n",
            " |-- AP5_8: string (nullable = true)\n",
            " |-- DOMINIO: string (nullable = true)\n",
            " |-- ESTRATO: string (nullable = true)\n",
            "\n"
          ]
        }
      ],
      "source": [
        "df.printSchema()"
      ]
    },
    {
      "cell_type": "markdown",
      "metadata": {
        "id": "RhY9tPtHOFDd"
      },
      "source": [
        "### String Indexer\n",
        "\n",
        "tranformar columnas string categoricas a numericas categoricas, para eliminar NANs"
      ]
    },
    {
      "cell_type": "code",
      "execution_count": 36,
      "metadata": {
        "id": "giuoOyu7OFDd"
      },
      "outputs": [],
      "source": [
        "from pyspark.ml import Pipeline\n",
        "from pyspark.ml.feature import StringIndexer\n",
        "\n",
        "indexers = [StringIndexer(inputCol=column, outputCol=column+\"_index\").fit(df) for column in list(set(df.columns)-set(['EDAD'])) ]\n",
        "\n",
        "\n",
        "pipeline = Pipeline(stages=indexers)\n",
        "df_r = pipeline.fit(df).transform(df)"
      ]
    },
    {
      "cell_type": "code",
      "execution_count": 37,
      "metadata": {
        "id": "VJvQMK6hOFDe",
        "colab": {
          "base_uri": "https://localhost:8080/"
        },
        "outputId": "ed9070dc-088a-48d8-fc7c-a053b4205a49"
      },
      "outputs": [
        {
          "output_type": "stream",
          "name": "stdout",
          "text": [
            "+----+----+-------+-----+--------+--------+--------+--------+--------+--------+--------+--------+--------+--------+--------+--------+--------+-------+-------+-------+--------+--------+--------+--------+--------+--------+--------+--------+--------+--------+--------+--------+--------+--------+--------+--------+--------+--------+--------+--------+--------+--------+--------+--------+--------+--------+--------+--------+--------+-------+-------+-------+-------+-------+-------+-------+-------+-------+-------+-------+-------+-------+-------+-------+-------+-------+-------+---------+---------+---------+---------+---------+---------+---------+---------+---------+---------+---------+---------+---------+---------+---------+---------+---------+---------+---------+---------+---------+---------+---------+---------+---------+---------+-------+--------+--------+--------+--------+--------+--------+--------+--------+--------+--------+--------+--------+--------+-------+-------+-------+-------+--------+--------+----------+--------+--------+-------+--------+--------+----------+--------+--------+-------+--------+--------+----------+--------+--------+-------+--------+--------+----------+--------+--------+-------+--------+--------+----------+--------+--------+--------+--------+----------+--------+--------+--------+--------+----------+--------+--------+--------+--------+----------+--------+--------+--------+--------+----------+--------+--------+--------+--------+----------+--------+--------+-----+-------+-------+-------------+---------------+--------------+--------------+--------------+--------------+---------------+----------------+--------------+--------------+---------------+-------------+--------------+----------------+---------------+---------------+---------------+--------------+--------------+-------------+--------------+--------------+---------------+--------------+-----------+--------------+---------------+--------------+--------------+--------------+--------------+---------------+-------------+--------------+--------------+-------------+--------------+-------------+----------------+---------------+--------------+---------------+--------------+--------------+--------------+--------------+--------------+--------------+----------------+---------------+--------------+--------------+----------------+--------------+-------------+-----------+--------------+--------------+--------------+--------------+-------------+--------------+-------------+---------------+---------------+--------------+-------------+------------+--------------+--------------+-------------+--------------+--------------+--------------+--------------+--------------+--------------+--------------+--------------+---------------+--------------+--------------+----------------+--------------+---------------+--------------+---------------+--------------+--------------+----------------+--------------+--------------+--------------+--------------+--------------+---------------+--------------+-------------+--------------+---------------+---------------+--------------+--------------+--------------+--------------+--------------+---------------+--------------+--------------+-------------+-------------+----------------+-------------+--------------+--------------+--------------+--------------+-------------+-------------+----------------+-------------+-------------+--------------+--------------+--------------+--------------+-------------+-------------+-------------+-------------+--------------+--------------+----------------+--------------+--------------+-------------+-------------+-------------+---------------+--------------+--------------+--------------+----------+--------------+--------------+-------------+--------------+--------------+--------------+-------------+--------------+---------------+--------------+--------------+---------------+-------------+--------------+--------------+-------------+--------------+-------------+--------------+---------------+---------------+--------------+--------------+-------------+\n",
            "|SEXO|EDAD|CVE_ENT|AP4_1|AP4_2_01|AP4_2_02|AP4_2_03|AP4_2_04|AP4_2_05|AP4_2_06|AP4_2_07|AP4_2_08|AP4_2_09|AP4_2_10|AP4_2_11|AP4_2_12|AP4_2_99|AP4_3_1|AP4_3_2|AP4_3_3|AP4_4_01|AP4_4_02|AP4_4_03|AP4_4_04|AP4_4_05|AP4_4_06|AP4_4_07|AP4_4_08|AP4_4_09|AP4_4_10|AP4_4_11|AP4_4_12|AP4_5_01|AP4_5_02|AP4_5_03|AP4_5_04|AP4_5_05|AP4_5_06|AP4_5_07|AP4_5_08|AP4_5_09|AP4_5_10|AP4_5_11|AP4_5_12|AP4_5_13|AP4_5_14|AP4_5_15|AP4_5_16|AP4_5_99|AP4_6_1|AP4_6_2|AP4_6_3|AP4_7_1|AP4_7_2|AP4_7_3|AP4_8_1|AP4_9_1|AP4_8_2|AP4_9_2|AP4_8_3|AP4_9_3|AP4_8_4|AP4_9_4|AP4_8_5|AP4_9_5|AP4_8_6|AP4_9_6|AP4_10_01|AP4_10_02|AP4_10_03|AP4_10_04|AP4_10_05|AP4_10_06|AP4_10_07|AP4_10_08|AP4_10_09|AP4_10_10|AP4_10_11|AP4_10_12|AP4_10_13|AP4_10_14|AP4_10_15|AP4_11_01|AP4_11_02|AP4_11_03|AP4_11_04|AP4_11_05|AP4_11_06|AP4_11_07|AP4_11_08|AP4_11_09|AP4_11_10|AP4_11_11|AP4_12 |AP5_1_01|AP5_1_02|AP5_1_03|AP5_1_04|AP5_1_05|AP5_1_06|AP5_1_07|AP5_1_08|AP5_1_09|AP5_1_10|AP5_1_11|AP5_1_12|AP5_1_13|AP5_2_1|AP5_2_2|AP5_2_3|AP5_2_4|AP5_3_01|AP5_4_01|AP5_4_01_C|AP5_5_01|AP5_6_01|AP5_7_1|AP5_3_02|AP5_4_02|AP5_4_02_C|AP5_5_02|AP5_6_02|AP5_7_2|AP5_3_03|AP5_4_03|AP5_4_03_C|AP5_5_03|AP5_6_03|AP5_7_3|AP5_3_04|AP5_4_04|AP5_4_04_C|AP5_5_04|AP5_6_04|AP5_7_4|AP5_3_05|AP5_4_05|AP5_4_05_C|AP5_5_05|AP5_6_05|AP5_3_06|AP5_4_06|AP5_4_06_C|AP5_5_06|AP5_6_06|AP5_3_07|AP5_4_07|AP5_4_07_C|AP5_5_07|AP5_6_07|AP5_3_08|AP5_4_08|AP5_4_08_C|AP5_5_08|AP5_6_08|AP5_3_09|AP5_4_09|AP5_4_09_C|AP5_5_09|AP5_6_09|AP5_3_10|AP5_4_10|AP5_4_10_C|AP5_5_10|AP5_6_10|AP5_8|DOMINIO|ESTRATO|AP4_3_1_index|AP4_11_09_index|AP4_5_16_index|AP4_4_05_index|AP5_5_09_index|AP5_6_08_index|AP4_10_05_index|AP5_4_10_C_index|AP4_5_12_index|AP5_1_10_index|AP4_11_01_index|AP4_7_1_index|AP4_4_10_index|AP5_4_08_C_index|AP4_10_04_index|AP4_10_09_index|AP4_10_10_index|AP5_3_06_index|AP5_4_08_index|AP4_6_3_index|AP5_6_05_index|AP5_4_09_index|AP4_10_14_index|AP5_6_09_index|AP5_8_index|AP4_2_09_index|AP4_10_15_index|AP5_5_08_index|AP5_3_02_index|AP5_1_02_index|AP4_5_09_index|AP4_11_10_index|AP5_2_4_index|AP5_1_12_index|AP5_4_06_index|AP4_8_1_index|AP5_1_07_index|AP5_7_3_index|AP5_4_02_C_index|AP4_10_01_index|AP5_3_08_index|AP4_11_05_index|AP4_2_01_index|AP4_4_11_index|AP4_2_11_index|AP5_6_10_index|AP5_1_13_index|AP4_2_04_index|AP5_4_06_C_index|AP4_10_13_index|AP5_5_02_index|AP4_4_09_index|AP5_4_04_C_index|AP5_1_08_index|DOMINIO_index|AP4_1_index|AP4_5_08_index|AP4_5_06_index|AP5_3_09_index|AP4_2_03_index|ESTRATO_index|AP5_6_04_index|AP4_8_4_index|AP4_11_02_index|AP4_10_03_index|AP5_1_09_index|AP4_3_3_index|AP4_12_index|AP4_4_06_index|AP4_5_04_index|AP4_6_2_index|AP5_1_04_index|AP5_1_11_index|AP4_2_05_index|AP5_5_04_index|AP5_5_01_index|AP5_3_10_index|AP4_5_03_index|AP5_4_04_index|AP4_10_06_index|AP5_5_06_index|AP4_5_15_index|AP5_4_01_C_index|AP5_6_06_index|AP4_11_07_index|AP4_2_02_index|AP4_11_06_index|AP5_3_03_index|AP4_5_01_index|AP5_4_05_C_index|AP5_5_05_index|AP4_5_02_index|AP4_4_12_index|AP4_2_10_index|AP5_1_01_index|AP4_10_07_index|AP4_5_13_index|AP4_9_5_index|AP5_4_10_index|AP4_10_12_index|AP4_11_08_index|AP4_4_02_index|AP4_2_06_index|AP5_6_07_index|AP5_1_03_index|AP4_4_08_index|AP4_10_08_index|AP5_3_07_index|AP4_4_03_index|AP4_9_3_index|AP5_2_2_index|AP5_4_07_C_index|AP4_7_3_index|AP4_2_08_index|AP5_3_01_index|AP5_5_10_index|AP4_2_99_index|AP4_9_6_index|AP4_9_4_index|AP5_4_09_C_index|AP4_7_2_index|AP5_7_1_index|AP5_5_07_index|AP5_1_05_index|AP4_5_07_index|AP5_6_01_index|AP4_8_2_index|AP5_7_2_index|AP4_9_2_index|AP5_2_3_index|AP5_3_04_index|AP4_4_04_index|AP5_4_03_C_index|AP4_5_11_index|AP4_5_99_index|AP4_8_3_index|AP4_6_1_index|CVE_ENT_index|AP4_10_02_index|AP5_3_05_index|AP5_4_07_index|AP4_2_12_index|SEXO_index|AP4_4_07_index|AP4_5_14_index|AP5_2_1_index|AP5_4_01_index|AP4_5_05_index|AP5_4_03_index|AP5_7_4_index|AP5_4_05_index|AP4_11_11_index|AP5_1_06_index|AP5_4_02_index|AP4_11_04_index|AP4_8_5_index|AP4_5_10_index|AP5_5_03_index|AP4_8_6_index|AP5_6_03_index|AP4_3_2_index|AP4_4_01_index|AP4_11_03_index|AP4_10_11_index|AP5_6_02_index|AP4_2_07_index|AP4_9_1_index|\n",
            "+----+----+-------+-----+--------+--------+--------+--------+--------+--------+--------+--------+--------+--------+--------+--------+--------+-------+-------+-------+--------+--------+--------+--------+--------+--------+--------+--------+--------+--------+--------+--------+--------+--------+--------+--------+--------+--------+--------+--------+--------+--------+--------+--------+--------+--------+--------+--------+--------+-------+-------+-------+-------+-------+-------+-------+-------+-------+-------+-------+-------+-------+-------+-------+-------+-------+-------+---------+---------+---------+---------+---------+---------+---------+---------+---------+---------+---------+---------+---------+---------+---------+---------+---------+---------+---------+---------+---------+---------+---------+---------+---------+---------+-------+--------+--------+--------+--------+--------+--------+--------+--------+--------+--------+--------+--------+--------+-------+-------+-------+-------+--------+--------+----------+--------+--------+-------+--------+--------+----------+--------+--------+-------+--------+--------+----------+--------+--------+-------+--------+--------+----------+--------+--------+-------+--------+--------+----------+--------+--------+--------+--------+----------+--------+--------+--------+--------+----------+--------+--------+--------+--------+----------+--------+--------+--------+--------+----------+--------+--------+--------+--------+----------+--------+--------+-----+-------+-------+-------------+---------------+--------------+--------------+--------------+--------------+---------------+----------------+--------------+--------------+---------------+-------------+--------------+----------------+---------------+---------------+---------------+--------------+--------------+-------------+--------------+--------------+---------------+--------------+-----------+--------------+---------------+--------------+--------------+--------------+--------------+---------------+-------------+--------------+--------------+-------------+--------------+-------------+----------------+---------------+--------------+---------------+--------------+--------------+--------------+--------------+--------------+--------------+----------------+---------------+--------------+--------------+----------------+--------------+-------------+-----------+--------------+--------------+--------------+--------------+-------------+--------------+-------------+---------------+---------------+--------------+-------------+------------+--------------+--------------+-------------+--------------+--------------+--------------+--------------+--------------+--------------+--------------+--------------+---------------+--------------+--------------+----------------+--------------+---------------+--------------+---------------+--------------+--------------+----------------+--------------+--------------+--------------+--------------+--------------+---------------+--------------+-------------+--------------+---------------+---------------+--------------+--------------+--------------+--------------+--------------+---------------+--------------+--------------+-------------+-------------+----------------+-------------+--------------+--------------+--------------+--------------+-------------+-------------+----------------+-------------+-------------+--------------+--------------+--------------+--------------+-------------+-------------+-------------+-------------+--------------+--------------+----------------+--------------+--------------+-------------+-------------+-------------+---------------+--------------+--------------+--------------+----------+--------------+--------------+-------------+--------------+--------------+--------------+-------------+--------------+---------------+--------------+--------------+---------------+-------------+--------------+--------------+-------------+--------------+-------------+--------------+---------------+---------------+--------------+--------------+-------------+\n",
            "|2   |53.0|01     |3    |0       |0       |1       |1       |0       |0       |0       |1       |0       |0       |0       |0       |0       |1      |1      |1      |1       |3       |1       |3       |1       |1       |1       |1       |3       |1       |1       |1       |0       |0       |0       |0       |0       |0       |0       |0       |1       |1       |0       |0       |0       |0       |0       |0       |0       |2      |2      |2      |2      |1      |1      |2      |NA     |1      |2      |2      |NA     |2      |NA     |1      |2      |2      |NA     |1        |3        |3        |3        |3        |2        |3        |2        |2        |3        |2        |2        |3        |2        |2        |2        |2        |2        |2        |2        |2        |2        |2        |2        |2        |2        |NA     |1       |3       |2       |2       |2       |3       |2       |2       |1       |3       |2       |2       |2       |2      |5      |1      |2      |2       |NA      |NA        |NA      |NA      |NA     |1       |2       |3         |2       |2       |1      |1       |3       |4         |1       |3       |1      |2       |NA      |NA        |NA      |NA      |NA     |2       |NA      |NA        |NA      |NA      |2       |NA      |NA        |NA      |NA      |2       |NA      |NA        |NA      |NA      |1       |2       |1         |2       |1       |2       |NA      |NA        |NA      |NA      |2       |NA      |NA        |NA      |NA      |4    |U      |3      |0.0          |0.0            |0.0           |1.0           |1.0           |0.0           |1.0            |0.0             |0.0           |0.0           |0.0            |2.0          |0.0           |0.0             |1.0            |0.0            |0.0            |0.0           |1.0           |0.0          |0.0           |0.0           |0.0            |0.0           |0.0        |0.0           |0.0            |0.0           |0.0           |1.0           |1.0           |0.0            |2.0          |1.0           |0.0           |1.0          |1.0           |0.0          |1.0             |0.0            |0.0           |0.0            |0.0           |1.0           |0.0           |0.0           |0.0           |1.0           |0.0             |0.0            |2.0           |2.0           |0.0             |2.0           |0.0          |0.0        |0.0           |0.0           |1.0           |1.0           |1.0          |0.0           |0.0          |0.0            |2.0            |2.0           |1.0          |0.0         |0.0           |0.0           |1.0          |1.0           |1.0           |1.0           |0.0           |1.0           |0.0           |0.0           |0.0           |0.0            |0.0           |0.0           |0.0             |0.0           |0.0            |0.0           |0.0            |0.0           |1.0           |0.0             |0.0           |0.0           |1.0           |0.0           |0.0           |0.0            |0.0           |1.0          |0.0           |0.0            |0.0            |1.0           |0.0           |0.0           |1.0           |2.0           |1.0            |0.0           |1.0           |0.0          |0.0          |0.0             |0.0          |1.0           |1.0           |0.0           |0.0           |0.0          |0.0          |1.0             |0.0          |0.0          |0.0           |1.0           |0.0           |0.0           |1.0          |1.0          |1.0          |0.0          |1.0           |0.0           |3.0             |0.0           |0.0           |0.0          |1.0          |31.0         |0.0            |0.0           |0.0           |0.0           |0.0       |2.0           |0.0           |1.0          |0.0           |0.0           |2.0           |1.0          |0.0           |0.0            |0.0           |1.0           |0.0            |0.0          |1.0           |0.0           |0.0          |2.0           |1.0          |0.0           |0.0            |0.0            |1.0           |0.0           |0.0          |\n",
            "|2   |42.0|01     |3    |1       |0       |0       |0       |1       |0       |1       |0       |0       |0       |0       |0       |0       |1      |2      |2      |1       |2       |2       |1       |2       |1       |2       |2       |3       |1       |2       |2       |0       |1       |0       |0       |1       |0       |0       |1       |1       |0       |0       |0       |0       |1       |0       |0       |0       |1      |2      |2      |3      |4      |3      |1      |2      |1      |2      |1      |2      |2      |NA     |1      |2      |2      |NA     |1        |1        |1        |1        |1        |1        |2        |1        |1        |1        |1        |2        |3        |2        |1        |2        |1        |2        |2        |2        |2        |2        |1        |2        |2        |2        |0003000|3       |3       |3       |3       |2       |3       |3       |2       |2       |3       |3       |3       |2       |1      |2      |1      |1      |1       |2       |1         |1       |2       |2      |1       |3       |4         |1       |3       |2      |1       |2       |2         |1       |2       |2      |1       |2       |2         |1       |2       |1      |1       |4       |3         |1       |3       |1       |3       |4         |1       |4       |2       |NA      |NA        |NA      |NA      |1       |1       |3         |2       |1       |1       |1       |1         |2       |1       |1       |3       |3         |1       |3       |3    |U      |3      |0.0          |0.0            |0.0           |0.0           |0.0           |0.0           |2.0            |1.0             |0.0           |0.0           |0.0            |1.0          |0.0           |3.0             |2.0            |1.0            |1.0            |1.0           |0.0           |0.0          |2.0           |1.0           |0.0            |1.0           |1.0        |0.0           |1.0            |0.0           |0.0           |1.0           |1.0           |0.0            |0.0          |0.0           |2.0           |0.0          |0.0           |2.0          |3.0             |0.0            |0.0           |0.0            |1.0           |0.0           |0.0           |2.0           |0.0           |0.0           |3.0             |0.0            |0.0           |2.0           |1.0             |2.0           |0.0          |0.0        |1.0           |0.0           |0.0           |0.0           |1.0          |1.0           |0.0          |1.0            |1.0            |1.0           |0.0          |5.0         |0.0           |0.0           |1.0          |0.0           |0.0           |0.0           |1.0           |0.0           |1.0           |0.0           |1.0           |1.0            |1.0           |0.0           |4.0             |3.0           |0.0            |0.0           |0.0            |0.0           |1.0           |1.0             |1.0           |1.0           |0.0           |0.0           |1.0           |1.0            |0.0           |1.0          |2.0           |0.0            |1.0            |2.0           |0.0           |0.0           |0.0           |0.0           |2.0            |0.0           |0.0           |1.0          |2.0          |0.0             |1.0          |0.0           |0.0           |1.0           |0.0           |0.0          |0.0          |0.0             |2.0          |2.0          |0.0           |1.0           |0.0           |2.0           |1.0          |2.0          |1.0          |0.0          |0.0           |1.0           |2.0             |0.0           |0.0           |1.0          |0.0          |31.0         |1.0            |1.0           |0.0           |0.0           |0.0       |0.0           |1.0           |0.0          |1.0           |1.0           |1.0           |0.0          |3.0           |0.0            |0.0           |2.0           |0.0            |0.0          |0.0           |0.0           |0.0          |1.0           |0.0          |0.0           |0.0            |1.0            |2.0           |1.0           |1.0          |\n",
            "|2   |44.0|01     |3    |0       |0       |0       |1       |1       |1       |0       |0       |0       |0       |0       |0       |0       |2      |2      |2      |2       |2       |2       |3       |2       |2       |2       |2       |2       |2       |2       |2       |1       |0       |1       |1       |1       |1       |0       |1       |1       |1       |0       |0       |1       |0       |1       |0       |0       |1      |1      |1      |1      |3      |3      |1      |1      |1      |2      |1      |1      |1      |1      |1      |2      |1      |2      |1        |3        |1        |2        |2        |1        |3        |1        |1        |1        |1        |1        |1        |1        |1        |2        |2        |2        |2        |2        |1        |2        |2        |2        |2        |2        |0000000|1       |1       |3       |2       |2       |3       |3       |2       |2       |3       |3       |3       |2       |2      |2      |1      |2      |1       |2       |3         |1       |4       |2      |1       |4       |4         |1       |4       |1      |1       |4       |3         |1       |3       |1      |1       |2       |2         |1       |2       |1      |1       |3       |4         |1       |4       |1       |4       |4         |1       |4       |1       |2       |3         |1       |3       |1       |1       |2         |2       |2       |1       |1       |2         |2       |2       |1       |2       |3         |1       |3       |4    |U      |3      |1.0          |0.0            |0.0           |0.0           |0.0           |1.0           |0.0            |1.0             |0.0           |0.0           |0.0            |0.0          |1.0           |1.0             |0.0            |1.0            |1.0            |1.0           |0.0           |1.0          |3.0           |1.0           |2.0            |2.0           |0.0        |0.0           |1.0            |0.0           |0.0           |0.0           |1.0           |0.0            |2.0          |0.0           |3.0           |0.0          |0.0           |0.0          |3.0             |0.0            |0.0           |0.0            |0.0           |0.0           |0.0           |2.0           |0.0           |1.0           |3.0             |2.0            |0.0           |0.0           |1.0             |2.0           |0.0          |0.0        |1.0           |1.0           |0.0           |0.0           |1.0          |1.0           |1.0          |0.0            |1.0            |1.0           |0.0          |1.0         |1.0           |1.0           |0.0          |1.0           |0.0           |0.0           |1.0           |0.0           |1.0           |1.0           |1.0           |1.0            |1.0           |1.0           |1.0             |3.0           |0.0            |0.0           |1.0            |0.0           |0.0           |3.0             |1.0           |0.0           |0.0           |0.0           |0.0           |0.0            |1.0           |1.0          |1.0           |2.0            |0.0            |2.0           |1.0           |2.0           |0.0           |0.0           |2.0            |1.0           |0.0           |2.0          |2.0          |2.0             |1.0          |0.0           |0.0           |1.0           |0.0           |1.0          |2.0          |2.0             |1.0          |2.0          |1.0           |1.0           |0.0           |3.0           |1.0          |1.0          |1.0          |0.0          |0.0           |0.0           |1.0             |0.0           |0.0           |1.0          |0.0          |31.0         |0.0            |1.0           |1.0           |0.0           |0.0       |0.0           |0.0           |1.0          |1.0           |1.0           |3.0           |0.0          |2.0           |0.0            |0.0           |3.0           |0.0            |0.0          |1.0           |0.0           |1.0          |2.0           |0.0          |1.0           |0.0            |1.0            |3.0           |0.0           |2.0          |\n",
            "|2   |62.0|01     |3    |0       |0       |0       |1       |0       |0       |1       |0       |0       |0       |1       |0       |0       |1      |2      |2      |1       |3       |1       |3       |1       |1       |2       |2       |3       |1       |2       |1       |0       |0       |0       |0       |0       |0       |0       |0       |0       |0       |0       |0       |0       |0       |0       |1       |0       |2      |2      |2      |2      |3      |3      |2      |NA     |1      |2      |2      |NA     |2      |NA     |2      |NA     |2      |NA     |2        |3        |2        |3        |3        |2        |3        |2        |2        |1        |2        |2        |3        |2        |2        |2        |2        |2        |2        |2        |2        |2        |2        |2        |2        |2        |NA     |1       |1       |2       |2       |2       |3       |2       |2       |2       |3       |2       |2       |2       |3      |5      |1      |5      |1       |3       |2         |2       |2       |9      |1       |2       |2         |2       |2       |1      |2       |NA      |NA        |NA      |NA      |NA     |2       |NA      |NA        |NA      |NA      |NA     |2       |NA      |NA        |NA      |NA      |2       |NA      |NA        |NA      |NA      |2       |NA      |NA        |NA      |NA      |1       |2       |2         |2       |1       |2       |NA      |NA        |NA      |NA      |2       |NA      |NA        |NA      |NA      |2    |U      |3      |0.0          |0.0            |1.0           |1.0           |1.0           |0.0           |1.0            |0.0             |0.0           |0.0           |0.0            |2.0          |0.0           |1.0             |1.0            |0.0            |1.0            |0.0           |1.0           |0.0          |0.0           |0.0           |0.0            |0.0           |2.0        |0.0           |0.0            |0.0           |0.0           |0.0           |0.0           |0.0            |4.0          |1.0           |0.0           |1.0          |1.0           |1.0          |2.0             |1.0            |0.0           |0.0            |0.0           |0.0           |1.0           |0.0           |0.0           |1.0           |0.0             |0.0            |2.0           |2.0           |0.0             |2.0           |0.0          |0.0        |0.0           |0.0           |1.0           |0.0           |1.0          |0.0           |0.0          |0.0            |0.0            |1.0           |0.0          |0.0         |0.0           |0.0           |1.0          |1.0           |1.0           |1.0           |0.0           |2.0           |0.0           |0.0           |0.0           |0.0            |0.0           |0.0           |2.0             |0.0           |0.0            |0.0           |0.0            |1.0           |1.0           |0.0             |0.0           |0.0           |1.0           |0.0           |0.0           |0.0            |0.0           |0.0          |0.0           |0.0            |0.0            |1.0           |0.0           |0.0           |1.0           |0.0           |1.0            |0.0           |1.0           |0.0          |0.0          |0.0             |1.0          |0.0           |0.0           |0.0           |0.0           |0.0          |0.0          |1.0             |1.0          |3.0          |0.0           |1.0           |0.0           |2.0           |1.0          |1.0          |1.0          |0.0          |1.0           |0.0           |0.0             |0.0           |0.0           |0.0          |1.0          |31.0         |0.0            |0.0           |0.0           |0.0           |0.0       |0.0           |0.0           |2.0          |2.0           |0.0           |0.0           |1.0          |0.0           |0.0            |0.0           |1.0           |0.0            |1.0          |0.0           |1.0           |0.0          |0.0           |0.0          |0.0           |0.0            |0.0            |1.0           |1.0           |0.0          |\n",
            "|1   |19.0|01     |3    |0       |0       |0       |1       |0       |0       |1       |1       |0       |0       |0       |0       |0       |1      |1      |1      |1       |1       |1       |3       |3       |3       |3       |2       |3       |1       |2       |1       |1       |0       |0       |0       |1       |1       |0       |1       |1       |0       |0       |0       |0       |0       |0       |0       |0       |1      |1      |1      |1      |4      |1      |1      |2      |1      |2      |1      |2      |2      |NA     |1      |2      |9      |NA     |2        |3        |2        |2        |3        |1        |3        |2        |2        |3        |2        |3        |3        |2        |2        |1        |1        |1        |1        |2        |2        |2        |2        |2        |2        |2        |0004000|1       |1       |3       |2       |3       |3       |3       |3       |3       |3       |2       |2       |2       |4      |3      |1      |3      |1       |2       |4         |1       |2       |1      |1       |3       |3         |1       |2       |1      |1       |4       |4         |1       |4       |1      |2       |NA      |NA        |NA      |NA      |NA     |1       |1       |3         |1       |2       |1       |2       |2         |1       |2       |2       |NA      |NA        |NA      |NA      |1       |1       |1         |2       |1       |1       |1       |1         |2       |1       |2       |NA      |NA        |NA      |NA      |2    |U      |3      |0.0          |0.0            |0.0           |2.0           |0.0           |0.0           |1.0            |0.0             |0.0           |0.0           |1.0            |0.0          |0.0           |0.0             |0.0            |0.0            |0.0            |1.0           |0.0           |1.0          |1.0           |1.0           |0.0            |1.0           |2.0        |0.0           |0.0            |0.0           |0.0           |0.0           |1.0           |0.0            |1.0          |1.0           |1.0           |0.0          |0.0           |0.0          |1.0             |1.0            |0.0           |0.0            |0.0           |0.0           |0.0           |0.0           |0.0           |1.0           |2.0             |0.0            |0.0           |2.0           |0.0             |0.0           |0.0          |0.0        |1.0           |1.0           |0.0           |0.0           |1.0          |0.0           |0.0          |1.0            |0.0            |0.0           |1.0          |12.0        |2.0           |0.0           |0.0          |1.0           |1.0           |1.0           |0.0           |0.0           |0.0           |0.0           |0.0           |1.0            |1.0           |0.0           |3.0             |1.0           |0.0            |0.0           |0.0            |0.0           |0.0           |1.0             |1.0           |0.0           |1.0           |0.0           |0.0           |0.0            |0.0           |1.0          |0.0           |1.0            |0.0            |0.0           |0.0           |0.0           |0.0           |0.0           |1.0            |0.0           |1.0           |1.0          |3.0          |0.0             |0.0          |1.0           |0.0           |0.0           |0.0           |0.0          |0.0          |0.0             |2.0          |1.0          |0.0           |0.0           |0.0           |2.0           |1.0          |1.0          |1.0          |0.0          |1.0           |0.0           |3.0             |0.0           |0.0           |1.0          |0.0          |31.0         |0.0            |1.0           |0.0           |0.0           |1.0       |1.0           |0.0           |3.0          |1.0           |1.0           |3.0           |1.0          |4.0           |0.0            |0.0           |2.0           |1.0            |0.0          |0.0           |0.0           |2.0          |3.0           |1.0          |0.0           |1.0            |0.0            |1.0           |1.0           |1.0          |\n",
            "+----+----+-------+-----+--------+--------+--------+--------+--------+--------+--------+--------+--------+--------+--------+--------+--------+-------+-------+-------+--------+--------+--------+--------+--------+--------+--------+--------+--------+--------+--------+--------+--------+--------+--------+--------+--------+--------+--------+--------+--------+--------+--------+--------+--------+--------+--------+--------+--------+-------+-------+-------+-------+-------+-------+-------+-------+-------+-------+-------+-------+-------+-------+-------+-------+-------+-------+---------+---------+---------+---------+---------+---------+---------+---------+---------+---------+---------+---------+---------+---------+---------+---------+---------+---------+---------+---------+---------+---------+---------+---------+---------+---------+-------+--------+--------+--------+--------+--------+--------+--------+--------+--------+--------+--------+--------+--------+-------+-------+-------+-------+--------+--------+----------+--------+--------+-------+--------+--------+----------+--------+--------+-------+--------+--------+----------+--------+--------+-------+--------+--------+----------+--------+--------+-------+--------+--------+----------+--------+--------+--------+--------+----------+--------+--------+--------+--------+----------+--------+--------+--------+--------+----------+--------+--------+--------+--------+----------+--------+--------+--------+--------+----------+--------+--------+-----+-------+-------+-------------+---------------+--------------+--------------+--------------+--------------+---------------+----------------+--------------+--------------+---------------+-------------+--------------+----------------+---------------+---------------+---------------+--------------+--------------+-------------+--------------+--------------+---------------+--------------+-----------+--------------+---------------+--------------+--------------+--------------+--------------+---------------+-------------+--------------+--------------+-------------+--------------+-------------+----------------+---------------+--------------+---------------+--------------+--------------+--------------+--------------+--------------+--------------+----------------+---------------+--------------+--------------+----------------+--------------+-------------+-----------+--------------+--------------+--------------+--------------+-------------+--------------+-------------+---------------+---------------+--------------+-------------+------------+--------------+--------------+-------------+--------------+--------------+--------------+--------------+--------------+--------------+--------------+--------------+---------------+--------------+--------------+----------------+--------------+---------------+--------------+---------------+--------------+--------------+----------------+--------------+--------------+--------------+--------------+--------------+---------------+--------------+-------------+--------------+---------------+---------------+--------------+--------------+--------------+--------------+--------------+---------------+--------------+--------------+-------------+-------------+----------------+-------------+--------------+--------------+--------------+--------------+-------------+-------------+----------------+-------------+-------------+--------------+--------------+--------------+--------------+-------------+-------------+-------------+-------------+--------------+--------------+----------------+--------------+--------------+-------------+-------------+-------------+---------------+--------------+--------------+--------------+----------+--------------+--------------+-------------+--------------+--------------+--------------+-------------+--------------+---------------+--------------+--------------+---------------+-------------+--------------+--------------+-------------+--------------+-------------+--------------+---------------+---------------+--------------+--------------+-------------+\n",
            "only showing top 5 rows\n",
            "\n"
          ]
        }
      ],
      "source": [
        "df_r.show(5,0)"
      ]
    },
    {
      "cell_type": "code",
      "execution_count": 38,
      "metadata": {
        "id": "bav20qbkOFDe"
      },
      "outputs": [],
      "source": [
        "df_r=df_r.drop(*list(set(df.columns)-set(['EDAD'])))"
      ]
    },
    {
      "cell_type": "code",
      "execution_count": 39,
      "metadata": {
        "id": "CI1iH7mKOFDe",
        "colab": {
          "base_uri": "https://localhost:8080/"
        },
        "outputId": "df9db100-6f22-4ff4-91e8-a462a696e014"
      },
      "outputs": [
        {
          "output_type": "stream",
          "name": "stdout",
          "text": [
            "+----+-------------+---------------+--------------+--------------+--------------+--------------+---------------+----------------+--------------+--------------+---------------+-------------+--------------+----------------+---------------+---------------+---------------+--------------+--------------+-------------+--------------+--------------+---------------+--------------+-----------+--------------+---------------+--------------+--------------+--------------+--------------+---------------+-------------+--------------+--------------+-------------+--------------+-------------+----------------+---------------+--------------+---------------+--------------+--------------+--------------+--------------+--------------+--------------+----------------+---------------+--------------+--------------+----------------+--------------+-------------+-----------+--------------+--------------+--------------+--------------+-------------+--------------+-------------+---------------+---------------+--------------+-------------+------------+--------------+--------------+-------------+--------------+--------------+--------------+--------------+--------------+--------------+--------------+--------------+---------------+--------------+--------------+----------------+--------------+---------------+--------------+---------------+--------------+--------------+----------------+--------------+--------------+--------------+--------------+--------------+---------------+--------------+-------------+--------------+---------------+---------------+--------------+--------------+--------------+--------------+--------------+---------------+--------------+--------------+-------------+-------------+----------------+-------------+--------------+--------------+--------------+--------------+-------------+-------------+----------------+-------------+-------------+--------------+--------------+--------------+--------------+-------------+-------------+-------------+-------------+--------------+--------------+----------------+--------------+--------------+-------------+-------------+-------------+---------------+--------------+--------------+--------------+----------+--------------+--------------+-------------+--------------+--------------+--------------+-------------+--------------+---------------+--------------+--------------+---------------+-------------+--------------+--------------+-------------+--------------+-------------+--------------+---------------+---------------+--------------+--------------+-------------+\n",
            "|EDAD|AP4_3_1_index|AP4_11_09_index|AP4_5_16_index|AP4_4_05_index|AP5_5_09_index|AP5_6_08_index|AP4_10_05_index|AP5_4_10_C_index|AP4_5_12_index|AP5_1_10_index|AP4_11_01_index|AP4_7_1_index|AP4_4_10_index|AP5_4_08_C_index|AP4_10_04_index|AP4_10_09_index|AP4_10_10_index|AP5_3_06_index|AP5_4_08_index|AP4_6_3_index|AP5_6_05_index|AP5_4_09_index|AP4_10_14_index|AP5_6_09_index|AP5_8_index|AP4_2_09_index|AP4_10_15_index|AP5_5_08_index|AP5_3_02_index|AP5_1_02_index|AP4_5_09_index|AP4_11_10_index|AP5_2_4_index|AP5_1_12_index|AP5_4_06_index|AP4_8_1_index|AP5_1_07_index|AP5_7_3_index|AP5_4_02_C_index|AP4_10_01_index|AP5_3_08_index|AP4_11_05_index|AP4_2_01_index|AP4_4_11_index|AP4_2_11_index|AP5_6_10_index|AP5_1_13_index|AP4_2_04_index|AP5_4_06_C_index|AP4_10_13_index|AP5_5_02_index|AP4_4_09_index|AP5_4_04_C_index|AP5_1_08_index|DOMINIO_index|AP4_1_index|AP4_5_08_index|AP4_5_06_index|AP5_3_09_index|AP4_2_03_index|ESTRATO_index|AP5_6_04_index|AP4_8_4_index|AP4_11_02_index|AP4_10_03_index|AP5_1_09_index|AP4_3_3_index|AP4_12_index|AP4_4_06_index|AP4_5_04_index|AP4_6_2_index|AP5_1_04_index|AP5_1_11_index|AP4_2_05_index|AP5_5_04_index|AP5_5_01_index|AP5_3_10_index|AP4_5_03_index|AP5_4_04_index|AP4_10_06_index|AP5_5_06_index|AP4_5_15_index|AP5_4_01_C_index|AP5_6_06_index|AP4_11_07_index|AP4_2_02_index|AP4_11_06_index|AP5_3_03_index|AP4_5_01_index|AP5_4_05_C_index|AP5_5_05_index|AP4_5_02_index|AP4_4_12_index|AP4_2_10_index|AP5_1_01_index|AP4_10_07_index|AP4_5_13_index|AP4_9_5_index|AP5_4_10_index|AP4_10_12_index|AP4_11_08_index|AP4_4_02_index|AP4_2_06_index|AP5_6_07_index|AP5_1_03_index|AP4_4_08_index|AP4_10_08_index|AP5_3_07_index|AP4_4_03_index|AP4_9_3_index|AP5_2_2_index|AP5_4_07_C_index|AP4_7_3_index|AP4_2_08_index|AP5_3_01_index|AP5_5_10_index|AP4_2_99_index|AP4_9_6_index|AP4_9_4_index|AP5_4_09_C_index|AP4_7_2_index|AP5_7_1_index|AP5_5_07_index|AP5_1_05_index|AP4_5_07_index|AP5_6_01_index|AP4_8_2_index|AP5_7_2_index|AP4_9_2_index|AP5_2_3_index|AP5_3_04_index|AP4_4_04_index|AP5_4_03_C_index|AP4_5_11_index|AP4_5_99_index|AP4_8_3_index|AP4_6_1_index|CVE_ENT_index|AP4_10_02_index|AP5_3_05_index|AP5_4_07_index|AP4_2_12_index|SEXO_index|AP4_4_07_index|AP4_5_14_index|AP5_2_1_index|AP5_4_01_index|AP4_5_05_index|AP5_4_03_index|AP5_7_4_index|AP5_4_05_index|AP4_11_11_index|AP5_1_06_index|AP5_4_02_index|AP4_11_04_index|AP4_8_5_index|AP4_5_10_index|AP5_5_03_index|AP4_8_6_index|AP5_6_03_index|AP4_3_2_index|AP4_4_01_index|AP4_11_03_index|AP4_10_11_index|AP5_6_02_index|AP4_2_07_index|AP4_9_1_index|\n",
            "+----+-------------+---------------+--------------+--------------+--------------+--------------+---------------+----------------+--------------+--------------+---------------+-------------+--------------+----------------+---------------+---------------+---------------+--------------+--------------+-------------+--------------+--------------+---------------+--------------+-----------+--------------+---------------+--------------+--------------+--------------+--------------+---------------+-------------+--------------+--------------+-------------+--------------+-------------+----------------+---------------+--------------+---------------+--------------+--------------+--------------+--------------+--------------+--------------+----------------+---------------+--------------+--------------+----------------+--------------+-------------+-----------+--------------+--------------+--------------+--------------+-------------+--------------+-------------+---------------+---------------+--------------+-------------+------------+--------------+--------------+-------------+--------------+--------------+--------------+--------------+--------------+--------------+--------------+--------------+---------------+--------------+--------------+----------------+--------------+---------------+--------------+---------------+--------------+--------------+----------------+--------------+--------------+--------------+--------------+--------------+---------------+--------------+-------------+--------------+---------------+---------------+--------------+--------------+--------------+--------------+--------------+---------------+--------------+--------------+-------------+-------------+----------------+-------------+--------------+--------------+--------------+--------------+-------------+-------------+----------------+-------------+-------------+--------------+--------------+--------------+--------------+-------------+-------------+-------------+-------------+--------------+--------------+----------------+--------------+--------------+-------------+-------------+-------------+---------------+--------------+--------------+--------------+----------+--------------+--------------+-------------+--------------+--------------+--------------+-------------+--------------+---------------+--------------+--------------+---------------+-------------+--------------+--------------+-------------+--------------+-------------+--------------+---------------+---------------+--------------+--------------+-------------+\n",
            "|53.0|0.0          |0.0            |0.0           |1.0           |1.0           |0.0           |1.0            |0.0             |0.0           |0.0           |0.0            |2.0          |0.0           |0.0             |1.0            |0.0            |0.0            |0.0           |1.0           |0.0          |0.0           |0.0           |0.0            |0.0           |0.0        |0.0           |0.0            |0.0           |0.0           |1.0           |1.0           |0.0            |2.0          |1.0           |0.0           |1.0          |1.0           |0.0          |1.0             |0.0            |0.0           |0.0            |0.0           |1.0           |0.0           |0.0           |0.0           |1.0           |0.0             |0.0            |2.0           |2.0           |0.0             |2.0           |0.0          |0.0        |0.0           |0.0           |1.0           |1.0           |1.0          |0.0           |0.0          |0.0            |2.0            |2.0           |1.0          |0.0         |0.0           |0.0           |1.0          |1.0           |1.0           |1.0           |0.0           |1.0           |0.0           |0.0           |0.0           |0.0            |0.0           |0.0           |0.0             |0.0           |0.0            |0.0           |0.0            |0.0           |1.0           |0.0             |0.0           |0.0           |1.0           |0.0           |0.0           |0.0            |0.0           |1.0          |0.0           |0.0            |0.0            |1.0           |0.0           |0.0           |1.0           |2.0           |1.0            |0.0           |1.0           |0.0          |0.0          |0.0             |0.0          |1.0           |1.0           |0.0           |0.0           |0.0          |0.0          |1.0             |0.0          |0.0          |0.0           |1.0           |0.0           |0.0           |1.0          |1.0          |1.0          |0.0          |1.0           |0.0           |3.0             |0.0           |0.0           |0.0          |1.0          |31.0         |0.0            |0.0           |0.0           |0.0           |0.0       |2.0           |0.0           |1.0          |0.0           |0.0           |2.0           |1.0          |0.0           |0.0            |0.0           |1.0           |0.0            |0.0          |1.0           |0.0           |0.0          |2.0           |1.0          |0.0           |0.0            |0.0            |1.0           |0.0           |0.0          |\n",
            "|42.0|0.0          |0.0            |0.0           |0.0           |0.0           |0.0           |2.0            |1.0             |0.0           |0.0           |0.0            |1.0          |0.0           |3.0             |2.0            |1.0            |1.0            |1.0           |0.0           |0.0          |2.0           |1.0           |0.0            |1.0           |1.0        |0.0           |1.0            |0.0           |0.0           |1.0           |1.0           |0.0            |0.0          |0.0           |2.0           |0.0          |0.0           |2.0          |3.0             |0.0            |0.0           |0.0            |1.0           |0.0           |0.0           |2.0           |0.0           |0.0           |3.0             |0.0            |0.0           |2.0           |1.0             |2.0           |0.0          |0.0        |1.0           |0.0           |0.0           |0.0           |1.0          |1.0           |0.0          |1.0            |1.0            |1.0           |0.0          |5.0         |0.0           |0.0           |1.0          |0.0           |0.0           |0.0           |1.0           |0.0           |1.0           |0.0           |1.0           |1.0            |1.0           |0.0           |4.0             |3.0           |0.0            |0.0           |0.0            |0.0           |1.0           |1.0             |1.0           |1.0           |0.0           |0.0           |1.0           |1.0            |0.0           |1.0          |2.0           |0.0            |1.0            |2.0           |0.0           |0.0           |0.0           |0.0           |2.0            |0.0           |0.0           |1.0          |2.0          |0.0             |1.0          |0.0           |0.0           |1.0           |0.0           |0.0          |0.0          |0.0             |2.0          |2.0          |0.0           |1.0           |0.0           |2.0           |1.0          |2.0          |1.0          |0.0          |0.0           |1.0           |2.0             |0.0           |0.0           |1.0          |0.0          |31.0         |1.0            |1.0           |0.0           |0.0           |0.0       |0.0           |1.0           |0.0          |1.0           |1.0           |1.0           |0.0          |3.0           |0.0            |0.0           |2.0           |0.0            |0.0          |0.0           |0.0           |0.0          |1.0           |0.0          |0.0           |0.0            |1.0            |2.0           |1.0           |1.0          |\n",
            "|44.0|1.0          |0.0            |0.0           |0.0           |0.0           |1.0           |0.0            |1.0             |0.0           |0.0           |0.0            |0.0          |1.0           |1.0             |0.0            |1.0            |1.0            |1.0           |0.0           |1.0          |3.0           |1.0           |2.0            |2.0           |0.0        |0.0           |1.0            |0.0           |0.0           |0.0           |1.0           |0.0            |2.0          |0.0           |3.0           |0.0          |0.0           |0.0          |3.0             |0.0            |0.0           |0.0            |0.0           |0.0           |0.0           |2.0           |0.0           |1.0           |3.0             |2.0            |0.0           |0.0           |1.0             |2.0           |0.0          |0.0        |1.0           |1.0           |0.0           |0.0           |1.0          |1.0           |1.0          |0.0            |1.0            |1.0           |0.0          |1.0         |1.0           |1.0           |0.0          |1.0           |0.0           |0.0           |1.0           |0.0           |1.0           |1.0           |1.0           |1.0            |1.0           |1.0           |1.0             |3.0           |0.0            |0.0           |1.0            |0.0           |0.0           |3.0             |1.0           |0.0           |0.0           |0.0           |0.0           |0.0            |1.0           |1.0          |1.0           |2.0            |0.0            |2.0           |1.0           |2.0           |0.0           |0.0           |2.0            |1.0           |0.0           |2.0          |2.0          |2.0             |1.0          |0.0           |0.0           |1.0           |0.0           |1.0          |2.0          |2.0             |1.0          |2.0          |1.0           |1.0           |0.0           |3.0           |1.0          |1.0          |1.0          |0.0          |0.0           |0.0           |1.0             |0.0           |0.0           |1.0          |0.0          |31.0         |0.0            |1.0           |1.0           |0.0           |0.0       |0.0           |0.0           |1.0          |1.0           |1.0           |3.0           |0.0          |2.0           |0.0            |0.0           |3.0           |0.0            |0.0          |1.0           |0.0           |1.0          |2.0           |0.0          |1.0           |0.0            |1.0            |3.0           |0.0           |2.0          |\n",
            "|62.0|0.0          |0.0            |1.0           |1.0           |1.0           |0.0           |1.0            |0.0             |0.0           |0.0           |0.0            |2.0          |0.0           |1.0             |1.0            |0.0            |1.0            |0.0           |1.0           |0.0          |0.0           |0.0           |0.0            |0.0           |2.0        |0.0           |0.0            |0.0           |0.0           |0.0           |0.0           |0.0            |4.0          |1.0           |0.0           |1.0          |1.0           |1.0          |2.0             |1.0            |0.0           |0.0            |0.0           |0.0           |1.0           |0.0           |0.0           |1.0           |0.0             |0.0            |2.0           |2.0           |0.0             |2.0           |0.0          |0.0        |0.0           |0.0           |1.0           |0.0           |1.0          |0.0           |0.0          |0.0            |0.0            |1.0           |0.0          |0.0         |0.0           |0.0           |1.0          |1.0           |1.0           |1.0           |0.0           |2.0           |0.0           |0.0           |0.0           |0.0            |0.0           |0.0           |2.0             |0.0           |0.0            |0.0           |0.0            |1.0           |1.0           |0.0             |0.0           |0.0           |1.0           |0.0           |0.0           |0.0            |0.0           |0.0          |0.0           |0.0            |0.0            |1.0           |0.0           |0.0           |1.0           |0.0           |1.0            |0.0           |1.0           |0.0          |0.0          |0.0             |1.0          |0.0           |0.0           |0.0           |0.0           |0.0          |0.0          |1.0             |1.0          |3.0          |0.0           |1.0           |0.0           |2.0           |1.0          |1.0          |1.0          |0.0          |1.0           |0.0           |0.0             |0.0           |0.0           |0.0          |1.0          |31.0         |0.0            |0.0           |0.0           |0.0           |0.0       |0.0           |0.0           |2.0          |2.0           |0.0           |0.0           |1.0          |0.0           |0.0            |0.0           |1.0           |0.0            |1.0          |0.0           |1.0           |0.0          |0.0           |0.0          |0.0           |0.0            |0.0            |1.0           |1.0           |0.0          |\n",
            "|19.0|0.0          |0.0            |0.0           |2.0           |0.0           |0.0           |1.0            |0.0             |0.0           |0.0           |1.0            |0.0          |0.0           |0.0             |0.0            |0.0            |0.0            |1.0           |0.0           |1.0          |1.0           |1.0           |0.0            |1.0           |2.0        |0.0           |0.0            |0.0           |0.0           |0.0           |1.0           |0.0            |1.0          |1.0           |1.0           |0.0          |0.0           |0.0          |1.0             |1.0            |0.0           |0.0            |0.0           |0.0           |0.0           |0.0           |0.0           |1.0           |2.0             |0.0            |0.0           |2.0           |0.0             |0.0           |0.0          |0.0        |1.0           |1.0           |0.0           |0.0           |1.0          |0.0           |0.0          |1.0            |0.0            |0.0           |1.0          |12.0        |2.0           |0.0           |0.0          |1.0           |1.0           |1.0           |0.0           |0.0           |0.0           |0.0           |0.0           |1.0            |1.0           |0.0           |3.0             |1.0           |0.0            |0.0           |0.0            |0.0           |0.0           |1.0             |1.0           |0.0           |1.0           |0.0           |0.0           |0.0            |0.0           |1.0          |0.0           |1.0            |0.0            |0.0           |0.0           |0.0           |0.0           |0.0           |1.0            |0.0           |1.0           |1.0          |3.0          |0.0             |0.0          |1.0           |0.0           |0.0           |0.0           |0.0          |0.0          |0.0             |2.0          |1.0          |0.0           |0.0           |0.0           |2.0           |1.0          |1.0          |1.0          |0.0          |1.0           |0.0           |3.0             |0.0           |0.0           |1.0          |0.0          |31.0         |0.0            |1.0           |0.0           |0.0           |1.0       |1.0           |0.0           |3.0          |1.0           |1.0           |3.0           |1.0          |4.0           |0.0            |0.0           |2.0           |1.0            |0.0          |0.0           |0.0           |2.0          |3.0           |1.0          |0.0           |1.0            |0.0            |1.0           |1.0           |1.0          |\n",
            "+----+-------------+---------------+--------------+--------------+--------------+--------------+---------------+----------------+--------------+--------------+---------------+-------------+--------------+----------------+---------------+---------------+---------------+--------------+--------------+-------------+--------------+--------------+---------------+--------------+-----------+--------------+---------------+--------------+--------------+--------------+--------------+---------------+-------------+--------------+--------------+-------------+--------------+-------------+----------------+---------------+--------------+---------------+--------------+--------------+--------------+--------------+--------------+--------------+----------------+---------------+--------------+--------------+----------------+--------------+-------------+-----------+--------------+--------------+--------------+--------------+-------------+--------------+-------------+---------------+---------------+--------------+-------------+------------+--------------+--------------+-------------+--------------+--------------+--------------+--------------+--------------+--------------+--------------+--------------+---------------+--------------+--------------+----------------+--------------+---------------+--------------+---------------+--------------+--------------+----------------+--------------+--------------+--------------+--------------+--------------+---------------+--------------+-------------+--------------+---------------+---------------+--------------+--------------+--------------+--------------+--------------+---------------+--------------+--------------+-------------+-------------+----------------+-------------+--------------+--------------+--------------+--------------+-------------+-------------+----------------+-------------+-------------+--------------+--------------+--------------+--------------+-------------+-------------+-------------+-------------+--------------+--------------+----------------+--------------+--------------+-------------+-------------+-------------+---------------+--------------+--------------+--------------+----------+--------------+--------------+-------------+--------------+--------------+--------------+-------------+--------------+---------------+--------------+--------------+---------------+-------------+--------------+--------------+-------------+--------------+-------------+--------------+---------------+---------------+--------------+--------------+-------------+\n",
            "only showing top 5 rows\n",
            "\n"
          ]
        }
      ],
      "source": [
        "df_r.show(5,0)"
      ]
    },
    {
      "cell_type": "markdown",
      "metadata": {
        "id": "zhJyJ04OOFDe"
      },
      "source": [
        "###  One Hot Encoder\n",
        "\n",
        "Queremos usar K-means para clusterizar los datos, para eso nuestras variables categoricas se tienen que transformar a variables continuas, eso se logra generando un vector unitario que represente a que categoria pertenece\n",
        "\n",
        "ejemplo\n",
        "\n",
        "SEXO = 2\n",
        "\n",
        "después del One Hot Encoder\n",
        "\n",
        "SEXO = [0,1]\n"
      ]
    },
    {
      "cell_type": "code",
      "execution_count": 40,
      "metadata": {
        "id": "yTlYjM2OOFDf"
      },
      "outputs": [],
      "source": [
        "from pyspark.ml.feature import OneHotEncoder\n",
        "encoders = [OneHotEncoder(inputCol=column, outputCol=column+\"_vector\").fit(df_r) for column in list(set(df_r.columns)-set(['EDAD'])) ]\n",
        "pipeline = Pipeline(stages=encoders)\n",
        "encoded = pipeline.fit(df_r).transform(df_r)\n",
        "encoded = encoded.drop(*list(set(df_r.columns)-set(['EDAD'])))\n"
      ]
    },
    {
      "cell_type": "code",
      "execution_count": 41,
      "metadata": {
        "id": "mtB80kHNOFDf",
        "colab": {
          "base_uri": "https://localhost:8080/"
        },
        "outputId": "e622aa80-04d7-46e0-d9d1-f78aa1001c3a"
      },
      "outputs": [
        {
          "output_type": "stream",
          "name": "stdout",
          "text": [
            "+----+--------------------+-----------------+--------------------+---------------------+---------------------+---------------------+--------------------+---------------------+---------------------+---------------------+---------------------+--------------------+---------------------+---------------------+---------------------+--------------------+---------------------+----------------------+---------------------+----------------------+---------------------+---------------------+----------------------+-----------------------+----------------------+---------------------+---------------------+---------------------+---------------------+----------------------+----------------------+---------------------+---------------------+---------------------+--------------------+---------------------+---------------------+----------------------+--------------------+--------------------+-----------------------+----------------------+---------------------+--------------------+--------------------+---------------------+---------------------+---------------------+----------------------+---------------------+--------------------+-----------------------+---------------------+---------------------+---------------------+-------------------+----------------------+--------------------+---------------------+----------------------+---------------------+---------------------+---------------------+--------------------+---------------------+--------------------+------------------+---------------------+--------------------+---------------------+---------------------+--------------------+---------------------+---------------------+--------------------+----------------------+---------------------+--------------------+----------------------+---------------------+-----------------------+---------------------+---------------------+---------------------+---------------------+---------------------+---------------------+----------------------+-----------------------+--------------------+---------------------+---------------------+---------------------+---------------------+---------------------+---------------------+---------------------+---------------------+---------------------+---------------------+---------------------+--------------------+---------------------+-----------------------+----------------------+----------------------+---------------------+---------------------+----------------------+---------------------+----------------------+--------------------+---------------------+----------------------+---------------------+----------------------+---------------------+--------------------+--------------------+---------------------+---------------------+---------------------+----------------------+---------------------+---------------------+---------------------+---------------------+---------------------+---------------------+----------------------+------------------+---------------------+---------------------+---------------------+----------------------+---------------------+---------------------+---------------------+---------------------+---------------------+---------------------+--------------------+--------------------+--------------------+---------------------+---------------------+---------------------+----------------------+-----------------------+---------------------+--------------------+--------------------+---------------------+-----------------------+----------------------+--------------------+-----------------------+--------------------+--------------------+---------------------+---------------------+---------------------+---------------------+--------------------+---------------------+-----------------------+----------------------+\n",
            "|EDAD|AP4_8_4_index_vector|SEXO_index_vector|AP5_2_4_index_vector|AP4_2_09_index_vector|AP5_3_09_index_vector|AP5_5_09_index_vector|AP4_6_1_index_vector|AP5_4_08_index_vector|AP4_5_09_index_vector|AP5_6_10_index_vector|AP4_2_04_index_vector|AP4_9_3_index_vector|AP5_1_07_index_vector|AP5_3_07_index_vector|AP4_2_08_index_vector|AP4_8_3_index_vector|AP4_5_06_index_vector|AP4_10_09_index_vector|AP4_5_01_index_vector|AP4_11_11_index_vector|AP5_1_01_index_vector|AP4_5_11_index_vector|AP4_11_09_index_vector|AP5_4_07_C_index_vector|AP4_10_02_index_vector|AP4_2_06_index_vector|AP5_3_02_index_vector|AP5_3_03_index_vector|AP5_6_03_index_vector|AP4_10_12_index_vector|AP4_10_05_index_vector|AP4_2_05_index_vector|AP4_5_15_index_vector|AP5_5_02_index_vector|AP4_6_2_index_vector|AP5_5_06_index_vector|AP5_5_05_index_vector|AP4_11_06_index_vector|AP4_7_3_index_vector|AP4_3_3_index_vector|AP5_4_03_C_index_vector|AP4_11_04_index_vector|AP5_4_09_index_vector|AP4_7_2_index_vector|AP5_2_1_index_vector|AP4_5_14_index_vector|AP5_3_08_index_vector|AP5_5_04_index_vector|AP4_11_02_index_vector|AP5_6_01_index_vector|AP4_6_3_index_vector|AP5_4_02_C_index_vector|AP5_1_12_index_vector|AP5_4_06_index_vector|AP4_4_03_index_vector|AP4_12_index_vector|AP4_10_13_index_vector|DOMINIO_index_vector|AP4_2_01_index_vector|AP4_10_11_index_vector|AP4_5_08_index_vector|AP5_6_05_index_vector|AP5_3_01_index_vector|AP4_8_2_index_vector|AP5_4_05_index_vector|AP4_9_2_index_vector|AP4_1_index_vector|AP4_2_12_index_vector|AP4_8_6_index_vector|AP4_2_99_index_vector|AP4_5_02_index_vector|AP5_7_1_index_vector|AP5_3_06_index_vector|AP4_2_11_index_vector|ESTRATO_index_vector|AP4_11_07_index_vector|AP4_4_11_index_vector|AP4_7_1_index_vector|AP4_11_01_index_vector|AP5_6_06_index_vector|AP5_4_08_C_index_vector|AP4_5_12_index_vector|AP5_4_04_index_vector|AP4_5_99_index_vector|AP4_5_03_index_vector|AP4_4_10_index_vector|AP5_3_10_index_vector|AP4_10_15_index_vector|AP5_4_10_C_index_vector|AP4_3_1_index_vector|AP5_5_01_index_vector|AP4_4_02_index_vector|AP5_6_07_index_vector|AP4_2_10_index_vector|AP5_1_04_index_vector|AP4_4_08_index_vector|AP5_5_10_index_vector|AP5_1_13_index_vector|AP5_1_02_index_vector|AP4_2_02_index_vector|AP5_4_10_index_vector|AP4_9_6_index_vector|AP4_5_16_index_vector|AP5_4_04_C_index_vector|AP4_11_05_index_vector|AP4_10_01_index_vector|AP5_1_05_index_vector|AP5_1_10_index_vector|AP4_10_10_index_vector|AP4_4_06_index_vector|AP4_10_07_index_vector|CVE_ENT_index_vector|AP5_4_03_index_vector|AP4_10_14_index_vector|AP5_1_11_index_vector|AP4_10_03_index_vector|AP5_6_09_index_vector|AP5_7_2_index_vector|AP4_8_5_index_vector|AP4_5_05_index_vector|AP4_4_05_index_vector|AP5_1_06_index_vector|AP4_11_10_index_vector|AP5_3_04_index_vector|AP4_5_04_index_vector|AP5_5_08_index_vector|AP5_3_05_index_vector|AP5_4_07_index_vector|AP5_6_02_index_vector|AP4_11_08_index_vector|AP5_8_index_vector|AP5_5_03_index_vector|AP4_2_03_index_vector|AP4_5_13_index_vector|AP4_10_08_index_vector|AP5_5_07_index_vector|AP5_4_01_index_vector|AP5_6_04_index_vector|AP4_4_01_index_vector|AP5_1_09_index_vector|AP4_4_04_index_vector|AP4_9_4_index_vector|AP4_3_2_index_vector|AP5_2_3_index_vector|AP5_1_08_index_vector|AP5_6_08_index_vector|AP4_4_09_index_vector|AP4_10_04_index_vector|AP5_4_06_C_index_vector|AP4_2_07_index_vector|AP5_2_2_index_vector|AP4_9_5_index_vector|AP5_1_03_index_vector|AP5_4_09_C_index_vector|AP4_11_03_index_vector|AP4_9_1_index_vector|AP5_4_01_C_index_vector|AP4_8_1_index_vector|AP5_7_4_index_vector|AP4_4_12_index_vector|AP4_5_10_index_vector|AP4_5_07_index_vector|AP4_4_07_index_vector|AP5_7_3_index_vector|AP5_4_02_index_vector|AP5_4_05_C_index_vector|AP4_10_06_index_vector|\n",
            "+----+--------------------+-----------------+--------------------+---------------------+---------------------+---------------------+--------------------+---------------------+---------------------+---------------------+---------------------+--------------------+---------------------+---------------------+---------------------+--------------------+---------------------+----------------------+---------------------+----------------------+---------------------+---------------------+----------------------+-----------------------+----------------------+---------------------+---------------------+---------------------+---------------------+----------------------+----------------------+---------------------+---------------------+---------------------+--------------------+---------------------+---------------------+----------------------+--------------------+--------------------+-----------------------+----------------------+---------------------+--------------------+--------------------+---------------------+---------------------+---------------------+----------------------+---------------------+--------------------+-----------------------+---------------------+---------------------+---------------------+-------------------+----------------------+--------------------+---------------------+----------------------+---------------------+---------------------+---------------------+--------------------+---------------------+--------------------+------------------+---------------------+--------------------+---------------------+---------------------+--------------------+---------------------+---------------------+--------------------+----------------------+---------------------+--------------------+----------------------+---------------------+-----------------------+---------------------+---------------------+---------------------+---------------------+---------------------+---------------------+----------------------+-----------------------+--------------------+---------------------+---------------------+---------------------+---------------------+---------------------+---------------------+---------------------+---------------------+---------------------+---------------------+---------------------+--------------------+---------------------+-----------------------+----------------------+----------------------+---------------------+---------------------+----------------------+---------------------+----------------------+--------------------+---------------------+----------------------+---------------------+----------------------+---------------------+--------------------+--------------------+---------------------+---------------------+---------------------+----------------------+---------------------+---------------------+---------------------+---------------------+---------------------+---------------------+----------------------+------------------+---------------------+---------------------+---------------------+----------------------+---------------------+---------------------+---------------------+---------------------+---------------------+---------------------+--------------------+--------------------+--------------------+---------------------+---------------------+---------------------+----------------------+-----------------------+---------------------+--------------------+--------------------+---------------------+-----------------------+----------------------+--------------------+-----------------------+--------------------+--------------------+---------------------+---------------------+---------------------+---------------------+--------------------+---------------------+-----------------------+----------------------+\n",
            "|53.0|(3,[0],[1.0])       |(1,[0],[1.0])    |(5,[2],[1.0])       |(1,[0],[1.0])        |(2,[1],[1.0])        |(3,[1],[1.0])        |(3,[1],[1.0])       |(5,[1],[1.0])        |(1,[],[])            |(5,[0],[1.0])        |(1,[],[])            |(3,[0],[1.0])       |(3,[1],[1.0])        |(2,[0],[1.0])        |(1,[],[])            |(3,[0],[1.0])       |(1,[0],[1.0])        |(3,[0],[1.0])         |(1,[],[])            |(2,[0],[1.0])         |(3,[0],[1.0])        |(1,[0],[1.0])        |(2,[0],[1.0])         |(5,[0],[1.0])          |(3,[0],[1.0])         |(1,[0],[1.0])        |(3,[0],[1.0])        |(2,[0],[1.0])        |(5,[2],[1.0])        |(3,[0],[1.0])         |(3,[1],[1.0])         |(1,[],[])            |(1,[0],[1.0])        |(3,[2],[1.0])        |(3,[1],[1.0])       |(3,[0],[1.0])        |(3,[0],[1.0])        |(2,[0],[1.0])         |(4,[0],[1.0])       |(2,[1],[1.0])       |(5,[3],[1.0])          |(2,[0],[1.0])         |(5,[0],[1.0])        |(4,[0],[1.0])       |(5,[1],[1.0])       |(1,[0],[1.0])        |(2,[0],[1.0])        |(3,[0],[1.0])        |(2,[0],[1.0])         |(5,[0],[1.0])        |(3,[0],[1.0])       |(5,[1],[1.0])          |(3,[1],[1.0])        |(5,[0],[1.0])        |(3,[1],[1.0])        |(371,[0],[1.0])    |(3,[0],[1.0])         |(2,[0],[1.0])       |(1,[0],[1.0])        |(3,[0],[1.0])         |(1,[0],[1.0])        |(5,[0],[1.0])        |(3,[1],[1.0])        |(3,[1],[1.0])       |(5,[0],[1.0])        |(3,[1],[1.0])       |(3,[0],[1.0])     |(1,[0],[1.0])        |(3,[0],[1.0])       |(1,[0],[1.0])        |(1,[0],[1.0])        |(3,[0],[1.0])       |(2,[0],[1.0])        |(1,[0],[1.0])        |(3,[1],[1.0])       |(2,[0],[1.0])         |(3,[1],[1.0])        |(4,[2],[1.0])       |(2,[0],[1.0])         |(5,[0],[1.0])        |(5,[0],[1.0])          |(1,[0],[1.0])        |(5,[0],[1.0])        |(1,[0],[1.0])        |(1,[0],[1.0])        |(3,[0],[1.0])        |(2,[0],[1.0])        |(3,[0],[1.0])         |(5,[0],[1.0])          |(2,[0],[1.0])       |(3,[1],[1.0])        |(3,[1],[1.0])        |(5,[0],[1.0])        |(1,[0],[1.0])        |(3,[1],[1.0])        |(3,[2],[1.0])        |(3,[0],[1.0])        |(3,[0],[1.0])        |(3,[1],[1.0])        |(1,[0],[1.0])        |(5,[0],[1.0])        |(3,[0],[1.0])       |(1,[0],[1.0])        |(5,[0],[1.0])          |(2,[0],[1.0])         |(3,[0],[1.0])         |(3,[1],[1.0])        |(3,[0],[1.0])        |(3,[0],[1.0])         |(3,[0],[1.0])        |(3,[0],[1.0])         |(31,[],[])          |(5,[2],[1.0])        |(3,[0],[1.0])         |(3,[1],[1.0])        |(3,[2],[1.0])         |(5,[0],[1.0])        |(3,[1],[1.0])       |(3,[0],[1.0])       |(1,[0],[1.0])        |(3,[1],[1.0])        |(3,[0],[1.0])        |(2,[0],[1.0])         |(2,[1],[1.0])        |(1,[0],[1.0])        |(3,[0],[1.0])        |(2,[0],[1.0])        |(5,[0],[1.0])        |(5,[1],[1.0])        |(2,[0],[1.0])         |(5,[0],[1.0])     |(3,[0],[1.0])        |(1,[],[])            |(1,[0],[1.0])        |(3,[1],[1.0])         |(3,[0],[1.0])        |(5,[0],[1.0])        |(5,[0],[1.0])        |(2,[0],[1.0])        |(3,[2],[1.0])        |(3,[0],[1.0])        |(3,[0],[1.0])       |(2,[1],[1.0])       |(5,[0],[1.0])       |(3,[2],[1.0])        |(5,[0],[1.0])        |(3,[2],[1.0])        |(3,[1],[1.0])         |(5,[0],[1.0])          |(1,[0],[1.0])        |(5,[0],[1.0])       |(3,[1],[1.0])       |(3,[1],[1.0])        |(5,[1],[1.0])          |(2,[0],[1.0])         |(3,[0],[1.0])       |(5,[0],[1.0])          |(3,[1],[1.0])       |(3,[1],[1.0])       |(3,[1],[1.0])        |(1,[],[])            |(1,[0],[1.0])        |(3,[2],[1.0])        |(3,[0],[1.0])       |(5,[1],[1.0])        |(5,[0],[1.0])          |(3,[0],[1.0])         |\n",
            "|42.0|(3,[0],[1.0])       |(1,[0],[1.0])    |(5,[0],[1.0])       |(1,[0],[1.0])        |(2,[0],[1.0])        |(3,[0],[1.0])        |(3,[0],[1.0])       |(5,[0],[1.0])        |(1,[],[])            |(5,[2],[1.0])        |(1,[0],[1.0])        |(3,[1],[1.0])       |(3,[0],[1.0])        |(2,[0],[1.0])        |(1,[0],[1.0])        |(3,[1],[1.0])       |(1,[0],[1.0])        |(3,[1],[1.0])         |(1,[],[])            |(2,[0],[1.0])         |(3,[1],[1.0])        |(1,[0],[1.0])        |(2,[0],[1.0])         |(5,[0],[1.0])          |(3,[1],[1.0])         |(1,[0],[1.0])        |(3,[0],[1.0])        |(2,[0],[1.0])        |(5,[1],[1.0])        |(3,[0],[1.0])         |(3,[2],[1.0])         |(1,[0],[1.0])        |(1,[0],[1.0])        |(3,[0],[1.0])        |(3,[1],[1.0])       |(3,[1],[1.0])        |(3,[1],[1.0])        |(2,[0],[1.0])         |(4,[1],[1.0])       |(2,[0],[1.0])       |(5,[2],[1.0])          |(2,[0],[1.0])         |(5,[1],[1.0])        |(4,[2],[1.0])       |(5,[0],[1.0])       |(1,[],[])            |(2,[0],[1.0])        |(3,[1],[1.0])        |(2,[1],[1.0])         |(5,[2],[1.0])        |(3,[0],[1.0])       |(5,[3],[1.0])          |(3,[0],[1.0])        |(5,[2],[1.0])        |(3,[0],[1.0])        |(371,[5],[1.0])    |(3,[0],[1.0])         |(2,[0],[1.0])       |(1,[],[])            |(3,[1],[1.0])         |(1,[],[])            |(5,[2],[1.0])        |(3,[0],[1.0])        |(3,[1],[1.0])       |(5,[3],[1.0])        |(3,[1],[1.0])       |(3,[0],[1.0])     |(1,[0],[1.0])        |(3,[0],[1.0])       |(1,[0],[1.0])        |(1,[],[])            |(3,[2],[1.0])       |(2,[1],[1.0])        |(1,[0],[1.0])        |(3,[1],[1.0])       |(2,[0],[1.0])         |(3,[0],[1.0])        |(4,[1],[1.0])       |(2,[0],[1.0])         |(5,[3],[1.0])        |(5,[3],[1.0])          |(1,[0],[1.0])        |(5,[1],[1.0])        |(1,[0],[1.0])        |(1,[0],[1.0])        |(3,[0],[1.0])        |(2,[1],[1.0])        |(3,[1],[1.0])         |(5,[1],[1.0])          |(2,[0],[1.0])       |(3,[0],[1.0])        |(3,[2],[1.0])        |(5,[0],[1.0])        |(1,[0],[1.0])        |(3,[0],[1.0])        |(3,[0],[1.0])        |(3,[1],[1.0])        |(3,[0],[1.0])        |(3,[1],[1.0])        |(1,[0],[1.0])        |(5,[2],[1.0])        |(3,[0],[1.0])       |(1,[0],[1.0])        |(5,[1],[1.0])          |(2,[0],[1.0])         |(3,[0],[1.0])         |(3,[1],[1.0])        |(3,[0],[1.0])        |(3,[1],[1.0])         |(3,[0],[1.0])        |(3,[1],[1.0])         |(31,[],[])          |(5,[1],[1.0])        |(3,[0],[1.0])         |(3,[0],[1.0])        |(3,[1],[1.0])         |(5,[1],[1.0])        |(3,[2],[1.0])       |(3,[0],[1.0])       |(1,[],[])            |(3,[0],[1.0])        |(3,[0],[1.0])        |(2,[0],[1.0])         |(2,[0],[1.0])        |(1,[0],[1.0])        |(3,[0],[1.0])        |(2,[1],[1.0])        |(5,[0],[1.0])        |(5,[2],[1.0])        |(2,[1],[1.0])         |(5,[1],[1.0])     |(3,[0],[1.0])        |(1,[0],[1.0])        |(1,[0],[1.0])        |(3,[2],[1.0])         |(3,[0],[1.0])        |(5,[1],[1.0])        |(5,[1],[1.0])        |(2,[0],[1.0])        |(3,[1],[1.0])        |(3,[1],[1.0])        |(3,[0],[1.0])       |(2,[0],[1.0])       |(5,[0],[1.0])       |(3,[2],[1.0])        |(5,[0],[1.0])        |(3,[2],[1.0])        |(3,[2],[1.0])         |(5,[3],[1.0])          |(1,[],[])            |(5,[2],[1.0])       |(3,[1],[1.0])       |(3,[0],[1.0])        |(5,[0],[1.0])          |(2,[0],[1.0])         |(3,[1],[1.0])       |(5,[4],[1.0])          |(3,[0],[1.0])       |(3,[0],[1.0])       |(3,[0],[1.0])        |(1,[0],[1.0])        |(1,[0],[1.0])        |(3,[0],[1.0])        |(3,[2],[1.0])       |(5,[2],[1.0])        |(5,[1],[1.0])          |(3,[1],[1.0])         |\n",
            "|44.0|(3,[1],[1.0])       |(1,[0],[1.0])    |(5,[2],[1.0])       |(1,[0],[1.0])        |(2,[0],[1.0])        |(3,[0],[1.0])        |(3,[0],[1.0])       |(5,[0],[1.0])        |(1,[],[])            |(5,[2],[1.0])        |(1,[],[])            |(3,[2],[1.0])       |(3,[0],[1.0])        |(2,[1],[1.0])        |(1,[0],[1.0])        |(3,[1],[1.0])       |(1,[],[])            |(3,[1],[1.0])         |(1,[0],[1.0])        |(2,[0],[1.0])         |(3,[0],[1.0])        |(1,[0],[1.0])        |(2,[0],[1.0])         |(5,[2],[1.0])          |(3,[0],[1.0])         |(1,[],[])            |(3,[0],[1.0])        |(2,[0],[1.0])        |(5,[2],[1.0])        |(3,[2],[1.0])         |(3,[0],[1.0])         |(1,[0],[1.0])        |(1,[],[])            |(3,[0],[1.0])        |(3,[0],[1.0])       |(3,[1],[1.0])        |(3,[1],[1.0])        |(2,[1],[1.0])         |(4,[1],[1.0])       |(2,[0],[1.0])       |(5,[1],[1.0])          |(2,[0],[1.0])         |(5,[1],[1.0])        |(4,[1],[1.0])       |(5,[1],[1.0])       |(1,[0],[1.0])        |(2,[0],[1.0])        |(3,[1],[1.0])        |(2,[0],[1.0])         |(5,[3],[1.0])        |(3,[1],[1.0])       |(5,[3],[1.0])          |(3,[0],[1.0])        |(5,[3],[1.0])        |(3,[0],[1.0])        |(371,[1],[1.0])    |(3,[2],[1.0])         |(2,[0],[1.0])       |(1,[0],[1.0])        |(3,[1],[1.0])         |(1,[],[])            |(5,[3],[1.0])        |(3,[0],[1.0])        |(3,[1],[1.0])       |(5,[2],[1.0])        |(3,[1],[1.0])       |(3,[0],[1.0])     |(1,[0],[1.0])        |(3,[1],[1.0])       |(1,[0],[1.0])        |(1,[0],[1.0])        |(3,[2],[1.0])       |(2,[1],[1.0])        |(1,[0],[1.0])        |(3,[1],[1.0])       |(2,[0],[1.0])         |(3,[0],[1.0])        |(4,[0],[1.0])       |(2,[0],[1.0])         |(5,[3],[1.0])        |(5,[1],[1.0])          |(1,[0],[1.0])        |(5,[1],[1.0])        |(1,[0],[1.0])        |(1,[],[])            |(3,[1],[1.0])        |(2,[1],[1.0])        |(3,[1],[1.0])         |(5,[1],[1.0])          |(2,[1],[1.0])       |(3,[0],[1.0])        |(3,[2],[1.0])        |(5,[2],[1.0])        |(1,[0],[1.0])        |(3,[1],[1.0])        |(3,[0],[1.0])        |(3,[1],[1.0])        |(3,[0],[1.0])        |(3,[0],[1.0])        |(1,[0],[1.0])        |(5,[1],[1.0])        |(3,[1],[1.0])       |(1,[0],[1.0])        |(5,[1],[1.0])          |(2,[0],[1.0])         |(3,[0],[1.0])         |(3,[1],[1.0])        |(3,[0],[1.0])        |(3,[1],[1.0])         |(3,[1],[1.0])        |(3,[0],[1.0])         |(31,[],[])          |(5,[3],[1.0])        |(3,[2],[1.0])         |(3,[0],[1.0])        |(3,[1],[1.0])         |(5,[2],[1.0])        |(3,[1],[1.0])       |(3,[0],[1.0])       |(1,[],[])            |(3,[0],[1.0])        |(3,[0],[1.0])        |(2,[0],[1.0])         |(2,[0],[1.0])        |(1,[],[])            |(3,[0],[1.0])        |(2,[1],[1.0])        |(5,[1],[1.0])        |(5,[3],[1.0])        |(2,[0],[1.0])         |(5,[0],[1.0])     |(3,[0],[1.0])        |(1,[0],[1.0])        |(1,[],[])            |(3,[2],[1.0])         |(3,[1],[1.0])        |(5,[1],[1.0])        |(5,[1],[1.0])        |(2,[1],[1.0])        |(3,[1],[1.0])        |(3,[0],[1.0])        |(3,[2],[1.0])       |(2,[0],[1.0])       |(5,[0],[1.0])       |(3,[2],[1.0])        |(5,[1],[1.0])        |(3,[0],[1.0])        |(3,[0],[1.0])         |(5,[3],[1.0])          |(1,[0],[1.0])        |(5,[2],[1.0])       |(3,[1],[1.0])       |(3,[0],[1.0])        |(5,[2],[1.0])          |(2,[0],[1.0])         |(3,[2],[1.0])       |(5,[1],[1.0])          |(3,[0],[1.0])       |(3,[0],[1.0])       |(3,[0],[1.0])        |(1,[],[])            |(1,[0],[1.0])        |(3,[0],[1.0])        |(3,[0],[1.0])       |(5,[3],[1.0])        |(5,[3],[1.0])          |(3,[1],[1.0])         |\n",
            "|62.0|(3,[0],[1.0])       |(1,[0],[1.0])    |(5,[4],[1.0])       |(1,[0],[1.0])        |(2,[1],[1.0])        |(3,[1],[1.0])        |(3,[1],[1.0])       |(5,[1],[1.0])        |(1,[0],[1.0])        |(5,[0],[1.0])        |(1,[],[])            |(3,[0],[1.0])       |(3,[1],[1.0])        |(2,[0],[1.0])        |(1,[0],[1.0])        |(3,[0],[1.0])       |(1,[0],[1.0])        |(3,[0],[1.0])         |(1,[],[])            |(2,[0],[1.0])         |(3,[0],[1.0])        |(1,[0],[1.0])        |(2,[0],[1.0])         |(5,[0],[1.0])          |(3,[0],[1.0])         |(1,[0],[1.0])        |(3,[0],[1.0])        |(2,[1],[1.0])        |(5,[0],[1.0])        |(3,[0],[1.0])         |(3,[1],[1.0])         |(1,[],[])            |(1,[0],[1.0])        |(3,[2],[1.0])        |(3,[1],[1.0])       |(3,[0],[1.0])        |(3,[0],[1.0])        |(2,[0],[1.0])         |(4,[1],[1.0])       |(2,[0],[1.0])       |(5,[0],[1.0])          |(2,[0],[1.0])         |(5,[0],[1.0])        |(4,[1],[1.0])       |(5,[2],[1.0])       |(1,[0],[1.0])        |(2,[0],[1.0])        |(3,[0],[1.0])        |(2,[0],[1.0])         |(5,[2],[1.0])        |(3,[0],[1.0])       |(5,[2],[1.0])          |(3,[1],[1.0])        |(5,[0],[1.0])        |(3,[1],[1.0])        |(371,[0],[1.0])    |(3,[0],[1.0])         |(2,[0],[1.0])       |(1,[0],[1.0])        |(3,[0],[1.0])         |(1,[0],[1.0])        |(5,[0],[1.0])        |(3,[0],[1.0])        |(3,[1],[1.0])       |(5,[0],[1.0])        |(3,[1],[1.0])       |(3,[0],[1.0])     |(1,[0],[1.0])        |(3,[0],[1.0])       |(1,[0],[1.0])        |(1,[0],[1.0])        |(3,[],[])           |(2,[0],[1.0])        |(1,[],[])            |(3,[1],[1.0])       |(2,[0],[1.0])         |(3,[0],[1.0])        |(4,[2],[1.0])       |(2,[0],[1.0])         |(5,[0],[1.0])        |(5,[1],[1.0])          |(1,[0],[1.0])        |(5,[0],[1.0])        |(1,[0],[1.0])        |(1,[0],[1.0])        |(3,[0],[1.0])        |(2,[0],[1.0])        |(3,[0],[1.0])         |(5,[0],[1.0])          |(2,[0],[1.0])       |(3,[2],[1.0])        |(3,[1],[1.0])        |(5,[0],[1.0])        |(1,[0],[1.0])        |(3,[1],[1.0])        |(3,[0],[1.0])        |(3,[0],[1.0])        |(3,[0],[1.0])        |(3,[0],[1.0])        |(1,[0],[1.0])        |(5,[0],[1.0])        |(3,[0],[1.0])       |(1,[],[])            |(5,[0],[1.0])          |(2,[0],[1.0])         |(3,[1],[1.0])         |(3,[1],[1.0])        |(3,[0],[1.0])        |(3,[1],[1.0])         |(3,[0],[1.0])        |(3,[0],[1.0])         |(31,[],[])          |(5,[0],[1.0])        |(3,[0],[1.0])         |(3,[1],[1.0])        |(3,[0],[1.0])         |(5,[0],[1.0])        |(3,[1],[1.0])       |(3,[1],[1.0])       |(1,[0],[1.0])        |(3,[1],[1.0])        |(3,[0],[1.0])        |(2,[0],[1.0])         |(2,[1],[1.0])        |(1,[0],[1.0])        |(3,[0],[1.0])        |(2,[0],[1.0])        |(5,[0],[1.0])        |(5,[1],[1.0])        |(2,[0],[1.0])         |(5,[2],[1.0])     |(3,[1],[1.0])        |(1,[0],[1.0])        |(1,[0],[1.0])        |(3,[1],[1.0])         |(3,[0],[1.0])        |(5,[2],[1.0])        |(5,[0],[1.0])        |(2,[0],[1.0])        |(3,[1],[1.0])        |(3,[0],[1.0])        |(3,[0],[1.0])       |(2,[0],[1.0])       |(5,[0],[1.0])       |(3,[2],[1.0])        |(5,[0],[1.0])        |(3,[2],[1.0])        |(3,[1],[1.0])         |(5,[0],[1.0])          |(1,[],[])            |(5,[0],[1.0])       |(3,[0],[1.0])       |(3,[1],[1.0])        |(5,[1],[1.0])          |(2,[0],[1.0])         |(3,[0],[1.0])       |(5,[2],[1.0])          |(3,[1],[1.0])       |(3,[1],[1.0])       |(3,[1],[1.0])        |(1,[0],[1.0])        |(1,[0],[1.0])        |(3,[0],[1.0])        |(3,[1],[1.0])       |(5,[1],[1.0])        |(5,[0],[1.0])          |(3,[0],[1.0])         |\n",
            "|19.0|(3,[0],[1.0])       |(1,[],[])        |(5,[1],[1.0])       |(1,[0],[1.0])        |(2,[0],[1.0])        |(3,[0],[1.0])        |(3,[0],[1.0])       |(5,[0],[1.0])        |(1,[],[])            |(5,[0],[1.0])        |(1,[],[])            |(3,[1],[1.0])       |(3,[0],[1.0])        |(2,[0],[1.0])        |(1,[],[])            |(3,[1],[1.0])       |(1,[],[])            |(3,[0],[1.0])         |(1,[0],[1.0])        |(2,[0],[1.0])         |(3,[0],[1.0])        |(1,[0],[1.0])        |(2,[0],[1.0])         |(5,[0],[1.0])          |(3,[0],[1.0])         |(1,[0],[1.0])        |(3,[0],[1.0])        |(2,[0],[1.0])        |(5,[3],[1.0])        |(3,[1],[1.0])         |(3,[1],[1.0])         |(1,[],[])            |(1,[0],[1.0])        |(3,[0],[1.0])        |(3,[0],[1.0])       |(3,[1],[1.0])        |(3,[1],[1.0])        |(2,[0],[1.0])         |(4,[0],[1.0])       |(2,[1],[1.0])       |(5,[3],[1.0])          |(2,[1],[1.0])         |(5,[1],[1.0])        |(4,[2],[1.0])       |(5,[3],[1.0])       |(1,[0],[1.0])        |(2,[0],[1.0])        |(3,[0],[1.0])        |(2,[1],[1.0])         |(5,[2],[1.0])        |(3,[1],[1.0])       |(5,[1],[1.0])          |(3,[1],[1.0])        |(5,[1],[1.0])        |(3,[1],[1.0])        |(371,[12],[1.0])   |(3,[0],[1.0])         |(2,[0],[1.0])       |(1,[0],[1.0])        |(3,[0],[1.0])         |(1,[],[])            |(5,[1],[1.0])        |(3,[0],[1.0])        |(3,[1],[1.0])       |(5,[4],[1.0])        |(3,[1],[1.0])       |(3,[0],[1.0])     |(1,[0],[1.0])        |(3,[2],[1.0])       |(1,[0],[1.0])        |(1,[0],[1.0])        |(3,[1],[1.0])       |(2,[1],[1.0])        |(1,[0],[1.0])        |(3,[1],[1.0])       |(2,[0],[1.0])         |(3,[0],[1.0])        |(4,[0],[1.0])       |(2,[1],[1.0])         |(5,[1],[1.0])        |(5,[0],[1.0])          |(1,[0],[1.0])        |(5,[0],[1.0])        |(1,[0],[1.0])        |(1,[0],[1.0])        |(3,[0],[1.0])        |(2,[0],[1.0])        |(3,[0],[1.0])         |(5,[0],[1.0])          |(2,[0],[1.0])       |(3,[0],[1.0])        |(3,[0],[1.0])        |(5,[0],[1.0])        |(1,[0],[1.0])        |(3,[1],[1.0])        |(3,[0],[1.0])        |(3,[0],[1.0])        |(3,[0],[1.0])        |(3,[0],[1.0])        |(1,[0],[1.0])        |(5,[0],[1.0])        |(3,[0],[1.0])       |(1,[0],[1.0])        |(5,[0],[1.0])          |(2,[0],[1.0])         |(3,[1],[1.0])         |(3,[0],[1.0])        |(3,[0],[1.0])        |(3,[0],[1.0])         |(3,[2],[1.0])        |(3,[0],[1.0])         |(31,[],[])          |(5,[3],[1.0])        |(3,[0],[1.0])         |(3,[1],[1.0])        |(3,[0],[1.0])         |(5,[1],[1.0])        |(3,[1],[1.0])       |(3,[0],[1.0])       |(1,[],[])            |(3,[2],[1.0])        |(3,[0],[1.0])        |(2,[0],[1.0])         |(2,[1],[1.0])        |(1,[0],[1.0])        |(3,[0],[1.0])        |(2,[1],[1.0])        |(5,[0],[1.0])        |(5,[1],[1.0])        |(2,[0],[1.0])         |(5,[2],[1.0])     |(3,[0],[1.0])        |(1,[0],[1.0])        |(1,[0],[1.0])        |(3,[1],[1.0])         |(3,[0],[1.0])        |(5,[1],[1.0])        |(5,[0],[1.0])        |(2,[0],[1.0])        |(3,[0],[1.0])        |(3,[0],[1.0])        |(3,[0],[1.0])       |(2,[1],[1.0])       |(5,[0],[1.0])       |(3,[0],[1.0])        |(5,[0],[1.0])        |(3,[2],[1.0])        |(3,[0],[1.0])         |(5,[2],[1.0])          |(1,[],[])            |(5,[3],[1.0])       |(3,[1],[1.0])       |(3,[0],[1.0])        |(5,[0],[1.0])          |(2,[1],[1.0])         |(3,[1],[1.0])       |(5,[3],[1.0])          |(3,[0],[1.0])       |(3,[1],[1.0])       |(3,[1],[1.0])        |(1,[0],[1.0])        |(1,[0],[1.0])        |(3,[1],[1.0])        |(3,[0],[1.0])       |(5,[2],[1.0])        |(5,[1],[1.0])          |(3,[1],[1.0])         |\n",
            "+----+--------------------+-----------------+--------------------+---------------------+---------------------+---------------------+--------------------+---------------------+---------------------+---------------------+---------------------+--------------------+---------------------+---------------------+---------------------+--------------------+---------------------+----------------------+---------------------+----------------------+---------------------+---------------------+----------------------+-----------------------+----------------------+---------------------+---------------------+---------------------+---------------------+----------------------+----------------------+---------------------+---------------------+---------------------+--------------------+---------------------+---------------------+----------------------+--------------------+--------------------+-----------------------+----------------------+---------------------+--------------------+--------------------+---------------------+---------------------+---------------------+----------------------+---------------------+--------------------+-----------------------+---------------------+---------------------+---------------------+-------------------+----------------------+--------------------+---------------------+----------------------+---------------------+---------------------+---------------------+--------------------+---------------------+--------------------+------------------+---------------------+--------------------+---------------------+---------------------+--------------------+---------------------+---------------------+--------------------+----------------------+---------------------+--------------------+----------------------+---------------------+-----------------------+---------------------+---------------------+---------------------+---------------------+---------------------+---------------------+----------------------+-----------------------+--------------------+---------------------+---------------------+---------------------+---------------------+---------------------+---------------------+---------------------+---------------------+---------------------+---------------------+---------------------+--------------------+---------------------+-----------------------+----------------------+----------------------+---------------------+---------------------+----------------------+---------------------+----------------------+--------------------+---------------------+----------------------+---------------------+----------------------+---------------------+--------------------+--------------------+---------------------+---------------------+---------------------+----------------------+---------------------+---------------------+---------------------+---------------------+---------------------+---------------------+----------------------+------------------+---------------------+---------------------+---------------------+----------------------+---------------------+---------------------+---------------------+---------------------+---------------------+---------------------+--------------------+--------------------+--------------------+---------------------+---------------------+---------------------+----------------------+-----------------------+---------------------+--------------------+--------------------+---------------------+-----------------------+----------------------+--------------------+-----------------------+--------------------+--------------------+---------------------+---------------------+---------------------+---------------------+--------------------+---------------------+-----------------------+----------------------+\n",
            "only showing top 5 rows\n",
            "\n"
          ]
        }
      ],
      "source": [
        "encoded.show(5,0)"
      ]
    },
    {
      "cell_type": "code",
      "execution_count": 42,
      "metadata": {
        "id": "IqrhGRHXOFDf",
        "colab": {
          "base_uri": "https://localhost:8080/"
        },
        "outputId": "3f48b0ce-00fb-47b8-dbab-480f9a2bdce6"
      },
      "outputs": [
        {
          "output_type": "execute_result",
          "data": {
            "text/plain": [
              "['EDAD',\n",
              " 'AP4_8_4_index_vector',\n",
              " 'SEXO_index_vector',\n",
              " 'AP5_2_4_index_vector',\n",
              " 'AP4_2_09_index_vector',\n",
              " 'AP5_3_09_index_vector',\n",
              " 'AP5_5_09_index_vector',\n",
              " 'AP4_6_1_index_vector',\n",
              " 'AP5_4_08_index_vector',\n",
              " 'AP4_5_09_index_vector',\n",
              " 'AP5_6_10_index_vector',\n",
              " 'AP4_2_04_index_vector',\n",
              " 'AP4_9_3_index_vector',\n",
              " 'AP5_1_07_index_vector',\n",
              " 'AP5_3_07_index_vector',\n",
              " 'AP4_2_08_index_vector',\n",
              " 'AP4_8_3_index_vector',\n",
              " 'AP4_5_06_index_vector',\n",
              " 'AP4_10_09_index_vector',\n",
              " 'AP4_5_01_index_vector',\n",
              " 'AP4_11_11_index_vector',\n",
              " 'AP5_1_01_index_vector',\n",
              " 'AP4_5_11_index_vector',\n",
              " 'AP4_11_09_index_vector',\n",
              " 'AP5_4_07_C_index_vector',\n",
              " 'AP4_10_02_index_vector',\n",
              " 'AP4_2_06_index_vector',\n",
              " 'AP5_3_02_index_vector',\n",
              " 'AP5_3_03_index_vector',\n",
              " 'AP5_6_03_index_vector',\n",
              " 'AP4_10_12_index_vector',\n",
              " 'AP4_10_05_index_vector',\n",
              " 'AP4_2_05_index_vector',\n",
              " 'AP4_5_15_index_vector',\n",
              " 'AP5_5_02_index_vector',\n",
              " 'AP4_6_2_index_vector',\n",
              " 'AP5_5_06_index_vector',\n",
              " 'AP5_5_05_index_vector',\n",
              " 'AP4_11_06_index_vector',\n",
              " 'AP4_7_3_index_vector',\n",
              " 'AP4_3_3_index_vector',\n",
              " 'AP5_4_03_C_index_vector',\n",
              " 'AP4_11_04_index_vector',\n",
              " 'AP5_4_09_index_vector',\n",
              " 'AP4_7_2_index_vector',\n",
              " 'AP5_2_1_index_vector',\n",
              " 'AP4_5_14_index_vector',\n",
              " 'AP5_3_08_index_vector',\n",
              " 'AP5_5_04_index_vector',\n",
              " 'AP4_11_02_index_vector',\n",
              " 'AP5_6_01_index_vector',\n",
              " 'AP4_6_3_index_vector',\n",
              " 'AP5_4_02_C_index_vector',\n",
              " 'AP5_1_12_index_vector',\n",
              " 'AP5_4_06_index_vector',\n",
              " 'AP4_4_03_index_vector',\n",
              " 'AP4_12_index_vector',\n",
              " 'AP4_10_13_index_vector',\n",
              " 'DOMINIO_index_vector',\n",
              " 'AP4_2_01_index_vector',\n",
              " 'AP4_10_11_index_vector',\n",
              " 'AP4_5_08_index_vector',\n",
              " 'AP5_6_05_index_vector',\n",
              " 'AP5_3_01_index_vector',\n",
              " 'AP4_8_2_index_vector',\n",
              " 'AP5_4_05_index_vector',\n",
              " 'AP4_9_2_index_vector',\n",
              " 'AP4_1_index_vector',\n",
              " 'AP4_2_12_index_vector',\n",
              " 'AP4_8_6_index_vector',\n",
              " 'AP4_2_99_index_vector',\n",
              " 'AP4_5_02_index_vector',\n",
              " 'AP5_7_1_index_vector',\n",
              " 'AP5_3_06_index_vector',\n",
              " 'AP4_2_11_index_vector',\n",
              " 'ESTRATO_index_vector',\n",
              " 'AP4_11_07_index_vector',\n",
              " 'AP4_4_11_index_vector',\n",
              " 'AP4_7_1_index_vector',\n",
              " 'AP4_11_01_index_vector',\n",
              " 'AP5_6_06_index_vector',\n",
              " 'AP5_4_08_C_index_vector',\n",
              " 'AP4_5_12_index_vector',\n",
              " 'AP5_4_04_index_vector',\n",
              " 'AP4_5_99_index_vector',\n",
              " 'AP4_5_03_index_vector',\n",
              " 'AP4_4_10_index_vector',\n",
              " 'AP5_3_10_index_vector',\n",
              " 'AP4_10_15_index_vector',\n",
              " 'AP5_4_10_C_index_vector',\n",
              " 'AP4_3_1_index_vector',\n",
              " 'AP5_5_01_index_vector',\n",
              " 'AP4_4_02_index_vector',\n",
              " 'AP5_6_07_index_vector',\n",
              " 'AP4_2_10_index_vector',\n",
              " 'AP5_1_04_index_vector',\n",
              " 'AP4_4_08_index_vector',\n",
              " 'AP5_5_10_index_vector',\n",
              " 'AP5_1_13_index_vector',\n",
              " 'AP5_1_02_index_vector',\n",
              " 'AP4_2_02_index_vector',\n",
              " 'AP5_4_10_index_vector',\n",
              " 'AP4_9_6_index_vector',\n",
              " 'AP4_5_16_index_vector',\n",
              " 'AP5_4_04_C_index_vector',\n",
              " 'AP4_11_05_index_vector',\n",
              " 'AP4_10_01_index_vector',\n",
              " 'AP5_1_05_index_vector',\n",
              " 'AP5_1_10_index_vector',\n",
              " 'AP4_10_10_index_vector',\n",
              " 'AP4_4_06_index_vector',\n",
              " 'AP4_10_07_index_vector',\n",
              " 'CVE_ENT_index_vector',\n",
              " 'AP5_4_03_index_vector',\n",
              " 'AP4_10_14_index_vector',\n",
              " 'AP5_1_11_index_vector',\n",
              " 'AP4_10_03_index_vector',\n",
              " 'AP5_6_09_index_vector',\n",
              " 'AP5_7_2_index_vector',\n",
              " 'AP4_8_5_index_vector',\n",
              " 'AP4_5_05_index_vector',\n",
              " 'AP4_4_05_index_vector',\n",
              " 'AP5_1_06_index_vector',\n",
              " 'AP4_11_10_index_vector',\n",
              " 'AP5_3_04_index_vector',\n",
              " 'AP4_5_04_index_vector',\n",
              " 'AP5_5_08_index_vector',\n",
              " 'AP5_3_05_index_vector',\n",
              " 'AP5_4_07_index_vector',\n",
              " 'AP5_6_02_index_vector',\n",
              " 'AP4_11_08_index_vector',\n",
              " 'AP5_8_index_vector',\n",
              " 'AP5_5_03_index_vector',\n",
              " 'AP4_2_03_index_vector',\n",
              " 'AP4_5_13_index_vector',\n",
              " 'AP4_10_08_index_vector',\n",
              " 'AP5_5_07_index_vector',\n",
              " 'AP5_4_01_index_vector',\n",
              " 'AP5_6_04_index_vector',\n",
              " 'AP4_4_01_index_vector',\n",
              " 'AP5_1_09_index_vector',\n",
              " 'AP4_4_04_index_vector',\n",
              " 'AP4_9_4_index_vector',\n",
              " 'AP4_3_2_index_vector',\n",
              " 'AP5_2_3_index_vector',\n",
              " 'AP5_1_08_index_vector',\n",
              " 'AP5_6_08_index_vector',\n",
              " 'AP4_4_09_index_vector',\n",
              " 'AP4_10_04_index_vector',\n",
              " 'AP5_4_06_C_index_vector',\n",
              " 'AP4_2_07_index_vector',\n",
              " 'AP5_2_2_index_vector',\n",
              " 'AP4_9_5_index_vector',\n",
              " 'AP5_1_03_index_vector',\n",
              " 'AP5_4_09_C_index_vector',\n",
              " 'AP4_11_03_index_vector',\n",
              " 'AP4_9_1_index_vector',\n",
              " 'AP5_4_01_C_index_vector',\n",
              " 'AP4_8_1_index_vector',\n",
              " 'AP5_7_4_index_vector',\n",
              " 'AP4_4_12_index_vector',\n",
              " 'AP4_5_10_index_vector',\n",
              " 'AP4_5_07_index_vector',\n",
              " 'AP4_4_07_index_vector',\n",
              " 'AP5_7_3_index_vector',\n",
              " 'AP5_4_02_index_vector',\n",
              " 'AP5_4_05_C_index_vector',\n",
              " 'AP4_10_06_index_vector']"
            ]
          },
          "metadata": {},
          "execution_count": 42
        }
      ],
      "source": [
        "encoded.columns"
      ]
    },
    {
      "cell_type": "markdown",
      "metadata": {
        "id": "n4diahiSOFDf"
      },
      "source": [
        "### Vector Assembler\n",
        "\n",
        "Combina columnas en una sola en forma de vector"
      ]
    },
    {
      "cell_type": "code",
      "execution_count": 43,
      "metadata": {
        "id": "bsUw8B8iOFDg"
      },
      "outputs": [],
      "source": [
        "from pyspark.ml.feature import VectorAssembler\n",
        "\n",
        "vs = VectorAssembler(inputCols=df_r.columns, outputCol=\"features\")\n",
        "df_features = vs.transform(df_r)\n",
        "#df_features = df_features.drop(*df_r.columns)\n"
      ]
    },
    {
      "cell_type": "code",
      "execution_count": 44,
      "metadata": {
        "id": "1lh0SE3WOFDg",
        "colab": {
          "base_uri": "https://localhost:8080/"
        },
        "outputId": "9a96b115-ddb6-4486-af6d-9505f2a3a162"
      },
      "outputs": [
        {
          "output_type": "stream",
          "name": "stdout",
          "text": [
            "+----+-------------+---------------+--------------+--------------+--------------+--------------+---------------+----------------+--------------+--------------+---------------+-------------+--------------+----------------+---------------+---------------+---------------+--------------+--------------+-------------+--------------+--------------+---------------+--------------+-----------+--------------+---------------+--------------+--------------+--------------+--------------+---------------+-------------+--------------+--------------+-------------+--------------+-------------+----------------+---------------+--------------+---------------+--------------+--------------+--------------+--------------+--------------+--------------+----------------+---------------+--------------+--------------+----------------+--------------+-------------+-----------+--------------+--------------+--------------+--------------+-------------+--------------+-------------+---------------+---------------+--------------+-------------+------------+--------------+--------------+-------------+--------------+--------------+--------------+--------------+--------------+--------------+--------------+--------------+---------------+--------------+--------------+----------------+--------------+---------------+--------------+---------------+--------------+--------------+----------------+--------------+--------------+--------------+--------------+--------------+---------------+--------------+-------------+--------------+---------------+---------------+--------------+--------------+--------------+--------------+--------------+---------------+--------------+--------------+-------------+-------------+----------------+-------------+--------------+--------------+--------------+--------------+-------------+-------------+----------------+-------------+-------------+--------------+--------------+--------------+--------------+-------------+-------------+-------------+-------------+--------------+--------------+----------------+--------------+--------------+-------------+-------------+-------------+---------------+--------------+--------------+--------------+----------+--------------+--------------+-------------+--------------+--------------+--------------+-------------+--------------+---------------+--------------+--------------+---------------+-------------+--------------+--------------+-------------+--------------+-------------+--------------+---------------+---------------+--------------+--------------+-------------+------------------------------------------------------------------------------------------------------------------------------------------------------------------------------------------------------------------------------------------------------------------------------------------------------------------------------------------------------------------------------------------------------------------------------------------------------------------------------------------------------------------------------------------------------------------------------------------------------------------------------------------------------------------------------------------------------------+\n",
            "|EDAD|AP4_3_1_index|AP4_11_09_index|AP4_5_16_index|AP4_4_05_index|AP5_5_09_index|AP5_6_08_index|AP4_10_05_index|AP5_4_10_C_index|AP4_5_12_index|AP5_1_10_index|AP4_11_01_index|AP4_7_1_index|AP4_4_10_index|AP5_4_08_C_index|AP4_10_04_index|AP4_10_09_index|AP4_10_10_index|AP5_3_06_index|AP5_4_08_index|AP4_6_3_index|AP5_6_05_index|AP5_4_09_index|AP4_10_14_index|AP5_6_09_index|AP5_8_index|AP4_2_09_index|AP4_10_15_index|AP5_5_08_index|AP5_3_02_index|AP5_1_02_index|AP4_5_09_index|AP4_11_10_index|AP5_2_4_index|AP5_1_12_index|AP5_4_06_index|AP4_8_1_index|AP5_1_07_index|AP5_7_3_index|AP5_4_02_C_index|AP4_10_01_index|AP5_3_08_index|AP4_11_05_index|AP4_2_01_index|AP4_4_11_index|AP4_2_11_index|AP5_6_10_index|AP5_1_13_index|AP4_2_04_index|AP5_4_06_C_index|AP4_10_13_index|AP5_5_02_index|AP4_4_09_index|AP5_4_04_C_index|AP5_1_08_index|DOMINIO_index|AP4_1_index|AP4_5_08_index|AP4_5_06_index|AP5_3_09_index|AP4_2_03_index|ESTRATO_index|AP5_6_04_index|AP4_8_4_index|AP4_11_02_index|AP4_10_03_index|AP5_1_09_index|AP4_3_3_index|AP4_12_index|AP4_4_06_index|AP4_5_04_index|AP4_6_2_index|AP5_1_04_index|AP5_1_11_index|AP4_2_05_index|AP5_5_04_index|AP5_5_01_index|AP5_3_10_index|AP4_5_03_index|AP5_4_04_index|AP4_10_06_index|AP5_5_06_index|AP4_5_15_index|AP5_4_01_C_index|AP5_6_06_index|AP4_11_07_index|AP4_2_02_index|AP4_11_06_index|AP5_3_03_index|AP4_5_01_index|AP5_4_05_C_index|AP5_5_05_index|AP4_5_02_index|AP4_4_12_index|AP4_2_10_index|AP5_1_01_index|AP4_10_07_index|AP4_5_13_index|AP4_9_5_index|AP5_4_10_index|AP4_10_12_index|AP4_11_08_index|AP4_4_02_index|AP4_2_06_index|AP5_6_07_index|AP5_1_03_index|AP4_4_08_index|AP4_10_08_index|AP5_3_07_index|AP4_4_03_index|AP4_9_3_index|AP5_2_2_index|AP5_4_07_C_index|AP4_7_3_index|AP4_2_08_index|AP5_3_01_index|AP5_5_10_index|AP4_2_99_index|AP4_9_6_index|AP4_9_4_index|AP5_4_09_C_index|AP4_7_2_index|AP5_7_1_index|AP5_5_07_index|AP5_1_05_index|AP4_5_07_index|AP5_6_01_index|AP4_8_2_index|AP5_7_2_index|AP4_9_2_index|AP5_2_3_index|AP5_3_04_index|AP4_4_04_index|AP5_4_03_C_index|AP4_5_11_index|AP4_5_99_index|AP4_8_3_index|AP4_6_1_index|CVE_ENT_index|AP4_10_02_index|AP5_3_05_index|AP5_4_07_index|AP4_2_12_index|SEXO_index|AP4_4_07_index|AP4_5_14_index|AP5_2_1_index|AP5_4_01_index|AP4_5_05_index|AP5_4_03_index|AP5_7_4_index|AP5_4_05_index|AP4_11_11_index|AP5_1_06_index|AP5_4_02_index|AP4_11_04_index|AP4_8_5_index|AP4_5_10_index|AP5_5_03_index|AP4_8_6_index|AP5_6_03_index|AP4_3_2_index|AP4_4_01_index|AP4_11_03_index|AP4_10_11_index|AP5_6_02_index|AP4_2_07_index|AP4_9_1_index|features                                                                                                                                                                                                                                                                                                                                                                                                                                                                                                                                                                                                                                                                                                    |\n",
            "+----+-------------+---------------+--------------+--------------+--------------+--------------+---------------+----------------+--------------+--------------+---------------+-------------+--------------+----------------+---------------+---------------+---------------+--------------+--------------+-------------+--------------+--------------+---------------+--------------+-----------+--------------+---------------+--------------+--------------+--------------+--------------+---------------+-------------+--------------+--------------+-------------+--------------+-------------+----------------+---------------+--------------+---------------+--------------+--------------+--------------+--------------+--------------+--------------+----------------+---------------+--------------+--------------+----------------+--------------+-------------+-----------+--------------+--------------+--------------+--------------+-------------+--------------+-------------+---------------+---------------+--------------+-------------+------------+--------------+--------------+-------------+--------------+--------------+--------------+--------------+--------------+--------------+--------------+--------------+---------------+--------------+--------------+----------------+--------------+---------------+--------------+---------------+--------------+--------------+----------------+--------------+--------------+--------------+--------------+--------------+---------------+--------------+-------------+--------------+---------------+---------------+--------------+--------------+--------------+--------------+--------------+---------------+--------------+--------------+-------------+-------------+----------------+-------------+--------------+--------------+--------------+--------------+-------------+-------------+----------------+-------------+-------------+--------------+--------------+--------------+--------------+-------------+-------------+-------------+-------------+--------------+--------------+----------------+--------------+--------------+-------------+-------------+-------------+---------------+--------------+--------------+--------------+----------+--------------+--------------+-------------+--------------+--------------+--------------+-------------+--------------+---------------+--------------+--------------+---------------+-------------+--------------+--------------+-------------+--------------+-------------+--------------+---------------+---------------+--------------+--------------+-------------+------------------------------------------------------------------------------------------------------------------------------------------------------------------------------------------------------------------------------------------------------------------------------------------------------------------------------------------------------------------------------------------------------------------------------------------------------------------------------------------------------------------------------------------------------------------------------------------------------------------------------------------------------------------------------------------------------------+\n",
            "|53.0|0.0          |0.0            |0.0           |1.0           |1.0           |0.0           |1.0            |0.0             |0.0           |0.0           |0.0            |2.0          |0.0           |0.0             |1.0            |0.0            |0.0            |0.0           |1.0           |0.0          |0.0           |0.0           |0.0            |0.0           |0.0        |0.0           |0.0            |0.0           |0.0           |1.0           |1.0           |0.0            |2.0          |1.0           |0.0           |1.0          |1.0           |0.0          |1.0             |0.0            |0.0           |0.0            |0.0           |1.0           |0.0           |0.0           |0.0           |1.0           |0.0             |0.0            |2.0           |2.0           |0.0             |2.0           |0.0          |0.0        |0.0           |0.0           |1.0           |1.0           |1.0          |0.0           |0.0          |0.0            |2.0            |2.0           |1.0          |0.0         |0.0           |0.0           |1.0          |1.0           |1.0           |1.0           |0.0           |1.0           |0.0           |0.0           |0.0           |0.0            |0.0           |0.0           |0.0             |0.0           |0.0            |0.0           |0.0            |0.0           |1.0           |0.0             |0.0           |0.0           |1.0           |0.0           |0.0           |0.0            |0.0           |1.0          |0.0           |0.0            |0.0            |1.0           |0.0           |0.0           |1.0           |2.0           |1.0            |0.0           |1.0           |0.0          |0.0          |0.0             |0.0          |1.0           |1.0           |0.0           |0.0           |0.0          |0.0          |1.0             |0.0          |0.0          |0.0           |1.0           |0.0           |0.0           |1.0          |1.0          |1.0          |0.0          |1.0           |0.0           |3.0             |0.0           |0.0           |0.0          |1.0          |31.0         |0.0            |0.0           |0.0           |0.0           |0.0       |2.0           |0.0           |1.0          |0.0           |0.0           |2.0           |1.0          |0.0           |0.0            |0.0           |1.0           |0.0            |0.0          |1.0           |0.0           |0.0          |2.0           |1.0          |0.0           |0.0            |0.0            |1.0           |0.0           |0.0          |(168,[0,4,5,7,12,15,19,30,31,33,34,36,37,39,44,48,51,52,54,59,60,61,65,66,67,71,72,73,74,76,89,93,98,102,105,106,107,109,114,115,120,124,127,128,129,131,133,137,138,144,146,149,150,154,157,160,161,165],[53.0,1.0,1.0,1.0,2.0,1.0,1.0,1.0,1.0,2.0,1.0,1.0,1.0,1.0,1.0,1.0,2.0,2.0,2.0,1.0,1.0,1.0,2.0,2.0,1.0,1.0,1.0,1.0,1.0,1.0,1.0,1.0,1.0,1.0,1.0,2.0,1.0,1.0,1.0,1.0,1.0,1.0,1.0,1.0,1.0,1.0,3.0,1.0,31.0,2.0,1.0,2.0,1.0,1.0,1.0,2.0,1.0,1.0])                                                                                                                                                                                                                                                      |\n",
            "|42.0|0.0          |0.0            |0.0           |0.0           |0.0           |0.0           |2.0            |1.0             |0.0           |0.0           |0.0            |1.0          |0.0           |3.0             |2.0            |1.0            |1.0            |1.0           |0.0           |0.0          |2.0           |1.0           |0.0            |1.0           |1.0        |0.0           |1.0            |0.0           |0.0           |1.0           |1.0           |0.0            |0.0          |0.0           |2.0           |0.0          |0.0           |2.0          |3.0             |0.0            |0.0           |0.0            |1.0           |0.0           |0.0           |2.0           |0.0           |0.0           |3.0             |0.0            |0.0           |2.0           |1.0             |2.0           |0.0          |0.0        |1.0           |0.0           |0.0           |0.0           |1.0          |1.0           |0.0          |1.0            |1.0            |1.0           |0.0          |5.0         |0.0           |0.0           |1.0          |0.0           |0.0           |0.0           |1.0           |0.0           |1.0           |0.0           |1.0           |1.0            |1.0           |0.0           |4.0             |3.0           |0.0            |0.0           |0.0            |0.0           |1.0           |1.0             |1.0           |1.0           |0.0           |0.0           |1.0           |1.0            |0.0           |1.0          |2.0           |0.0            |1.0            |2.0           |0.0           |0.0           |0.0           |0.0           |2.0            |0.0           |0.0           |1.0          |2.0          |0.0             |1.0          |0.0           |0.0           |1.0           |0.0           |0.0          |0.0          |0.0             |2.0          |2.0          |0.0           |1.0           |0.0           |2.0           |1.0          |2.0          |1.0          |0.0          |0.0           |1.0           |2.0             |0.0           |0.0           |1.0          |0.0          |31.0         |1.0            |1.0           |0.0           |0.0           |0.0       |0.0           |1.0           |0.0          |1.0           |1.0           |1.0           |0.0          |3.0           |0.0            |0.0           |2.0           |0.0            |0.0          |0.0           |0.0           |0.0          |1.0           |0.0          |0.0           |0.0            |1.0            |2.0           |1.0           |1.0          |(168,[0,7,8,12,14,15,16,17,18,21,22,24,25,27,30,31,35,38,39,43,46,49,52,53,54,57,61,62,64,65,66,68,71,75,77,79,80,81,83,84,89,90,91,92,95,96,98,99,101,102,107,110,111,113,116,121,122,124,126,127,128,129,132,133,136,138,139,140,145,147,148,149,151,154,160,164,165,166,167],[42.0,2.0,1.0,1.0,3.0,2.0,1.0,1.0,1.0,2.0,1.0,1.0,1.0,1.0,1.0,1.0,2.0,2.0,3.0,1.0,2.0,3.0,2.0,1.0,2.0,1.0,1.0,1.0,1.0,1.0,1.0,5.0,1.0,1.0,1.0,1.0,1.0,1.0,4.0,3.0,1.0,1.0,1.0,1.0,1.0,1.0,1.0,2.0,1.0,2.0,2.0,1.0,2.0,1.0,1.0,2.0,2.0,1.0,2.0,1.0,2.0,1.0,1.0,2.0,1.0,31.0,1.0,1.0,1.0,1.0,1.0,1.0,3.0,2.0,1.0,1.0,2.0,1.0,1.0])                                                                                            |\n",
            "|44.0|1.0          |0.0            |0.0           |0.0           |0.0           |1.0           |0.0            |1.0             |0.0           |0.0           |0.0            |0.0          |1.0           |1.0             |0.0            |1.0            |1.0            |1.0           |0.0           |1.0          |3.0           |1.0           |2.0            |2.0           |0.0        |0.0           |1.0            |0.0           |0.0           |0.0           |1.0           |0.0            |2.0          |0.0           |3.0           |0.0          |0.0           |0.0          |3.0             |0.0            |0.0           |0.0            |0.0           |0.0           |0.0           |2.0           |0.0           |1.0           |3.0             |2.0            |0.0           |0.0           |1.0             |2.0           |0.0          |0.0        |1.0           |1.0           |0.0           |0.0           |1.0          |1.0           |1.0          |0.0            |1.0            |1.0           |0.0          |1.0         |1.0           |1.0           |0.0          |1.0           |0.0           |0.0           |1.0           |0.0           |1.0           |1.0           |1.0           |1.0            |1.0           |1.0           |1.0             |3.0           |0.0            |0.0           |1.0            |0.0           |0.0           |3.0             |1.0           |0.0           |0.0           |0.0           |0.0           |0.0            |1.0           |1.0          |1.0           |2.0            |0.0            |2.0           |1.0           |2.0           |0.0           |0.0           |2.0            |1.0           |0.0           |2.0          |2.0          |2.0             |1.0          |0.0           |0.0           |1.0           |0.0           |1.0          |2.0          |2.0             |1.0          |2.0          |1.0           |1.0           |0.0           |3.0           |1.0          |1.0          |1.0          |0.0          |0.0           |0.0           |1.0             |0.0           |0.0           |1.0          |0.0          |31.0         |0.0            |1.0           |1.0           |0.0           |0.0       |0.0           |0.0           |1.0          |1.0           |1.0           |3.0           |0.0          |2.0           |0.0            |0.0           |3.0           |0.0            |0.0          |1.0           |0.0           |1.0          |2.0           |0.0          |1.0           |0.0            |1.0            |3.0           |0.0           |2.0          |(168,[0,1,6,8,13,14,16,17,18,20,21,22,23,24,27,31,33,35,39,46,48,49,50,53,54,57,58,61,62,63,65,66,68,69,70,72,75,77,78,79,80,81,82,83,84,87,90,91,97,98,99,100,102,103,104,107,108,110,111,112,113,116,118,119,120,121,122,123,124,126,127,128,129,133,136,138,140,141,146,147,148,149,151,154,157,159,160,162,164,165,167],[44.0,1.0,1.0,1.0,1.0,1.0,1.0,1.0,1.0,1.0,3.0,1.0,2.0,2.0,1.0,1.0,2.0,3.0,3.0,2.0,1.0,3.0,2.0,1.0,2.0,1.0,1.0,1.0,1.0,1.0,1.0,1.0,1.0,1.0,1.0,1.0,1.0,1.0,1.0,1.0,1.0,1.0,1.0,1.0,3.0,1.0,3.0,1.0,1.0,1.0,1.0,2.0,2.0,1.0,2.0,2.0,1.0,2.0,2.0,2.0,1.0,1.0,1.0,2.0,2.0,1.0,2.0,1.0,1.0,3.0,1.0,1.0,1.0,1.0,1.0,31.0,1.0,1.0,1.0,1.0,1.0,3.0,2.0,3.0,1.0,1.0,2.0,1.0,1.0,3.0,2.0])|\n",
            "|62.0|0.0          |0.0            |1.0           |1.0           |1.0           |0.0           |1.0            |0.0             |0.0           |0.0           |0.0            |2.0          |0.0           |1.0             |1.0            |0.0            |1.0            |0.0           |1.0           |0.0          |0.0           |0.0           |0.0            |0.0           |2.0        |0.0           |0.0            |0.0           |0.0           |0.0           |0.0           |0.0            |4.0          |1.0           |0.0           |1.0          |1.0           |1.0          |2.0             |1.0            |0.0           |0.0            |0.0           |0.0           |1.0           |0.0           |0.0           |1.0           |0.0             |0.0            |2.0           |2.0           |0.0             |2.0           |0.0          |0.0        |0.0           |0.0           |1.0           |0.0           |1.0          |0.0           |0.0          |0.0            |0.0            |1.0           |0.0          |0.0         |0.0           |0.0           |1.0          |1.0           |1.0           |1.0           |0.0           |2.0           |0.0           |0.0           |0.0           |0.0            |0.0           |0.0           |2.0             |0.0           |0.0            |0.0           |0.0            |1.0           |1.0           |0.0             |0.0           |0.0           |1.0           |0.0           |0.0           |0.0            |0.0           |0.0          |0.0           |0.0            |0.0            |1.0           |0.0           |0.0           |1.0           |0.0           |1.0            |0.0           |1.0           |0.0          |0.0          |0.0             |1.0          |0.0           |0.0           |0.0           |0.0           |0.0          |0.0          |1.0             |1.0          |3.0          |0.0           |1.0           |0.0           |2.0           |1.0          |1.0          |1.0          |0.0          |1.0           |0.0           |0.0             |0.0           |0.0           |0.0          |1.0          |31.0         |0.0            |0.0           |0.0           |0.0           |0.0       |0.0           |0.0           |2.0          |2.0           |0.0           |0.0           |1.0          |0.0           |0.0            |0.0           |1.0           |0.0            |1.0          |0.0           |1.0           |0.0          |0.0           |0.0          |0.0           |0.0            |0.0            |1.0           |1.0           |0.0          |(168,[0,3,4,5,7,12,14,15,17,19,25,33,34,36,37,38,39,40,45,48,51,52,54,59,61,66,71,72,73,74,76,83,88,89,93,102,105,107,109,113,120,121,122,124,126,127,128,129,131,137,138,146,147,150,154,156,158,165,166],[62.0,1.0,1.0,1.0,1.0,2.0,1.0,1.0,1.0,1.0,2.0,4.0,1.0,1.0,1.0,1.0,2.0,1.0,1.0,1.0,2.0,2.0,2.0,1.0,1.0,1.0,1.0,1.0,1.0,1.0,2.0,2.0,1.0,1.0,1.0,1.0,1.0,1.0,1.0,1.0,1.0,1.0,3.0,1.0,2.0,1.0,1.0,1.0,1.0,1.0,31.0,2.0,2.0,1.0,1.0,1.0,1.0,1.0,1.0])                                                                                                                                                                                                                                                 |\n",
            "|19.0|0.0          |0.0            |0.0           |2.0           |0.0           |0.0           |1.0            |0.0             |0.0           |0.0           |1.0            |0.0          |0.0           |0.0             |0.0            |0.0            |0.0            |1.0           |0.0           |1.0          |1.0           |1.0           |0.0            |1.0           |2.0        |0.0           |0.0            |0.0           |0.0           |0.0           |1.0           |0.0            |1.0          |1.0           |1.0           |0.0          |0.0           |0.0          |1.0             |1.0            |0.0           |0.0            |0.0           |0.0           |0.0           |0.0           |0.0           |1.0           |2.0             |0.0            |0.0           |2.0           |0.0             |0.0           |0.0          |0.0        |1.0           |1.0           |0.0           |0.0           |1.0          |0.0           |0.0          |1.0            |0.0            |0.0           |1.0          |12.0        |2.0           |0.0           |0.0          |1.0           |1.0           |1.0           |0.0           |0.0           |0.0           |0.0           |0.0           |1.0            |1.0           |0.0           |3.0             |1.0           |0.0            |0.0           |0.0            |0.0           |0.0           |1.0             |1.0           |0.0           |1.0           |0.0           |0.0           |0.0            |0.0           |1.0          |0.0           |1.0            |0.0            |0.0           |0.0           |0.0           |0.0           |0.0           |1.0            |0.0           |1.0           |1.0          |3.0          |0.0             |0.0          |1.0           |0.0           |0.0           |0.0           |0.0          |0.0          |0.0             |2.0          |1.0          |0.0           |0.0           |0.0           |2.0           |1.0          |1.0          |1.0          |0.0          |1.0           |0.0           |3.0             |0.0           |0.0           |1.0          |0.0          |31.0         |0.0            |1.0           |0.0           |0.0           |1.0       |1.0           |0.0           |3.0          |1.0           |1.0           |3.0           |1.0          |4.0           |0.0            |0.0           |2.0           |1.0            |0.0          |0.0           |0.0           |2.0          |3.0           |1.0          |0.0           |1.0            |0.0            |1.0           |1.0           |1.0          |(168,[0,4,7,11,18,20,21,22,24,25,31,33,34,35,39,40,48,49,52,57,58,61,64,67,68,69,72,73,74,80,81,83,84,90,91,93,98,100,107,109,110,111,114,121,122,126,127,128,129,131,133,136,138,140,143,144,146,147,148,149,150,151,154,155,159,160,161,163,165,166,167],[19.0,2.0,1.0,1.0,1.0,1.0,1.0,1.0,1.0,2.0,1.0,1.0,1.0,1.0,1.0,1.0,1.0,2.0,2.0,1.0,1.0,1.0,1.0,1.0,12.0,2.0,1.0,1.0,1.0,1.0,1.0,3.0,1.0,1.0,1.0,1.0,1.0,1.0,1.0,1.0,1.0,3.0,1.0,2.0,1.0,2.0,1.0,1.0,1.0,1.0,3.0,1.0,31.0,1.0,1.0,1.0,3.0,1.0,1.0,3.0,1.0,4.0,2.0,1.0,2.0,3.0,1.0,1.0,1.0,1.0,1.0])                                                                                                                                                |\n",
            "+----+-------------+---------------+--------------+--------------+--------------+--------------+---------------+----------------+--------------+--------------+---------------+-------------+--------------+----------------+---------------+---------------+---------------+--------------+--------------+-------------+--------------+--------------+---------------+--------------+-----------+--------------+---------------+--------------+--------------+--------------+--------------+---------------+-------------+--------------+--------------+-------------+--------------+-------------+----------------+---------------+--------------+---------------+--------------+--------------+--------------+--------------+--------------+--------------+----------------+---------------+--------------+--------------+----------------+--------------+-------------+-----------+--------------+--------------+--------------+--------------+-------------+--------------+-------------+---------------+---------------+--------------+-------------+------------+--------------+--------------+-------------+--------------+--------------+--------------+--------------+--------------+--------------+--------------+--------------+---------------+--------------+--------------+----------------+--------------+---------------+--------------+---------------+--------------+--------------+----------------+--------------+--------------+--------------+--------------+--------------+---------------+--------------+-------------+--------------+---------------+---------------+--------------+--------------+--------------+--------------+--------------+---------------+--------------+--------------+-------------+-------------+----------------+-------------+--------------+--------------+--------------+--------------+-------------+-------------+----------------+-------------+-------------+--------------+--------------+--------------+--------------+-------------+-------------+-------------+-------------+--------------+--------------+----------------+--------------+--------------+-------------+-------------+-------------+---------------+--------------+--------------+--------------+----------+--------------+--------------+-------------+--------------+--------------+--------------+-------------+--------------+---------------+--------------+--------------+---------------+-------------+--------------+--------------+-------------+--------------+-------------+--------------+---------------+---------------+--------------+--------------+-------------+------------------------------------------------------------------------------------------------------------------------------------------------------------------------------------------------------------------------------------------------------------------------------------------------------------------------------------------------------------------------------------------------------------------------------------------------------------------------------------------------------------------------------------------------------------------------------------------------------------------------------------------------------------------------------------------------------------+\n",
            "only showing top 5 rows\n",
            "\n"
          ]
        }
      ],
      "source": [
        "df_features.show(5,0)"
      ]
    },
    {
      "cell_type": "code",
      "execution_count": 45,
      "metadata": {
        "id": "Ew0YgjJ1OFDg",
        "colab": {
          "base_uri": "https://localhost:8080/"
        },
        "outputId": "a2a5f907-5286-4913-94af-dc3d9356b3fb"
      },
      "outputs": [
        {
          "output_type": "stream",
          "name": "stdout",
          "text": [
            "root\n",
            " |-- EDAD: float (nullable = true)\n",
            " |-- AP4_3_1_index: double (nullable = false)\n",
            " |-- AP4_11_09_index: double (nullable = false)\n",
            " |-- AP4_5_16_index: double (nullable = false)\n",
            " |-- AP4_4_05_index: double (nullable = false)\n",
            " |-- AP5_5_09_index: double (nullable = false)\n",
            " |-- AP5_6_08_index: double (nullable = false)\n",
            " |-- AP4_10_05_index: double (nullable = false)\n",
            " |-- AP5_4_10_C_index: double (nullable = false)\n",
            " |-- AP4_5_12_index: double (nullable = false)\n",
            " |-- AP5_1_10_index: double (nullable = false)\n",
            " |-- AP4_11_01_index: double (nullable = false)\n",
            " |-- AP4_7_1_index: double (nullable = false)\n",
            " |-- AP4_4_10_index: double (nullable = false)\n",
            " |-- AP5_4_08_C_index: double (nullable = false)\n",
            " |-- AP4_10_04_index: double (nullable = false)\n",
            " |-- AP4_10_09_index: double (nullable = false)\n",
            " |-- AP4_10_10_index: double (nullable = false)\n",
            " |-- AP5_3_06_index: double (nullable = false)\n",
            " |-- AP5_4_08_index: double (nullable = false)\n",
            " |-- AP4_6_3_index: double (nullable = false)\n",
            " |-- AP5_6_05_index: double (nullable = false)\n",
            " |-- AP5_4_09_index: double (nullable = false)\n",
            " |-- AP4_10_14_index: double (nullable = false)\n",
            " |-- AP5_6_09_index: double (nullable = false)\n",
            " |-- AP5_8_index: double (nullable = false)\n",
            " |-- AP4_2_09_index: double (nullable = false)\n",
            " |-- AP4_10_15_index: double (nullable = false)\n",
            " |-- AP5_5_08_index: double (nullable = false)\n",
            " |-- AP5_3_02_index: double (nullable = false)\n",
            " |-- AP5_1_02_index: double (nullable = false)\n",
            " |-- AP4_5_09_index: double (nullable = false)\n",
            " |-- AP4_11_10_index: double (nullable = false)\n",
            " |-- AP5_2_4_index: double (nullable = false)\n",
            " |-- AP5_1_12_index: double (nullable = false)\n",
            " |-- AP5_4_06_index: double (nullable = false)\n",
            " |-- AP4_8_1_index: double (nullable = false)\n",
            " |-- AP5_1_07_index: double (nullable = false)\n",
            " |-- AP5_7_3_index: double (nullable = false)\n",
            " |-- AP5_4_02_C_index: double (nullable = false)\n",
            " |-- AP4_10_01_index: double (nullable = false)\n",
            " |-- AP5_3_08_index: double (nullable = false)\n",
            " |-- AP4_11_05_index: double (nullable = false)\n",
            " |-- AP4_2_01_index: double (nullable = false)\n",
            " |-- AP4_4_11_index: double (nullable = false)\n",
            " |-- AP4_2_11_index: double (nullable = false)\n",
            " |-- AP5_6_10_index: double (nullable = false)\n",
            " |-- AP5_1_13_index: double (nullable = false)\n",
            " |-- AP4_2_04_index: double (nullable = false)\n",
            " |-- AP5_4_06_C_index: double (nullable = false)\n",
            " |-- AP4_10_13_index: double (nullable = false)\n",
            " |-- AP5_5_02_index: double (nullable = false)\n",
            " |-- AP4_4_09_index: double (nullable = false)\n",
            " |-- AP5_4_04_C_index: double (nullable = false)\n",
            " |-- AP5_1_08_index: double (nullable = false)\n",
            " |-- DOMINIO_index: double (nullable = false)\n",
            " |-- AP4_1_index: double (nullable = false)\n",
            " |-- AP4_5_08_index: double (nullable = false)\n",
            " |-- AP4_5_06_index: double (nullable = false)\n",
            " |-- AP5_3_09_index: double (nullable = false)\n",
            " |-- AP4_2_03_index: double (nullable = false)\n",
            " |-- ESTRATO_index: double (nullable = false)\n",
            " |-- AP5_6_04_index: double (nullable = false)\n",
            " |-- AP4_8_4_index: double (nullable = false)\n",
            " |-- AP4_11_02_index: double (nullable = false)\n",
            " |-- AP4_10_03_index: double (nullable = false)\n",
            " |-- AP5_1_09_index: double (nullable = false)\n",
            " |-- AP4_3_3_index: double (nullable = false)\n",
            " |-- AP4_12_index: double (nullable = false)\n",
            " |-- AP4_4_06_index: double (nullable = false)\n",
            " |-- AP4_5_04_index: double (nullable = false)\n",
            " |-- AP4_6_2_index: double (nullable = false)\n",
            " |-- AP5_1_04_index: double (nullable = false)\n",
            " |-- AP5_1_11_index: double (nullable = false)\n",
            " |-- AP4_2_05_index: double (nullable = false)\n",
            " |-- AP5_5_04_index: double (nullable = false)\n",
            " |-- AP5_5_01_index: double (nullable = false)\n",
            " |-- AP5_3_10_index: double (nullable = false)\n",
            " |-- AP4_5_03_index: double (nullable = false)\n",
            " |-- AP5_4_04_index: double (nullable = false)\n",
            " |-- AP4_10_06_index: double (nullable = false)\n",
            " |-- AP5_5_06_index: double (nullable = false)\n",
            " |-- AP4_5_15_index: double (nullable = false)\n",
            " |-- AP5_4_01_C_index: double (nullable = false)\n",
            " |-- AP5_6_06_index: double (nullable = false)\n",
            " |-- AP4_11_07_index: double (nullable = false)\n",
            " |-- AP4_2_02_index: double (nullable = false)\n",
            " |-- AP4_11_06_index: double (nullable = false)\n",
            " |-- AP5_3_03_index: double (nullable = false)\n",
            " |-- AP4_5_01_index: double (nullable = false)\n",
            " |-- AP5_4_05_C_index: double (nullable = false)\n",
            " |-- AP5_5_05_index: double (nullable = false)\n",
            " |-- AP4_5_02_index: double (nullable = false)\n",
            " |-- AP4_4_12_index: double (nullable = false)\n",
            " |-- AP4_2_10_index: double (nullable = false)\n",
            " |-- AP5_1_01_index: double (nullable = false)\n",
            " |-- AP4_10_07_index: double (nullable = false)\n",
            " |-- AP4_5_13_index: double (nullable = false)\n",
            " |-- AP4_9_5_index: double (nullable = false)\n",
            " |-- AP5_4_10_index: double (nullable = false)\n",
            " |-- AP4_10_12_index: double (nullable = false)\n",
            " |-- AP4_11_08_index: double (nullable = false)\n",
            " |-- AP4_4_02_index: double (nullable = false)\n",
            " |-- AP4_2_06_index: double (nullable = false)\n",
            " |-- AP5_6_07_index: double (nullable = false)\n",
            " |-- AP5_1_03_index: double (nullable = false)\n",
            " |-- AP4_4_08_index: double (nullable = false)\n",
            " |-- AP4_10_08_index: double (nullable = false)\n",
            " |-- AP5_3_07_index: double (nullable = false)\n",
            " |-- AP4_4_03_index: double (nullable = false)\n",
            " |-- AP4_9_3_index: double (nullable = false)\n",
            " |-- AP5_2_2_index: double (nullable = false)\n",
            " |-- AP5_4_07_C_index: double (nullable = false)\n",
            " |-- AP4_7_3_index: double (nullable = false)\n",
            " |-- AP4_2_08_index: double (nullable = false)\n",
            " |-- AP5_3_01_index: double (nullable = false)\n",
            " |-- AP5_5_10_index: double (nullable = false)\n",
            " |-- AP4_2_99_index: double (nullable = false)\n",
            " |-- AP4_9_6_index: double (nullable = false)\n",
            " |-- AP4_9_4_index: double (nullable = false)\n",
            " |-- AP5_4_09_C_index: double (nullable = false)\n",
            " |-- AP4_7_2_index: double (nullable = false)\n",
            " |-- AP5_7_1_index: double (nullable = false)\n",
            " |-- AP5_5_07_index: double (nullable = false)\n",
            " |-- AP5_1_05_index: double (nullable = false)\n",
            " |-- AP4_5_07_index: double (nullable = false)\n",
            " |-- AP5_6_01_index: double (nullable = false)\n",
            " |-- AP4_8_2_index: double (nullable = false)\n",
            " |-- AP5_7_2_index: double (nullable = false)\n",
            " |-- AP4_9_2_index: double (nullable = false)\n",
            " |-- AP5_2_3_index: double (nullable = false)\n",
            " |-- AP5_3_04_index: double (nullable = false)\n",
            " |-- AP4_4_04_index: double (nullable = false)\n",
            " |-- AP5_4_03_C_index: double (nullable = false)\n",
            " |-- AP4_5_11_index: double (nullable = false)\n",
            " |-- AP4_5_99_index: double (nullable = false)\n",
            " |-- AP4_8_3_index: double (nullable = false)\n",
            " |-- AP4_6_1_index: double (nullable = false)\n",
            " |-- CVE_ENT_index: double (nullable = false)\n",
            " |-- AP4_10_02_index: double (nullable = false)\n",
            " |-- AP5_3_05_index: double (nullable = false)\n",
            " |-- AP5_4_07_index: double (nullable = false)\n",
            " |-- AP4_2_12_index: double (nullable = false)\n",
            " |-- SEXO_index: double (nullable = false)\n",
            " |-- AP4_4_07_index: double (nullable = false)\n",
            " |-- AP4_5_14_index: double (nullable = false)\n",
            " |-- AP5_2_1_index: double (nullable = false)\n",
            " |-- AP5_4_01_index: double (nullable = false)\n",
            " |-- AP4_5_05_index: double (nullable = false)\n",
            " |-- AP5_4_03_index: double (nullable = false)\n",
            " |-- AP5_7_4_index: double (nullable = false)\n",
            " |-- AP5_4_05_index: double (nullable = false)\n",
            " |-- AP4_11_11_index: double (nullable = false)\n",
            " |-- AP5_1_06_index: double (nullable = false)\n",
            " |-- AP5_4_02_index: double (nullable = false)\n",
            " |-- AP4_11_04_index: double (nullable = false)\n",
            " |-- AP4_8_5_index: double (nullable = false)\n",
            " |-- AP4_5_10_index: double (nullable = false)\n",
            " |-- AP5_5_03_index: double (nullable = false)\n",
            " |-- AP4_8_6_index: double (nullable = false)\n",
            " |-- AP5_6_03_index: double (nullable = false)\n",
            " |-- AP4_3_2_index: double (nullable = false)\n",
            " |-- AP4_4_01_index: double (nullable = false)\n",
            " |-- AP4_11_03_index: double (nullable = false)\n",
            " |-- AP4_10_11_index: double (nullable = false)\n",
            " |-- AP5_6_02_index: double (nullable = false)\n",
            " |-- AP4_2_07_index: double (nullable = false)\n",
            " |-- AP4_9_1_index: double (nullable = false)\n",
            " |-- features: vector (nullable = true)\n",
            "\n"
          ]
        }
      ],
      "source": [
        "df_features.printSchema()"
      ]
    }
  ],
  "metadata": {
    "kernelspec": {
      "display_name": "Python 3",
      "language": "python",
      "name": "python3"
    },
    "language_info": {
      "codemirror_mode": {
        "name": "ipython",
        "version": 3
      },
      "file_extension": ".py",
      "mimetype": "text/x-python",
      "name": "python",
      "nbconvert_exporter": "python",
      "pygments_lexer": "ipython3",
      "version": "3.9.7"
    },
    "orig_nbformat": 4,
    "colab": {
      "provenance": [],
      "include_colab_link": true
    }
  },
  "nbformat": 4,
  "nbformat_minor": 0
}