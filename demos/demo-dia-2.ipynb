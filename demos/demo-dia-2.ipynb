{
 "cells": [
  {
   "attachments": {},
   "cell_type": "markdown",
   "metadata": {},
   "source": [
    "# Demo día 2\n",
    "\n",
    "René Delgado Servín - 7 de agosto 2024\n",
    "\n",
    "En este demo vamos a crear una rede neuronal(CNN) sencilla de una capa, que predice si un alumno va a pasar o no.\n",
    "\n",
    "Esta red neuronal usará de entrada unicamente la cantidad de sesiones a las cuales el alumno asistió y la cantidad de horas que el alumno invirtió en la realización de su proyecto final.\n",
    "\n",
    "Los datos son simulados.\n"
   ]
  },
  {
   "attachments": {},
   "cell_type": "markdown",
   "metadata": {},
   "source": [
    "## Importaciones"
   ]
  },
  {
   "cell_type": "code",
   "execution_count": 1,
   "metadata": {},
   "outputs": [],
   "source": [
    "import tensorflow as tf\n",
    "import numpy as np\n",
    "import pandas as pd\n",
    "import random as rn\n",
    "import matplotlib.pyplot as plt\n",
    "rn.seed(20)"
   ]
  },
  {
   "attachments": {},
   "cell_type": "markdown",
   "metadata": {},
   "source": [
    "## Datos"
   ]
  },
  {
   "attachments": {},
   "cell_type": "markdown",
   "metadata": {},
   "source": [
    "Los datos va a generarse conciderando un curso hipotético con duración de 10 sesiones y 60 alumnos. Los alumnos pueden tener calificaciones de 0 a 10, si tienen menos de 6 de calificación reprueban si tienen 6 o más de calificación pasan.\n",
    "\n",
    "Para simular un alumno se genera un tiempo en proyecto final de 0 a 12 hrs aleatorio y una cantidad aleatoria de sesiones asistidas entre 1 y 10. Para determinar la calificacion, se toman el numero de horas usadas en proyecto final y se le suman la menor de las cantidades entre el número de horas usadas y las sesiones asistidas, finalmente la suma se divide entre 12, se multiplica por 10 y se redondea a dos decimales, si la cantidad obtenida se pasa de 10 se colocara un 10. Simulando que un alumno tiene que invertir 12 horas en su proyecto final como mínimo para sacar 10, y si el alumno asistió a una sesión y tiene una hora que puede invertir en trabajar después de la sesión entonces esa hora vale por dos para su proyecto final, porque tiene los conocimientos de la clase frescos."
   ]
  },
  {
   "cell_type": "code",
   "execution_count": 2,
   "metadata": {},
   "outputs": [],
   "source": [
    "#funcion para determinar una calificacion\n",
    "def calificacion(horas,sesiones):\n",
    "   horasefectivas = horas + min(horas,sesiones)\n",
    "   calif = round(horasefectivas * 10 / 12,2)\n",
    "   if calif > 10: return 10\n",
    "   return calif"
   ]
  },
  {
   "cell_type": "code",
   "execution_count": 3,
   "metadata": {},
   "outputs": [],
   "source": [
    "# funcion para generar un array con los datos de un alumno particular aleatorio\n",
    "def alumnoAleatorio():\n",
    "   hrs = rn.randint(0,12) # horas invertidas del alumno\n",
    "   sesiones = rn.randint(1,10) # sesiones asistidas del alumno\n",
    "   calif = calificacion(hrs,sesiones)# calificacion del alumno\n",
    "   aprobo = 1 if calif >=6 else 0 # aprobo o no\n",
    "   return [hrs,sesiones,calif,aprobo]\n",
    "\n"
   ]
  },
  {
   "cell_type": "code",
   "execution_count": 4,
   "metadata": {},
   "outputs": [],
   "source": [
    "listaAlumnosEntrenamiento = [alumnoAleatorio() for i in range(50)] #listado de alumnos que vamos a usar para entrenar el clasificador\n",
    "listaAlumnosPrueba = [alumnoAleatorio() for i in range(10)] #alumnos con los cuales vamos a validar el clasificador"
   ]
  },
  {
   "cell_type": "code",
   "execution_count": 5,
   "metadata": {},
   "outputs": [],
   "source": [
    "# dataframe con los datos de los alumnos\n",
    "dfAlumnos = pd.DataFrame(listaAlumnosEntrenamiento,columns=['horasInvertidas', 'sesionesAsistidas','calificacion','aprobo'])"
   ]
  },
  {
   "cell_type": "code",
   "execution_count": 6,
   "metadata": {},
   "outputs": [
    {
     "data": {
      "text/html": [
       "<div>\n",
       "<style scoped>\n",
       "    .dataframe tbody tr th:only-of-type {\n",
       "        vertical-align: middle;\n",
       "    }\n",
       "\n",
       "    .dataframe tbody tr th {\n",
       "        vertical-align: top;\n",
       "    }\n",
       "\n",
       "    .dataframe thead th {\n",
       "        text-align: right;\n",
       "    }\n",
       "</style>\n",
       "<table border=\"1\" class=\"dataframe\">\n",
       "  <thead>\n",
       "    <tr style=\"text-align: right;\">\n",
       "      <th></th>\n",
       "      <th>horasInvertidas</th>\n",
       "      <th>sesionesAsistidas</th>\n",
       "      <th>calificacion</th>\n",
       "      <th>aprobo</th>\n",
       "    </tr>\n",
       "  </thead>\n",
       "  <tbody>\n",
       "    <tr>\n",
       "      <th>count</th>\n",
       "      <td>50.000000</td>\n",
       "      <td>50.000000</td>\n",
       "      <td>50.000000</td>\n",
       "      <td>50.000000</td>\n",
       "    </tr>\n",
       "    <tr>\n",
       "      <th>mean</th>\n",
       "      <td>4.940000</td>\n",
       "      <td>5.180000</td>\n",
       "      <td>6.166800</td>\n",
       "      <td>0.540000</td>\n",
       "    </tr>\n",
       "    <tr>\n",
       "      <th>std</th>\n",
       "      <td>3.460624</td>\n",
       "      <td>3.001292</td>\n",
       "      <td>3.337298</td>\n",
       "      <td>0.503457</td>\n",
       "    </tr>\n",
       "    <tr>\n",
       "      <th>min</th>\n",
       "      <td>0.000000</td>\n",
       "      <td>1.000000</td>\n",
       "      <td>0.000000</td>\n",
       "      <td>0.000000</td>\n",
       "    </tr>\n",
       "    <tr>\n",
       "      <th>25%</th>\n",
       "      <td>2.000000</td>\n",
       "      <td>2.250000</td>\n",
       "      <td>3.330000</td>\n",
       "      <td>0.000000</td>\n",
       "    </tr>\n",
       "    <tr>\n",
       "      <th>50%</th>\n",
       "      <td>4.000000</td>\n",
       "      <td>5.000000</td>\n",
       "      <td>6.670000</td>\n",
       "      <td>1.000000</td>\n",
       "    </tr>\n",
       "    <tr>\n",
       "      <th>75%</th>\n",
       "      <td>7.000000</td>\n",
       "      <td>7.000000</td>\n",
       "      <td>10.000000</td>\n",
       "      <td>1.000000</td>\n",
       "    </tr>\n",
       "    <tr>\n",
       "      <th>max</th>\n",
       "      <td>12.000000</td>\n",
       "      <td>10.000000</td>\n",
       "      <td>10.000000</td>\n",
       "      <td>1.000000</td>\n",
       "    </tr>\n",
       "  </tbody>\n",
       "</table>\n",
       "</div>"
      ],
      "text/plain": [
       "       horasInvertidas  sesionesAsistidas  calificacion     aprobo\n",
       "count        50.000000          50.000000     50.000000  50.000000\n",
       "mean          4.940000           5.180000      6.166800   0.540000\n",
       "std           3.460624           3.001292      3.337298   0.503457\n",
       "min           0.000000           1.000000      0.000000   0.000000\n",
       "25%           2.000000           2.250000      3.330000   0.000000\n",
       "50%           4.000000           5.000000      6.670000   1.000000\n",
       "75%           7.000000           7.000000     10.000000   1.000000\n",
       "max          12.000000          10.000000     10.000000   1.000000"
      ]
     },
     "execution_count": 6,
     "metadata": {},
     "output_type": "execute_result"
    }
   ],
   "source": [
    "dfAlumnos.describe()"
   ]
  },
  {
   "cell_type": "code",
   "execution_count": 7,
   "metadata": {},
   "outputs": [
    {
     "data": {
      "text/plain": [
       "aprobo\n",
       "1    27\n",
       "0    23\n",
       "Name: count, dtype: int64"
      ]
     },
     "execution_count": 7,
     "metadata": {},
     "output_type": "execute_result"
    }
   ],
   "source": [
    "dfAlumnos.aprobo.value_counts()"
   ]
  },
  {
   "cell_type": "code",
   "execution_count": 17,
   "metadata": {},
   "outputs": [
    {
     "data": {
      "text/plain": [
       "<matplotlib.collections.PathCollection at 0x238d32ab340>"
      ]
     },
     "execution_count": 17,
     "metadata": {},
     "output_type": "execute_result"
    },
    {
     "data": {
      "image/png": "[encoded data removed]",
      "text/plain": [
       "<Figure size 640x480 with 1 Axes>"
      ]
     },
     "metadata": {},
     "output_type": "display_data"
    }
   ],
   "source": [
    "#visualizamos nuestra informacion\n",
    "#los colores de los puntos indican si ese alumno en particular pasó o no\n",
    "plt.scatter(dfAlumnos.sesionesAsistidas,dfAlumnos.horasInvertidas,c = dfAlumnos.aprobo)"
   ]
  },
  {
   "cell_type": "code",
   "execution_count": 18,
   "metadata": {},
   "outputs": [
    {
     "data": {
      "text/plain": [
       "<matplotlib.collections.PathCollection at 0x238d32da940>"
      ]
     },
     "execution_count": 18,
     "metadata": {},
     "output_type": "execute_result"
    },
    {
     "data": {
      "image/png": "[encoded data removed]",
      "text/plain": [
       "<Figure size 640x480 with 1 Axes>"
      ]
     },
     "metadata": {},
     "output_type": "display_data"
    }
   ],
   "source": [
    "#los colores de los puntos indican la calficación de los alumnos\n",
    "plt.scatter(dfAlumnos.sesionesAsistidas,dfAlumnos.horasInvertidas,c = dfAlumnos.calificacion)"
   ]
  },
  {
   "cell_type": "code",
   "execution_count": 10,
   "metadata": {},
   "outputs": [],
   "source": [
    "dfAlumnosPrueba = pd.DataFrame(listaAlumnosPrueba,columns=['horasInvertidas', 'sesionesAsistidas','calificacion','aprobo'])"
   ]
  },
  {
   "attachments": {},
   "cell_type": "markdown",
   "metadata": {},
   "source": [
    "## Clasificador"
   ]
  },
  {
   "attachments": {},
   "cell_type": "markdown",
   "metadata": {},
   "source": [
    "Constantes"
   ]
  },
  {
   "cell_type": "code",
   "execution_count": 11,
   "metadata": {},
   "outputs": [],
   "source": [
    "BATCH_SIZE = 5 # tamaño de bache\n",
    "EPOCHS = 10 #iteraciones de propagación sobre todos los datos de entrenamiento\n",
    "LEARNING_RATE = .001# velocidad de aprendizaje"
   ]
  },
  {
   "attachments": {},
   "cell_type": "markdown",
   "metadata": {},
   "source": [
    "Generamos el modelo con una capa oculta de 100 neuronas."
   ]
  },
  {
   "cell_type": "code",
   "execution_count": 12,
   "metadata": {},
   "outputs": [],
   "source": [
    "clasificadorModel = tf.keras.Sequential([\n",
    "   tf.keras.layers.Dense(100,activation=\"linear\"),#capa oculta de 100 neuronas con activación lineal \n",
    "   tf.keras.layers.Dense(1,activation='sigmoid') #capa de salida, activación sigmoid para devolver 0 o 1 \n",
    "])"
   ]
  },
  {
   "attachments": {},
   "cell_type": "markdown",
   "metadata": {},
   "source": [
    "Definimos el optimizador"
   ]
  },
  {
   "cell_type": "code",
   "execution_count": 13,
   "metadata": {},
   "outputs": [],
   "source": [
    "optimizador = tf.keras.optimizers.Adam(learning_rate=LEARNING_RATE)#puedes usar el optimzador de tu preferencia"
   ]
  },
  {
   "attachments": {},
   "cell_type": "markdown",
   "metadata": {},
   "source": [
    "Compilamos"
   ]
  },
  {
   "cell_type": "code",
   "execution_count": 14,
   "metadata": {},
   "outputs": [],
   "source": [
    "clasificadorModel.compile(\n",
    "   optimizer = optimizador,\n",
    "   loss = 'binary_crossentropy',#la funcion de perdida, en este caso binary_crossentropy debido a ques es una clasificacion de 0 o 1\n",
    "   metrics = ['accuracy'] #metricas que queremos obtener en el entrenamiento, en este caso presición\n",
    ")"
   ]
  },
  {
   "attachments": {},
   "cell_type": "markdown",
   "metadata": {},
   "source": [
    "Entrenamos"
   ]
  },
  {
   "cell_type": "code",
   "execution_count": 15,
   "metadata": {},
   "outputs": [
    {
     "name": "stdout",
     "output_type": "stream",
     "text": [
      "Epoch 1/10\n",
      "10/10 [==============================] - 1s 25ms/step - loss: 1.1262 - accuracy: 0.5400 - val_loss: 0.6957 - val_accuracy: 0.6000\n",
      "Epoch 2/10\n",
      "10/10 [==============================] - 0s 6ms/step - loss: 0.7795 - accuracy: 0.5400 - val_loss: 0.5769 - val_accuracy: 0.6000\n",
      "Epoch 3/10\n",
      "10/10 [==============================] - 0s 6ms/step - loss: 0.6128 - accuracy: 0.5800 - val_loss: 0.4600 - val_accuracy: 0.8000\n",
      "Epoch 4/10\n",
      "10/10 [==============================] - 0s 4ms/step - loss: 0.5028 - accuracy: 0.7000 - val_loss: 0.3752 - val_accuracy: 0.8000\n",
      "Epoch 5/10\n",
      "10/10 [==============================] - 0s 5ms/step - loss: 0.4547 - accuracy: 0.8200 - val_loss: 0.3434 - val_accuracy: 0.8000\n",
      "Epoch 6/10\n",
      "10/10 [==============================] - 0s 6ms/step - loss: 0.4182 - accuracy: 0.8200 - val_loss: 0.3229 - val_accuracy: 0.8000\n",
      "Epoch 7/10\n",
      "10/10 [==============================] - 0s 6ms/step - loss: 0.4012 - accuracy: 0.8400 - val_loss: 0.3080 - val_accuracy: 0.8000\n",
      "Epoch 8/10\n",
      "10/10 [==============================] - 0s 6ms/step - loss: 0.3874 - accuracy: 0.8400 - val_loss: 0.3067 - val_accuracy: 0.8000\n",
      "Epoch 9/10\n",
      "10/10 [==============================] - 0s 6ms/step - loss: 0.3785 - accuracy: 0.8400 - val_loss: 0.2993 - val_accuracy: 0.8000\n",
      "Epoch 10/10\n",
      "10/10 [==============================] - 0s 6ms/step - loss: 0.3697 - accuracy: 0.8200 - val_loss: 0.2949 - val_accuracy: 0.8000\n"
     ]
    }
   ],
   "source": [
    "historiaDeEntrenamientoClasificador = clasificadorModel.fit(x=dfAlumnos.drop(columns=[\"calificacion\",\"aprobo\"]),y=dfAlumnos.aprobo,batch_size=BATCH_SIZE,epochs=EPOCHS,validation_data=(dfAlumnosPrueba.drop(columns=[\"calificacion\",\"aprobo\"]),dfAlumnosPrueba.aprobo))"
   ]
  },
  {
   "cell_type": "code",
   "execution_count": 16,
   "metadata": {},
   "outputs": [
    {
     "data": {
      "text/plain": [
       "Text(0.5, 0, 'iteracion')"
      ]
     },
     "execution_count": 16,
     "metadata": {},
     "output_type": "execute_result"
    },
    {
     "data": {
      "image/png": "[encoded data removed]",
      "text/plain": [
       "<Figure size 640x480 with 1 Axes>"
      ]
     },
     "metadata": {},
     "output_type": "display_data"
    }
   ],
   "source": [
    "plt.plot(historiaDeEntrenamientoClasificador.history['loss'])   \n",
    "plt.plot(historiaDeEntrenamientoClasificador.history['val_loss'])   \n",
    "plt.title('Perdida del modelo')  \n",
    "plt.ylabel('perdida')  \n",
    "plt.xlabel('iteracion')  "
   ]
  }
 ],
 "metadata": {
  "kernelspec": {
   "display_name": "Python 3",
   "language": "python",
   "name": "python3"
  },
  "language_info": {
   "codemirror_mode": {
    "name": "ipython",
    "version": 3
   },
   "file_extension": ".py",
   "mimetype": "text/x-python",
   "name": "python",
   "nbconvert_exporter": "python",
   "pygments_lexer": "ipython3",
   "version": "3.9.7"
  },
  "orig_nbformat": 4
 },
 "nbformat": 4,
 "nbformat_minor": 2
}
